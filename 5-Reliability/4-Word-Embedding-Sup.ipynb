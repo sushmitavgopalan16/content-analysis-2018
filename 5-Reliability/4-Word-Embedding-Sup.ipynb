{
 "cells": [
  {
   "cell_type": "markdown",
   "metadata": {},
   "source": [
    "# Week 4 - Word Embeddings Supplemental\n",
    "\n",
    "This notebook contains two additional uses for word embeddings\n",
    "\n",
    "For this notebook we will be using the following packages"
   ]
  },
  {
   "cell_type": "code",
   "execution_count": 153,
   "metadata": {
    "collapsed": true
   },
   "outputs": [],
   "source": [
    "#Special module written for this class\n",
    "#This provides access to data and to helper functions from previous weeks\n",
    "#Make sure you update it before starting this notebook\n",
    "import lucem_illud #pip install -U git+git://github.com/Computational-Content-Analysis-2018/lucem_illud.git\n",
    "\n",
    "#All these packages need to be installed from pip\n",
    "import gensim#For word2vec, etc\n",
    "import requests #For downloading our datasets\n",
    "import nltk #For stop words and stemmers\n",
    "import numpy as np #For arrays\n",
    "import pandas as pd#Gives us DataFrames\n",
    "import matplotlib.pyplot as plt #For graphics\n",
    "import seaborn #Makes the graphics look nicer\n",
    "import sklearn.metrics.pairwise #For cosine similarity\n",
    "import sklearn.manifold #For T-SNE\n",
    "import sklearn.decomposition #For PCA\n",
    "import copy\n",
    "\n",
    "#gensim uses a couple of deprecated features\n",
    "#we can't do anything about them so lets ignore them \n",
    "import warnings\n",
    "warnings.filterwarnings(\"ignore\", category=DeprecationWarning) \n",
    "\n",
    "#This 'magic' command makes the plots work better\n",
    "#in the notebook, don't use it outside of a notebook.\n",
    "#Also you can ignore the warning\n",
    "%matplotlib inline\n",
    "\n",
    "import os #For looking through files\n",
    "import os.path #For managing file paths"
   ]
  },
  {
   "cell_type": "markdown",
   "metadata": {},
   "source": [
    "# Linguistic Change"
   ]
  },
  {
   "cell_type": "markdown",
   "metadata": {},
   "source": [
    "Below is code that aligns the dimensions of multiple embeddings arrayed over time or some other dimension and allow identification of semantic chanage as the word vectors change their loadings for focal words. This code comes from the approach piloted at Stanford by William Hamilton, Daniel Jurafsky and Jure Lescovec [here](https://arxiv.org/pdf/1605.09096.pdf). "
   ]
  },
  {
   "cell_type": "code",
   "execution_count": 154,
   "metadata": {
    "collapsed": true
   },
   "outputs": [],
   "source": [
    "def calc_syn0norm(model):\n",
    "    \"\"\"since syn0norm is now depricated\"\"\"\n",
    "    return (model.wv.syn0 / np.sqrt((model.wv.syn0 ** 2).sum(-1))[..., np.newaxis]).astype(np.float32)\n",
    "\n",
    "def smart_procrustes_align_gensim(base_embed, other_embed, words=None):\n",
    "    \"\"\"Procrustes align two gensim word2vec models (to allow for comparison between same word across models).\n",
    "    Code ported from HistWords <https://github.com/williamleif/histwords> by William Hamilton <wleif@stanford.edu>.\n",
    "    (With help from William. Thank you!)\n",
    "    First, intersect the vocabularies (see `intersection_align_gensim` documentation).\n",
    "    Then do the alignment on the other_embed model.\n",
    "    Replace the other_embed model's syn0 and syn0norm numpy matrices with the aligned version.\n",
    "    Return other_embed.\n",
    "    If `words` is set, intersect the two models' vocabulary with the vocabulary in words (see `intersection_align_gensim` documentation).\n",
    "    \"\"\"\n",
    "    base_embed = copy.copy(base_embed)\n",
    "    other_embed = copy.copy(other_embed)\n",
    "    # make sure vocabulary and indices are aligned\n",
    "    in_base_embed, in_other_embed = intersection_align_gensim(base_embed, other_embed, words=words)\n",
    "\n",
    "    # get the embedding matrices\n",
    "    base_vecs = calc_syn0norm(in_base_embed)\n",
    "    other_vecs = calc_syn0norm(in_other_embed)\n",
    "\n",
    "    # just a matrix dot product with numpy\n",
    "    m = other_vecs.T.dot(base_vecs) \n",
    "    # SVD method from numpy\n",
    "    u, _, v = np.linalg.svd(m)\n",
    "    # another matrix operation\n",
    "    ortho = u.dot(v) \n",
    "    # Replace original array with modified one\n",
    "    # i.e. multiplying the embedding matrix (syn0norm)by \"ortho\"\n",
    "    other_embed.wv.syn0norm = other_embed.wv.syn0 = (calc_syn0norm(other_embed)).dot(ortho)\n",
    "    return other_embed\n",
    "    \n",
    "def intersection_align_gensim(m1,m2, words=None):\n",
    "    \"\"\"\n",
    "    Intersect two gensim word2vec models, m1 and m2.\n",
    "    Only the shared vocabulary between them is kept.\n",
    "    If 'words' is set (as list or set), then the vocabulary is intersected with this list as well.\n",
    "    Indices are re-organized from 0..N in order of descending frequency (=sum of counts from both m1 and m2).\n",
    "    These indices correspond to the new syn0 and syn0norm objects in both gensim models:\n",
    "        -- so that Row 0 of m1.syn0 will be for the same word as Row 0 of m2.syn0\n",
    "        -- you can find the index of any word on the .index2word list: model.index2word.index(word) => 2\n",
    "    The .vocab dictionary is also updated for each model, preserving the count but updating the index.\n",
    "    \"\"\"\n",
    "\n",
    "    # Get the vocab for each model\n",
    "    vocab_m1 = set(m1.wv.vocab.keys())\n",
    "    vocab_m2 = set(m2.wv.vocab.keys())\n",
    "\n",
    "    # Find the common vocabulary\n",
    "    common_vocab = vocab_m1&vocab_m2\n",
    "    if words: common_vocab&=set(words)\n",
    "\n",
    "    # If no alignment necessary because vocab is identical...\n",
    "    if not vocab_m1-common_vocab and not vocab_m2-common_vocab:\n",
    "        return (m1,m2)\n",
    "\n",
    "    # Otherwise sort by frequency (summed for both)\n",
    "    common_vocab = list(common_vocab)\n",
    "    common_vocab.sort(key=lambda w: m1.wv.vocab[w].count + m2.wv.vocab[w].count,reverse=True)\n",
    "\n",
    "    # Then for each model...\n",
    "    for m in [m1,m2]:\n",
    "        # Replace old syn0norm array with new one (with common vocab)\n",
    "        indices = [m.wv.vocab[w].index for w in common_vocab]\n",
    "        old_arr = calc_syn0norm(m)\n",
    "        new_arr = np.array([old_arr[index] for index in indices])\n",
    "        m.wv.syn0norm = m.wv.syn0 = new_arr\n",
    "\n",
    "        # Replace old vocab dictionary with new one (with common vocab)\n",
    "        # and old index2word with new one\n",
    "        m.index2word = common_vocab\n",
    "        old_vocab = m.wv.vocab\n",
    "        new_vocab = {}\n",
    "        for new_index,word in enumerate(common_vocab):\n",
    "            old_vocab_obj=old_vocab[word]\n",
    "            new_vocab[word] = gensim.models.word2vec.Vocab(index=new_index, count=old_vocab_obj.count)\n",
    "        m.wv.vocab = new_vocab\n",
    "\n",
    "    return (m1,m2)"
   ]
  },
  {
   "cell_type": "markdown",
   "metadata": {},
   "source": [
    "The corpus I'm using for this exercise is a set of \"the religious and ideological texts (Muslim, Christian, Jewish, and other) used in ISIS English-based magazines\" - Dabiq and Rumiyah between 2014 and 2017. It can be found here - https://www.kaggle.com/fifthtribe/isis-religious-texts."
   ]
  },
  {
   "cell_type": "code",
   "execution_count": 116,
   "metadata": {
    "collapsed": false
   },
   "outputs": [],
   "source": [
    "ascoDF = pandas.read_csv(\"test.csv\", index_col=0)\n",
    "\n",
    "def make_year(row):\n",
    "    if '14' in row['Date']:\n",
    "        return \"2014\"\n",
    "    if '15' in row['Date']:\n",
    "        return \"2015\"\n",
    "    if '16' in row['Date']:\n",
    "        return \"2016\"\n",
    "    if '17' in row['Date']:\n",
    "        return \"2017\"\n",
    "\n",
    "ascoDF['year'] = ascoDF.apply (lambda row: make_year(row),axis=1)"
   ]
  },
  {
   "cell_type": "markdown",
   "metadata": {},
   "source": [
    "Prepare for wor2vec"
   ]
  },
  {
   "cell_type": "code",
   "execution_count": 117,
   "metadata": {
    "collapsed": false
   },
   "outputs": [],
   "source": [
    "ascoDF['Quote'] = ascoDF['Quote'].astype(str)\n",
    "ascoDF['tokenized_sents'] = ascoDF['Quote'].apply(lambda x: [nltk.word_tokenize(s) for s in nltk.sent_tokenize(x)])\n",
    "ascoDF['normalized_sents'] = ascoDF['tokenized_sents'].apply(lambda x: [lucem_illud.normalizeTokens(s, stopwordLst = lucem_illud.stop_words_basic) for s in x])"
   ]
  },
  {
   "cell_type": "markdown",
   "metadata": {},
   "source": [
    "We will be creating many embeddings so we have created this function to do most of the work. It creates two collections of embeddings, one the original and one the aligned."
   ]
  },
  {
   "cell_type": "code",
   "execution_count": 118,
   "metadata": {
    "collapsed": false
   },
   "outputs": [],
   "source": [
    "def compareModels(df, category, sort = True):\n",
    "    \"\"\"If you are using time as your category sorting is important\"\"\"\n",
    "    embeddings_raw = {}\n",
    "    cats = sorted(set(df[category]))\n",
    "    for cat in cats:\n",
    "        #This can take a while\n",
    "        print(\"Embedding {}\".format(cat), end = '\\r')\n",
    "        subsetDF = df[df[category] == cat]\n",
    "        #You might want to change the W2V parameters\n",
    "        embeddings_raw[cat] = gensim.models.word2vec.Word2Vec(subsetDF['normalized_sents'].sum())\n",
    "    #These are much quicker\n",
    "    embeddings_aligned = {}\n",
    "    for catOuter in cats:\n",
    "        embeddings_aligned[catOuter] = [embeddings_raw[catOuter]]\n",
    "        for catInner in cats:\n",
    "            embeddings_aligned[catOuter].append(smart_procrustes_align_gensim(embeddings_aligned[catOuter][-1], embeddings_raw[catInner]))\n",
    "    return embeddings_raw, embeddings_aligned"
   ]
  },
  {
   "cell_type": "markdown",
   "metadata": {},
   "source": [
    "Now we generate the models"
   ]
  },
  {
   "cell_type": "code",
   "execution_count": 119,
   "metadata": {
    "collapsed": false
   },
   "outputs": [
    {
     "name": "stdout",
     "output_type": "stream",
     "text": []
    }
   ],
   "source": [
    "rawEmbeddings, comparedEmbeddings = compareModels(ascoDF, 'year')"
   ]
  },
  {
   "cell_type": "markdown",
   "metadata": {},
   "source": [
    "We need to compare them across all permutions so we will define another function to help, we will be using 1 - cosine similarity as that gives a more intitive range of 0-2 with low values meaning little change and high meaning lots of change"
   ]
  },
  {
   "cell_type": "code",
   "execution_count": 120,
   "metadata": {
    "collapsed": false
   },
   "outputs": [],
   "source": [
    "def getDivergenceDF(word, embeddingsDict):\n",
    "    dists = []\n",
    "    cats = sorted(set(embeddingsDict.keys()))\n",
    "    dists = {}\n",
    "    for cat in cats:\n",
    "        dists[cat] = []\n",
    "        for embed in embeddingsDict[cat][1:]:\n",
    "            dists[cat].append(np.abs(1 - sklearn.metrics.pairwise.cosine_similarity(np.expand_dims(embeddingsDict[cat][0][word], axis = 0),\n",
    "                                                                             np.expand_dims(embed[word], axis = 0))[0,0]))\n",
    "    return pandas.DataFrame(dists, index = cats)"
   ]
  },
  {
   "cell_type": "markdown",
   "metadata": {},
   "source": [
    "Lets look at a couple words"
   ]
  },
  {
   "cell_type": "code",
   "execution_count": 155,
   "metadata": {
    "collapsed": false
   },
   "outputs": [
    {
     "data": {
      "image/png": "[encoded data removed]",
      "text/plain": [
       "<matplotlib.figure.Figure at 0x1322f65c0>"
      ]
     },
     "metadata": {},
     "output_type": "display_data"
    }
   ],
   "source": [
    "targetWord = 'iraq'\n",
    "\n",
    "pltDF = getDivergenceDF(targetWord, comparedEmbeddings)\n",
    "fig, ax = plt.subplots(figsize = (7, 5))\n",
    "seaborn.heatmap(pltDF, ax = ax, annot = False) #set annot True for a lot more information\n",
    "ax.set_xlabel(\"Starting year\")\n",
    "ax.set_ylabel(\"Final year\")\n",
    "ax.set_ylabel(\"Final year\")\n",
    "ax.set_title(\"Yearly linguistic change for: '{}'\".format(targetWord))\n",
    "plt.show()"
   ]
  },
  {
   "cell_type": "code",
   "execution_count": 161,
   "metadata": {
    "collapsed": false
   },
   "outputs": [
    {
     "data": {
      "image/png": "[encoded data removed]",
      "text/plain": [
       "<matplotlib.figure.Figure at 0x1307186d8>"
      ]
     },
     "metadata": {},
     "output_type": "display_data"
    }
   ],
   "source": [
    "targetWord = 'religion'\n",
    "\n",
    "pltDF = getDivergenceDF(targetWord, comparedEmbeddings)\n",
    "fig, ax = plt.subplots(figsize = (10, 7))\n",
    "seaborn.heatmap(pltDF, ax = ax, annot = False) #set annot True for a lot more information\n",
    "ax.set_xlabel(\"Starting year\")\n",
    "ax.set_ylabel(\"Final year\")\n",
    "ax.set_ylabel(\"Final year\")\n",
    "ax.set_title(\"Yearly linguistic change for: '{}'\".format(targetWord))\n",
    "plt.show()"
   ]
  },
  {
   "cell_type": "markdown",
   "metadata": {},
   "source": [
    "We can also ask which words changed the most"
   ]
  },
  {
   "cell_type": "markdown",
   "metadata": {},
   "source": [
    "## The heatmap shows that the usage of the word 'Iraq' is very different across 2014 and 2015, and across 2014-2017, but doesn't change much in the other years. 2014 represents the start of the Iraqi Civil War while 2017 was when the crisis in Syria truly escalated. The word 'religion' remains similarly distributed across 2015-2017 suggesting that no significant ideological shift towards the ISIS's attitude towards religion has occurred. \n"
   ]
  },
  {
   "cell_type": "code",
   "execution_count": 158,
   "metadata": {
    "collapsed": false
   },
   "outputs": [],
   "source": [
    "def findDiverence(word, embeddingsDict):\n",
    "    cats = sorted(set(embeddingsDict.keys()))\n",
    "    \n",
    "    dists = []\n",
    "    for embed in embeddingsDict[cats[0]][1:]:\n",
    "        dists.append(1 - sklearn.metrics.pairwise.cosine_similarity(np.expand_dims(embeddingsDict[cats[0]][0][word], axis = 0), np.expand_dims(embed[word], axis = 0))[0,0])\n",
    "    return sum(dists)\n",
    "\n",
    "def findMostDivergent(embeddingsDict):\n",
    "    words = []\n",
    "    for embeds in embeddingsDict.values():\n",
    "        for embed in embeds:\n",
    "            words += list(embed.wv.vocab.keys())\n",
    "    words = set(words)\n",
    "    print(\"Found {} words to compare\".format(len(words)))\n",
    "    return sorted([(w, findDiverence(w, embeddingsDict)) for w in words], key = lambda x: x[1], reverse=True)\n",
    "    "
   ]
  },
  {
   "cell_type": "code",
   "execution_count": 159,
   "metadata": {
    "collapsed": false
   },
   "outputs": [
    {
     "name": "stdout",
     "output_type": "stream",
     "text": [
      "Found 364 words to compare\n"
     ]
    }
   ],
   "source": [
    "wordDivergences = findMostDivergent(comparedEmbeddings)"
   ]
  },
  {
   "cell_type": "markdown",
   "metadata": {},
   "source": [
    "The most divergent words are:"
   ]
  },
  {
   "cell_type": "code",
   "execution_count": 160,
   "metadata": {
    "collapsed": false
   },
   "outputs": [
    {
     "data": {
      "text/plain": [
       "[('decre', 0.54971528053283691),\n",
       " ('noth', 0.53706949949264526),\n",
       " ('consid', 0.52318120002746582),\n",
       " ('must', 0.48619639873504639),\n",
       " ('inherit', 0.465953528881073),\n",
       " ('prohibit', 0.44258975982666016),\n",
       " ('hurayrah', 0.42555415630340576),\n",
       " ('pray', 0.41072684526443481),\n",
       " ('sever', 0.37953263521194458),\n",
       " ('safe', 0.35860055685043335),\n",
       " ('complet', 0.35467398166656494),\n",
       " ('realiti', 0.3475835919380188),\n",
       " ('lead', 0.34433817863464355),\n",
       " ('forth', 0.34194362163543701),\n",
       " ('hate', 0.29952532052993774),\n",
       " ('banner', 0.29753953218460083),\n",
       " ('fitnah', 0.28955972194671631),\n",
       " ('true', 0.28565728664398193),\n",
       " ('action', 0.27891141176223755),\n",
       " ('power', 0.27797013521194458),\n",
       " ('heard', 0.2703813910484314),\n",
       " ('thereaft', 0.26990091800689697),\n",
       " ('oppos', 0.26840859651565552),\n",
       " ('guid', 0.26811480522155762),\n",
       " ('syrian', 0.26464253664016724),\n",
       " ('eye', 0.25756466388702393),\n",
       " ('patient', 0.25019311904907227),\n",
       " ('strike', 0.24734890460968018),\n",
       " ('carri', 0.24441432952880859),\n",
       " ('men', 0.23840153217315674),\n",
       " ('likewis', 0.2378087043762207),\n",
       " ('parti', 0.23726099729537964),\n",
       " ('sake', 0.23484230041503906),\n",
       " ('refug', 0.22529679536819458),\n",
       " ('none', 0.22411823272705078),\n",
       " ('describ', 0.2219383716583252),\n",
       " ('worship', 0.22115647792816162),\n",
       " ('merci', 0.22065478563308716),\n",
       " ('requir', 0.22003710269927979),\n",
       " ('understand', 0.21730953454971313),\n",
       " ('suffici', 0.21070432662963867),\n",
       " ('might', 0.21017742156982422),\n",
       " ('wage', 0.20986479520797729),\n",
       " ('well', 0.2058112621307373),\n",
       " ('sunnah', 0.2034003734588623),\n",
       " ('ever', 0.20270127058029175),\n",
       " ('arab', 0.20246118307113647),\n",
       " ('reward', 0.2015112042427063),\n",
       " ('coven', 0.19782775640487671),\n",
       " ('guidanc', 0.19585663080215454),\n",
       " ('act', 0.18762791156768799),\n",
       " ('jannah', 0.18339169025421143),\n",
       " ('remind', 0.17683178186416626),\n",
       " ('harsh', 0.17540246248245239),\n",
       " ('disobey', 0.17291939258575439),\n",
       " ('prais', 0.1728091835975647),\n",
       " ('wait', 0.16941887140274048),\n",
       " ('exampl', 0.16904503107070923),\n",
       " ('five', 0.16820704936981201),\n",
       " ('detach', 0.16439187526702881),\n",
       " ('therebi', 0.16327953338623047),\n",
       " ('gain', 0.16125732660293579),\n",
       " ('level', 0.16090291738510132),\n",
       " ('three', 0.15983140468597412),\n",
       " ('direct', 0.15957927703857422),\n",
       " ('extent', 0.15789258480072021),\n",
       " ('conquer', 0.15407902002334595),\n",
       " ('oblig', 0.15216118097305298),\n",
       " ('themselv', 0.15101253986358643),\n",
       " ('wish', 0.15056544542312622),\n",
       " ('kufr', 0.14747446775436401),\n",
       " ('bless', 0.14666628837585449),\n",
       " ('front', 0.14528363943099976),\n",
       " ('water', 0.14499825239181519),\n",
       " ('need', 0.14359599351882935),\n",
       " ('prayer', 0.14329272508621216),\n",
       " ('anyon', 0.14291083812713623),\n",
       " ('ab', 0.14222931861877441),\n",
       " ('yourselv', 0.14216232299804688),\n",
       " ('benefit', 0.14184796810150146),\n",
       " ('head', 0.14012706279754639),\n",
       " ('supplic', 0.13972634077072144),\n",
       " ('night', 0.13267654180526733),\n",
       " ('brought', 0.13194769620895386),\n",
       " ('ignor', 0.13089406490325928),\n",
       " ('therefor', 0.13083785772323608),\n",
       " ('strength', 0.130776047706604),\n",
       " ('reason', 0.12964832782745361),\n",
       " ('year', 0.12891799211502075),\n",
       " ('f', 0.12830203771591187),\n",
       " ('affair', 0.1266215443611145),\n",
       " ('refer', 0.1248430609703064),\n",
       " ('form', 0.12449246644973755),\n",
       " ('reveal', 0.12379264831542969),\n",
       " ('b', 0.12299448251724243),\n",
       " ('hear', 0.12247490882873535),\n",
       " ('emerg', 0.12057453393936157),\n",
       " ('emigr', 0.1192970871925354),\n",
       " ('success', 0.11809486150741577),\n",
       " ('spread', 0.11794906854629517),\n",
       " ('evid', 0.11727547645568848),\n",
       " ('accept', 0.1171528697013855),\n",
       " ('behind', 0.1169968843460083),\n",
       " ('weak', 0.11689889430999756),\n",
       " ('aid', 0.11537307500839233),\n",
       " ('proof', 0.11399298906326294),\n",
       " ('side', 0.11234027147293091),\n",
       " ('obedi', 0.11202496290206909),\n",
       " ('achiev', 0.11008763313293457),\n",
       " ('forgiv', 0.11006009578704834),\n",
       " ('help', 0.10992461442947388),\n",
       " ('fire', 0.10970824956893921),\n",
       " ('inform', 0.10964357852935791),\n",
       " ('told', 0.10919022560119629),\n",
       " ('rais', 0.10852247476577759),\n",
       " ('chang', 0.10764926671981812),\n",
       " ('deed', 0.10701239109039307),\n",
       " ('great', 0.10700750350952148),\n",
       " ('togeth', 0.10677808523178101),\n",
       " ('tri', 0.10163682699203491),\n",
       " ('new', 0.10139250755310059),\n",
       " ('fall', 0.10039865970611572),\n",
       " ('expect', 0.09771573543548584),\n",
       " ('appear', 0.095743060111999512),\n",
       " ('matter', 0.09532773494720459),\n",
       " ('becam', 0.095216214656829834),\n",
       " ('last', 0.093519032001495361),\n",
       " ('forc', 0.092579424381256104),\n",
       " ('book', 0.092472076416015625),\n",
       " ('oppress', 0.091609477996826172),\n",
       " ('speech', 0.090247035026550293),\n",
       " ('lie', 0.089456796646118164),\n",
       " ('unit', 0.089392662048339844),\n",
       " ('brother', 0.089314877986907959),\n",
       " ('companion', 0.088844656944274902),\n",
       " ('dislik', 0.087677001953125),\n",
       " ('defeat', 0.087557077407836914),\n",
       " ('repli', 0.087327301502227783),\n",
       " ('issu', 0.086898386478424072),\n",
       " ('think', 0.086581528186798096),\n",
       " ('evil', 0.085556566715240479),\n",
       " ('righteous', 0.085257351398468018),\n",
       " ('face', 0.085123836994171143),\n",
       " ('hereaft', 0.083497703075408936),\n",
       " ('citi', 0.083339989185333252),\n",
       " ('regard', 0.081981956958770752),\n",
       " ('mushrik', 0.080532193183898926),\n",
       " ('show', 0.080272078514099121),\n",
       " ('answer', 0.079514682292938232),\n",
       " ('due', 0.078989148139953613),\n",
       " ('differ', 0.078982353210449219),\n",
       " ('want', 0.07886117696762085),\n",
       " ('christian', 0.078542649745941162),\n",
       " ('curs', 0.078331589698791504),\n",
       " ('women', 0.076588451862335205),\n",
       " ('firm', 0.076432764530181885),\n",
       " ('live', 0.075481414794921875),\n",
       " ('posit', 0.074618995189666748),\n",
       " ('sit', 0.074086904525756836),\n",
       " ('divid', 0.073965787887573242),\n",
       " ('either', 0.073674857616424561),\n",
       " ('seek', 0.071873724460601807),\n",
       " ('singl', 0.071628570556640625),\n",
       " ('whether', 0.071542263031005859),\n",
       " ('desir', 0.07062995433807373),\n",
       " ('stand', 0.070609033107757568),\n",
       " ('sure', 0.070591926574707031),\n",
       " ('reli', 0.069471538066864014),\n",
       " ('home', 0.068361341953277588),\n",
       " ('punish', 0.068198025226593018),\n",
       " ('sword', 0.068087637424468994),\n",
       " ('religi', 0.068001151084899902),\n",
       " ('afflict', 0.067607283592224121),\n",
       " ('number', 0.065545916557312012),\n",
       " ('opinion', 0.064728796482086182),\n",
       " ('promis', 0.064119458198547363),\n",
       " ('right', 0.063801348209381104),\n",
       " ('hold', 0.063475966453552246),\n",
       " ('find', 0.06341320276260376),\n",
       " ('given', 0.062314450740814209),\n",
       " ('grant', 0.062257647514343262),\n",
       " ('mani', 0.060743927955627441),\n",
       " ('law', 0.059908032417297363),\n",
       " ('fals', 0.058231592178344727),\n",
       " ('save', 0.057286083698272705),\n",
       " ('seen', 0.056174218654632568),\n",
       " ('alli', 0.055816054344177246),\n",
       " ('thing', 0.055188477039337158),\n",
       " ('rank', 0.055123448371887207),\n",
       " ('clear', 0.055093705654144287),\n",
       " ('rememb', 0.053909838199615479),\n",
       " ('life', 0.05303955078125),\n",
       " ('bring', 0.053020477294921875),\n",
       " ('end', 0.05285489559173584),\n",
       " ('prepar', 0.051301419734954834),\n",
       " ('pass', 0.051095306873321533),\n",
       " ('veri', 0.051018655300140381),\n",
       " ('speak', 0.050134360790252686),\n",
       " ('third', 0.048115849494934082),\n",
       " ('respond', 0.048035562038421631),\n",
       " ('certain', 0.047398090362548828),\n",
       " ('perform', 0.047096312046051025),\n",
       " ('tribe', 0.046421706676483154),\n",
       " ('abl', 0.046388447284698486),\n",
       " ('tide', 0.045446336269378662),\n",
       " ('get', 0.04520106315612793),\n",
       " ('sent', 0.045078456401824951),\n",
       " ('obey', 0.044995367527008057),\n",
       " ('go', 0.043714463710784912),\n",
       " ('whose', 0.042419850826263428),\n",
       " ('soldier', 0.042165696620941162),\n",
       " ('saw', 0.041978359222412109),\n",
       " ('humili', 0.04182809591293335),\n",
       " ('path', 0.041138947010040283),\n",
       " ('today', 0.041032850742340088),\n",
       " ('left', 0.040779709815979004),\n",
       " ('children', 0.040000855922698975),\n",
       " ('fighter', 0.039304971694946289),\n",
       " ('taken', 0.03907400369644165),\n",
       " ('name', 0.038933098316192627),\n",
       " ('famili', 0.038818359375),\n",
       " ('near', 0.038173973560333252),\n",
       " ('mention', 0.037026941776275635),\n",
       " ('anoth', 0.036771476268768311),\n",
       " ('person', 0.036231100559234619),\n",
       " ('individu', 0.036226034164428711),\n",
       " ('much', 0.035941898822784424),\n",
       " ('burn', 0.035912811756134033),\n",
       " ('blood', 0.035790979862213135),\n",
       " ('came', 0.035662531852722168),\n",
       " ('faith', 0.035371124744415283),\n",
       " ('establish', 0.035292088985443115),\n",
       " ('scholar', 0.035172045230865479),\n",
       " ('muhammad', 0.034948468208312988),\n",
       " ('destroy', 0.034864842891693115),\n",
       " ('wit', 0.033544957637786865),\n",
       " ('away', 0.032976448535919189),\n",
       " ('use', 0.032035887241363525),\n",
       " ('long', 0.031817734241485596),\n",
       " ('jew', 0.031575798988342285),\n",
       " ('im', 0.03116154670715332),\n",
       " ('wealth', 0.030726075172424316),\n",
       " ('even', 0.030258893966674805),\n",
       " ('way', 0.030212044715881348),\n",
       " ('world', 0.029055535793304443),\n",
       " ('secur', 0.028656840324401855),\n",
       " ('includ', 0.027260363101959229),\n",
       " ('claim', 0.026951193809509277),\n",
       " ('son', 0.026577115058898926),\n",
       " ('concern', 0.02540433406829834),\n",
       " ('part', 0.025377273559570312),\n",
       " ('rule', 0.025296270847320557),\n",
       " ('command', 0.023922860622406006),\n",
       " ('sin', 0.023736178874969482),\n",
       " ('sign', 0.02365034818649292),\n",
       " ('caus', 0.023005068302154541),\n",
       " ('onli', 0.022387027740478516),\n",
       " ('die', 0.02217566967010498),\n",
       " ('thus', 0.021318793296813965),\n",
       " ('back', 0.021076679229736328),\n",
       " ('disbeliev', 0.021055459976196289),\n",
       " ('toward', 0.020863711833953857),\n",
       " ('author', 0.020812749862670898),\n",
       " ('inde', 0.020620524883270264),\n",
       " ('slave', 0.020315349102020264),\n",
       " ('first', 0.020067512989044189),\n",
       " ('turn', 0.019855320453643799),\n",
       " ('never', 0.019591629505157471),\n",
       " ('made', 0.019443809986114502),\n",
       " ('place', 0.019286155700683594),\n",
       " ('battl', 0.018955230712890625),\n",
       " ('leader', 0.018927872180938721),\n",
       " ('reach', 0.01886904239654541),\n",
       " ('let', 0.01871943473815918),\n",
       " ('continu', 0.018399298191070557),\n",
       " ('also', 0.018377900123596191),\n",
       " ('love', 0.018290817737579346),\n",
       " ('permiss', 0.018260836601257324),\n",
       " ('good', 0.018163561820983887),\n",
       " ('statement', 0.017982542514801025),\n",
       " ('best', 0.017858266830444336),\n",
       " ('r', 0.017732977867126465),\n",
       " ('gather', 0.017459332942962646),\n",
       " ('victori', 0.017418861389160156),\n",
       " ('leav', 0.017385125160217285),\n",
       " ('report', 0.01725083589553833),\n",
       " ('like', 0.017095744609832764),\n",
       " ('hand', 0.017020463943481445),\n",
       " ('doe', 0.01701730489730835),\n",
       " ('condit', 0.016921281814575195),\n",
       " ('lord', 0.016856253147125244),\n",
       " ('narrat', 0.016772747039794922),\n",
       " ('rather', 0.016704857349395752),\n",
       " ('day', 0.016563892364501953),\n",
       " ('among', 0.01650547981262207),\n",
       " ('abandon', 0.016503334045410156),\n",
       " ('fear', 0.01635211706161499),\n",
       " ('may', 0.016295433044433594),\n",
       " ('remain', 0.015798330307006836),\n",
       " ('death', 0.015691578388214111),\n",
       " ('give', 0.015663206577301025),\n",
       " ('whoever', 0.015641629695892334),\n",
       " ('hijrah', 0.015310287475585938),\n",
       " ('man', 0.014893829822540283),\n",
       " ('support', 0.014819622039794922),\n",
       " ('truth', 0.014585137367248535),\n",
       " ('group', 0.014384865760803223),\n",
       " ('two', 0.01418757438659668),\n",
       " ('amongst', 0.014167129993438721),\n",
       " ('armi', 0.013887763023376465),\n",
       " ('word', 0.013768613338470459),\n",
       " ('return', 0.013702452182769775),\n",
       " ('know', 0.013622403144836426),\n",
       " ('take', 0.013484418392181396),\n",
       " ('call', 0.013445258140563965),\n",
       " ('religion', 0.013119161128997803),\n",
       " ('befor', 0.013082265853881836),\n",
       " ('crusad', 0.013075411319732666),\n",
       " ('becaus', 0.012980163097381592),\n",
       " ('someth', 0.012879848480224609),\n",
       " ('jih', 0.012719571590423584),\n",
       " ('ani', 0.012676417827606201),\n",
       " ('state', 0.012353062629699707),\n",
       " ('see', 0.012261390686035156),\n",
       " ('ummah', 0.01211392879486084),\n",
       " ('honor', 0.012035727500915527),\n",
       " ('enter', 0.011892378330230713),\n",
       " ('ibn', 0.011729776859283447),\n",
       " ('everi', 0.011469721794128418),\n",
       " ('earth', 0.011245429515838623),\n",
       " ('time', 0.010986864566802979),\n",
       " ('land', 0.010941863059997559),\n",
       " ('come', 0.010850071907043457),\n",
       " ('l', 0.010773181915283203),\n",
       " ('mean', 0.010656774044036865),\n",
       " ('without', 0.010568916797637939),\n",
       " ('heart', 0.010521650314331055),\n",
       " ('except', 0.010365307331085205),\n",
       " ('ask', 0.010328412055969238),\n",
       " ('becom', 0.0099446773529052734),\n",
       " ('make', 0.0091468691825866699),\n",
       " ('kill', 0.0090191364288330078),\n",
       " ('follow', 0.0086719989776611328),\n",
       " ('war', 0.0086611509323120117),\n",
       " ('order', 0.0085549354553222656),\n",
       " ('messeng', 0.0082967877388000488),\n",
       " ('n', 0.0080996155738830566),\n",
       " ('muslim', 0.0078755021095275879),\n",
       " ('fight', 0.0078529715538024902),\n",
       " ('enemi', 0.0077875256538391113),\n",
       " ('islam', 0.0077497363090515137),\n",
       " ('upon', 0.0072090625762939453),\n",
       " ('us', 0.0069488286972045898),\n",
       " ('believ', 0.0068305730819702148),\n",
       " ('would', 0.0067733526229858398),\n",
       " ('say', 0.0065118074417114258),\n",
       " ('prophet', 0.0063116550445556641),\n",
       " ('h', 0.0062211155891418457),\n",
       " ('knowledg', 0.0061681866645812988),\n",
       " ('peopl', 0.0051969289779663086),\n",
       " ('one', 0.0044438838958740234),\n",
       " ('iraq', 0.0043687820434570312),\n",
       " ('said', 0.0029752254486083984),\n",
       " ('allah', 0.0018697977066040039)]"
      ]
     },
     "execution_count": 160,
     "metadata": {},
     "output_type": "execute_result"
    }
   ],
   "source": [
    "wordDivergences"
   ]
  },
  {
   "cell_type": "markdown",
   "metadata": {},
   "source": [
    "And the least"
   ]
  },
  {
   "cell_type": "code",
   "execution_count": 162,
   "metadata": {
    "collapsed": false
   },
   "outputs": [
    {
     "data": {
      "text/plain": [
       "[('would', 0.0067733526229858398),\n",
       " ('say', 0.0065118074417114258),\n",
       " ('prophet', 0.0063116550445556641),\n",
       " ('h', 0.0062211155891418457),\n",
       " ('knowledg', 0.0061681866645812988),\n",
       " ('peopl', 0.0051969289779663086),\n",
       " ('one', 0.0044438838958740234),\n",
       " ('iraq', 0.0043687820434570312),\n",
       " ('said', 0.0029752254486083984),\n",
       " ('allah', 0.0018697977066040039)]"
      ]
     },
     "execution_count": 162,
     "metadata": {},
     "output_type": "execute_result"
    }
   ],
   "source": [
    "wordDivergences[-10:]"
   ]
  },
  {
   "cell_type": "code",
   "execution_count": 163,
   "metadata": {
    "collapsed": false
   },
   "outputs": [
    {
     "data": {
      "image/png": "[encoded data removed]",
      "text/plain": [
       "<matplotlib.figure.Figure at 0x134092860>"
      ]
     },
     "metadata": {},
     "output_type": "display_data"
    }
   ],
   "source": [
    "targetWord = wordDivergences[0][0]\n",
    "\n",
    "pltDF = getDivergenceDF(targetWord, comparedEmbeddings)\n",
    "fig, ax = plt.subplots(figsize = (10, 7))\n",
    "seaborn.heatmap(pltDF, ax = ax, annot = False) #set annot True for a lot more information\n",
    "ax.set_xlabel(\"Starting year\")\n",
    "ax.set_ylabel(\"Final year\")\n",
    "ax.set_ylabel(\"Final year\")\n",
    "ax.set_title(\"Yearly linguistic change for: '{}'\".format(targetWord))\n",
    "plt.show()"
   ]
  },
  {
   "cell_type": "code",
   "execution_count": 152,
   "metadata": {
    "collapsed": false
   },
   "outputs": [
    {
     "data": {
      "image/png": "[encoded data removed]",
      "text/plain": [
       "<matplotlib.figure.Figure at 0x1315560b8>"
      ]
     },
     "metadata": {},
     "output_type": "display_data"
    }
   ],
   "source": [
    "targetWord = wordDivergences[-1][0]\n",
    "\n",
    "pltDF = getDivergenceDF(targetWord, comparedEmbeddings)\n",
    "fig, ax = plt.subplots(figsize = (10, 7))\n",
    "seaborn.heatmap(pltDF, ax = ax, annot = False) #set annot True for a lot more information\n",
    "ax.set_xlabel(\"Starting year\")\n",
    "ax.set_ylabel(\"Final year\")\n",
    "ax.set_ylabel(\"Final year\")\n",
    "ax.set_title(\"Yearly linguistic change for: '{}'\".format(targetWord))\n",
    "plt.show()"
   ]
  },
  {
   "cell_type": "markdown",
   "metadata": {},
   "source": [
    "## Similar to what we observed earlier the root 'decre' and 'allah' do not show variation after the initial flare up of the Iraqi Civil War - between 2015 and 2017>"
   ]
  },
  {
   "cell_type": "code",
   "execution_count": null,
   "metadata": {
    "collapsed": true
   },
   "outputs": [],
   "source": []
  }
 ],
 "metadata": {
  "anaconda-cloud": {},
  "kernelspec": {
   "display_name": "Python [default]",
   "language": "python",
   "name": "python3"
  },
  "language_info": {
   "codemirror_mode": {
    "name": "ipython",
    "version": 3
   },
   "file_extension": ".py",
   "mimetype": "text/x-python",
   "name": "python",
   "nbconvert_exporter": "python",
   "pygments_lexer": "ipython3",
   "version": "3.5.2"
  }
 },
 "nbformat": 4,
 "nbformat_minor": 1
}
