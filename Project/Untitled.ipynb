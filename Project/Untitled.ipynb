{
 "cells": [
  {
   "cell_type": "code",
   "execution_count": 2,
   "metadata": {
    "collapsed": true
   },
   "outputs": [],
   "source": [
    "import pandas as pd\n",
    "import numpy as np\n",
    "import requests\n",
    "from bs4 import BeautifulSoup\n",
    "from urllib.request import urlopen\n",
    "import re\n",
    "import time\n",
    "import warnings\n",
    "warnings.filterwarnings('ignore')"
   ]
  },
  {
   "cell_type": "code",
   "execution_count": 3,
   "metadata": {
    "collapsed": false
   },
   "outputs": [
    {
     "name": "stdout",
     "output_type": "stream",
     "text": [
      "https://www.rollingstone.com/music/features?page=2\n",
      "https://www.rollingstone.com/music/features?page=3\n",
      "https://www.rollingstone.com/music/features?page=4\n",
      "https://www.rollingstone.com/music/features?page=5\n",
      "https://www.rollingstone.com/music/features?page=6\n",
      "https://www.rollingstone.com/music/features?page=7\n",
      "https://www.rollingstone.com/music/features?page=8\n",
      "https://www.rollingstone.com/music/features?page=9\n",
      "https://www.rollingstone.com/music/features?page=10\n",
      "https://www.rollingstone.com/music/features\n",
      "https://www.rollingstone.com/music/features?page=2\n",
      "https://www.rollingstone.com/music/features?page=3\n",
      "https://www.rollingstone.com/music/features?page=4\n",
      "https://www.rollingstone.com/music/features?page=5\n",
      "https://www.rollingstone.com/music/features?page=6\n",
      "https://www.rollingstone.com/music/features?page=7\n",
      "https://www.rollingstone.com/music/features?page=8\n",
      "https://www.rollingstone.com/music/features?page=9\n",
      "https://www.rollingstone.com/music/features?page=10\n"
     ]
    },
    {
     "data": {
      "text/plain": [
       "['http://www.rollingstone.com/music/features/don-henley-talks-hotel-california-reissue-eagles-future-w511253',\n",
       " 'http://www.rollingstone.com/music/features/inxs-kick-10-things-you-didnt-know-w509052',\n",
       " 'http://www.rollingstone.com/music/features/new-kinky-friedman-book-a-wild-party-with-bob-dylan-w511746',\n",
       " 'http://www.rollingstone.com/music/features/jerry-garcia-band-drummer-ron-tutt-on-cats-under-the-stars-w511124',\n",
       " 'http://www.rollingstone.com/music/features/ralph-steadman-on-making-his-first-rap-album-art-w515357',\n",
       " 'http://www.rollingstone.com/music/features/inside-new-grateful-dead-musical-red-roses-green-gold-w511657',\n",
       " 'http://www.rollingstone.com/music/features/taylor-bennett-on-new-label-first-signee-bianca-shaw-w510044',\n",
       " 'http://www.rollingstone.com/music/features/def-leppard-explain-why-they-finally-embraced-streaming-w515643',\n",
       " 'http://www.rollingstone.com/music/features/how-the-grammy-nominations-finally-embraced-hip-hop-w515731',\n",
       " 'http://www.rollingstone.com/music/news/acdcs-malcolm-young-bandmates-admirers-on-guitar-legend-w512792',\n",
       " 'http://www.rollingstone.com/music/features/meat-loaf-on-unlikely-stardom-his-health-bat-out-of-hell-w516067',\n",
       " 'http://www.rollingstone.com/music/features/nicole-atkins-on-quitting-drinking-goodnight-rhonda-lee-w510630',\n",
       " 'http://www.rollingstone.com/music/features/moody-blues-justin-hayward-on-rock-and-roll-hall-of-fame-w513832',\n",
       " 'http://www.rollingstone.com/music/features/erykah-badu-on-pink-floyd-kids-age-fela-kuti-last-word-w514914',\n",
       " 'http://www.rollingstone.com/music/features/dire-straits-john-illsley-on-rock-and-roll-hall-of-fame-w514034',\n",
       " 'http://www.rollingstone.com/music/features/pixar-coco-them-song-natalia-lafourcade-on-mexican-pop-music-w513819',\n",
       " 'http://www.rollingstone.com/music/features/david-byrne-trump-why-he-wont-reunite-talking-heads-w516185',\n",
       " 'http://www.rollingstone.com/music/features/monkees-michael-nesmith-first-national-band-reunion-w515911',\n",
       " 'http://www.rollingstone.com/music/features/inside-egypts-lgbt-crackdown-one-bands-story-w509761',\n",
       " 'http://www.rollingstone.com/music/features/kelly-clarkson-i-am-a-whole-lot-of-woman-and-thats-ok-w510320',\n",
       " 'http://www.rollingstone.com/music/features/bono-u2-state-of-the-world-what-he-learned-from-almost-dying-w514442',\n",
       " 'http://www.rollingstone.com/music/features/im-too-sexy-oral-history-of-right-said-freds-hit-song-w511183',\n",
       " 'http://www.rollingstone.com/music/features/rising-metal-stars-code-orange-forever-grammy-nomination-w516411',\n",
       " 'http://www.rollingstone.com/music/features/kylie-minogue-on-discovering-country-kylie-jenner-dispute-w516181',\n",
       " 'http://www.rollingstone.com/music/features/black-sabbath-on-the-end-it-was-so-weird-saying-goodbye-w509841',\n",
       " 'http://www.rollingstone.com/music/features/camila-cabello-on-life-after-fifth-harmony-cuban-heritage-w514870',\n",
       " 'http://www.rollingstone.com/music/features/serj-tankian-on-system-of-a-down-chris-cornell-film-scores-w514439',\n",
       " 'http://www.rollingstone.com/music/features/david-fricke-on-frank-zappas-1977-halloween-shows-w510431',\n",
       " 'http://www.rollingstone.com/music/features/zz-tops-billy-gibbons-on-cars-marriage-jimi-hendrix-w511024',\n",
       " 'http://www.rollingstone.com/music/features/timbaland-kicked-oxycontin-self-doubt-to-stage-comeback-w512403',\n",
       " 'http://www.rollingstone.com/music/features/black-eyed-peas-william-on-music-tech-fergie-update-w515887',\n",
       " 'http://www.rollingstone.com/music/features/pearl-jam-vs-album-how-band-battled-stardom-on-angry-sophomore-lp-w509750',\n",
       " 'http://www.rollingstone.com/music/features/journey-guitarist-neal-schon-plots-benefit-concert-w514280',\n",
       " 'http://www.rollingstone.com/music/features/how-billboards-new-streaming-rules-will-affect-the-charts-w511351',\n",
       " 'http://www.rollingstone.com/music/features/rapper-dave-east-on-prison-islam-nineties-style-skits-w513539',\n",
       " 'http://www.rollingstone.com/music/features/cranberries-co-founder-noel-hogan-remembers-dolores-oriordan-w515525',\n",
       " 'http://www.rollingstone.com/music/features/little-richard-on-fats-domino-he-could-make-a-piano-talk-w510300',\n",
       " 'http://www.rollingstone.com/music/features/michael-janet-jacksons-hard-rock-beat-it-black-cat-w516521',\n",
       " 'http://www.rollingstone.com/music/features/rocks-early-segregated-days-the-forgotten-history-w509481',\n",
       " 'http://www.rollingstone.com/music/features/inside-country-raps-big-dreams-and-contradictions-w515622',\n",
       " 'http://www.rollingstone.com/music/features/inside-latin-pops-2017-takeover-despacito-and-more-w513592',\n",
       " 'http://www.rollingstone.com/music/features/ty-dolla-ign-on-the-return-of-rb-singing-beach-house-3-w510305',\n",
       " 'http://www.rollingstone.com/music/features/brian-fallon-talks-new-solo-album-gaslight-anthem-reunion-w516547',\n",
       " 'http://www.rollingstone.com/music/features/inside-spongebob-musicals-rock-soundtrack-bowie-and-more-w512793',\n",
       " 'http://www.rollingstone.com/music/features/superchunk-finding-hope-while-resisting-donald-trump-w516621',\n",
       " 'http://www.rollingstone.com/music/features/rhye-inside-woman-follow-up-blood-w515994',\n",
       " 'http://www.rollingstone.com/music/features/hearts-ann-wilson-on-sexism-in-rock-trump-taylor-swift-w512402',\n",
       " 'http://www.rollingstone.com/music/features/why-dont-we-boy-band-wants-to-be-the-next-n-sync-w514510',\n",
       " 'http://www.rollingstone.com/music/features/king-krule-talks-childhood-teenage-stardom-beyonce-w512156',\n",
       " 'http://www.rollingstone.com/music/features/ministrys-al-jourgensen-on-trump-marijuana-psalm-69-w514443',\n",
       " 'http://www.rollingstone.com/music/features/metallica-on-master-of-puppets-cliff-burtons-last-show-w509839',\n",
       " 'http://www.rollingstone.com/music/features/bon-jovi-on-the-rock-and-roll-hall-of-fame-bands-future-w513940',\n",
       " 'http://www.rollingstone.com/music/features/john-mclaughlin-on-final-tour-mahavishnu-orchestra-w509857',\n",
       " 'http://www.rollingstone.com/music/features/journeys-jonathan-cain-talks-neal-schon-feud-new-music-w516763',\n",
       " 'http://www.rollingstone.com/music/features/shoom-inside-the-dance-club-that-kicked-off-rave-culture-w513097',\n",
       " 'http://www.rollingstone.com/music/features/cars-drummer-david-robinson-on-rock-and-roll-hall-of-fame-w513998',\n",
       " 'http://www.rollingstone.com/music/features/richie-sambora-on-bon-jovi-rock-and-roll-hall-of-fame-w514037',\n",
       " 'http://www.rollingstone.com/music/features/franz-ferdinand-new-album-always-ascending-interview-w515974',\n",
       " 'http://www.rollingstone.com/music/features/morrissey-on-politics-david-bowie-fans-animal-rights-w513569',\n",
       " 'http://www.rollingstone.com/music/features/gary-clark-jr-on-cover-of-beatles-come-together-w509833',\n",
       " 'http://www.rollingstone.com/music/features/hear-paul-mccartneys-experimental-christmas-mix-for-beatles-w513932',\n",
       " 'http://www.rollingstone.com/music/features/andy-paley-on-his-spongebob-song-the-best-day-ever-w513381',\n",
       " 'http://www.rollingstone.com/music/features/queens-news-of-the-world-10-things-you-didnt-know-w509957',\n",
       " 'http://www.rollingstone.com/music/features/aerosmiths-joe-perry-talks-sweetzerland-manifesto-solo-lp-w515599',\n",
       " 'http://www.rollingstone.com/music/features/beatles-star-club-tapes-remembering-groups-bar-band-days-w514704',\n",
       " 'http://www.rollingstone.com/music/features/kanye-west-wildest-rolling-stone-interviews-stories-w512159',\n",
       " 'http://www.rollingstone.com/music/features/mgmt-on-new-lp-playing-kids-live-oracular-11-years-later-w515791',\n",
       " 'http://www.rollingstone.com/music/features/portugal-the-man-talk-alaska-origins-feel-it-still-w513078',\n",
       " 'http://www.rollingstone.com/music/features/little-richard-jerry-lee-lewis-remember-fats-domino-w510393',\n",
       " 'http://www.rollingstone.com/music/features/art-garfunkel-on-new-book-the-end-of-simon-and-garfunkel-w510794',\n",
       " 'http://www.rollingstone.com/music/features/justin-timberlake-producer-danja-talks-filthy-w515205',\n",
       " 'http://www.rollingstone.com/music/news/how-pearl-jam-reckoned-with-911-roskilde-on-riot-act-w511441',\n",
       " 'http://www.rollingstone.com/music/features/simple-plans-pierre-bouvier-warped-tour-was-like-no-other-w512096',\n",
       " 'http://www.rollingstone.com/music/features/clarence-clemons-his-final-rolling-stone-interview-w515603',\n",
       " 'http://www.rollingstone.com/music/features/oh-sees-john-dwyer-on-diy-ethic-memory-of-a-cut-off-head-w512076',\n",
       " 'http://www.rollingstone.com/music/features/sun-ras-contemporary-influence-from-solange-to-sonic-youth-w508030',\n",
       " 'http://www.rollingstone.com/music/features/inside-bts-mania-a-day-in-the-life-of-the-k-pop-superstars-w514229',\n",
       " 'http://www.rollingstone.com/music/features/cardi-b-on-bodak-yellow-loving-offset-price-of-fame-w510461',\n",
       " 'http://www.rollingstone.com/music/features/best-buy-sauce-guy-on-being-sampled-by-justin-timberlake-w516237',\n",
       " 'http://www.rollingstone.com/music/features/sex-pistols-talk-never-mind-the-bollocks-song-by-song-w509836',\n",
       " 'http://www.rollingstone.com/music/features/rob-sheffield-why-rock-stars-are-suddenly-retiring-w516602',\n",
       " 'http://www.rollingstone.com/music/features/big-krit-talks-ambitious-blues-soaked-double-cd-return-w510796',\n",
       " 'http://www.rollingstone.com/music/features/ozzy-osbourne-talks-final-tour-im-not-retiring-w516426',\n",
       " 'http://www.rollingstone.com/music/features/pearl-jams-vitalogy-inside-the-making-of-bands-third-lp-w512158',\n",
       " 'http://www.rollingstone.com/music/features/bob-seger-talks-about-his-health-scare-new-album-w514860',\n",
       " 'http://www.rollingstone.com/music/features/inside-bert-berns-doc-bang-with-steven-van-zandt-w509684',\n",
       " 'http://www.rollingstone.com/music/features/a-perfect-circles-maynard-james-keenan-talks-new-album-w516301',\n",
       " 'http://www.rollingstone.com/music/features/king-gizzard-lizard-wizard-inside-their-music-factory-w516648',\n",
       " 'http://www.rollingstone.com/music/features/rob-sheffield-remembers-the-falls-mark-e-smith-w515870',\n",
       " 'http://www.rollingstone.com/music/features/remembering-acdcs-malcolm-young-bands-rock-mastermind-w512165',\n",
       " 'http://www.rollingstone.com/music/features/mavis-staples-jeff-tweedy-on-new-trump-era-protest-lp-w510344',\n",
       " 'http://www.rollingstone.com/music/features/inside-soul-queen-sharon-jones-final-album-with-dap-kings-w512291',\n",
       " 'http://www.rollingstone.com/music/features/inside-otis-reddings-sittin-on-the-dock-of-the-bay-w511338',\n",
       " 'http://www.rollingstone.com/music/features/the-roots-black-thought-on-nearly-10-minute-viral-freestyle-w514649',\n",
       " 'http://www.rollingstone.com/music/features/noel-gallagher-on-oasis-legacy-new-high-flying-birds-lp-w513091',\n",
       " 'http://www.rollingstone.com/music/features/my-bloody-valentines-kevin-shields-looks-back-on-loveless-w509837',\n",
       " 'http://www.rollingstone.com/music/features/elvis-costellos-new-years-resolution-w514225',\n",
       " 'http://www.rollingstone.com/music/features/grammys-disappointing-night-for-women-w516065',\n",
       " 'http://www.rollingstone.com/music/features/godfathers-of-hardcore-doc-tells-agnostic-fronts-story-w511461',\n",
       " 'http://www.rollingstone.com/music/features/willow-smith-talks-honest-new-lp-the-1st-w510635',\n",
       " 'http://www.rollingstone.com/music/features/watch-new-muse-video-for-thought-contagion-w516730',\n",
       " 'http://www.rollingstone.com/music/features/bruce-dickinson-on-iron-maiden-cancer-new-autobiography-w509838',\n",
       " 'http://www.rollingstone.com/music/features/inside-jimi-hendrixs-new-album-both-sides-of-the-sky-w514916',\n",
       " 'http://www.rollingstone.com/music/features/diplo-on-why-streaming-hurts-taylor-swift-why-hes-a-poseur-w510773',\n",
       " 'http://www.rollingstone.com/music/features/remembering-lynyrd-skynyrds-plane-crash-ronnie-van-zant-w509500',\n",
       " 'http://www.rollingstone.com/music/features/car-seat-headrests-will-toledo-talks-twin-fantasy-remake-w515360',\n",
       " 'http://www.rollingstone.com/music/features/venezuelas-uprooted-musicians-los-mesoneros-w511063',\n",
       " 'http://www.rollingstone.com/music/features/inside-bob-dylans-john-wesley-harding-w514816',\n",
       " 'http://www.rollingstone.com/music/features/dan-deacon-on-rat-film-score-wild-aerosmith-mashup-w509235',\n",
       " 'http://www.rollingstone.com/music/features/ty-segall-talks-freedoms-goblin-album-defining-success-w515558',\n",
       " 'http://www.rollingstone.com/music/features/dr-dres-the-chronic-10-things-you-didnt-know-w514148',\n",
       " 'http://www.rollingstone.com/music/features/magical-mystery-tour-inside-beatles-psychedelic-album-odyssey-w512654',\n",
       " 'http://www.rollingstone.com/music/features/the-most-surprising-thing-ozzy-osbourne-has-seen-on-the-road-w516538',\n",
       " 'http://www.rollingstone.com/music/features/bootsy-collins-on-james-brown-george-clinton-and-drugs-w509835',\n",
       " 'http://www.rollingstone.com/music/features/why-bon-jovi-belong-in-the-rock-and-roll-hall-of-fame-w513982',\n",
       " 'http://www.rollingstone.com/music/features/moses-sumney-on-defying-genres-romantic-myths-on-debut-lp-w513012',\n",
       " 'http://www.rollingstone.com/music/features/donald-fagen-on-walter-beckers-death-steely-dans-future-w514440',\n",
       " 'http://www.rollingstone.com/music/features/musics-merch-boom-pop-up-shops-branded-clothes-w516367',\n",
       " 'http://www.rollingstone.com/music/features/meet-trippie-redd-the-ex-alt-rocker-making-top-40-rap-moves-w511419',\n",
       " 'http://www.rollingstone.com/music/features/migos-talk-cardi-b-new-album-success-weed-money-ambition-w515665',\n",
       " 'http://www.rollingstone.com/music/features/chuck-d-the-last-word-on-hip-hop-streaming-politics-w516147',\n",
       " 'http://www.rollingstone.com/music/features/tommy-chong-of-cheech-and-chong-talks-eminem-sample-w514466',\n",
       " 'http://www.rollingstone.com/music/features/grammys-2018-artists-talk-sexism-equality-power-of-white-rose-w516104',\n",
       " 'http://www.rollingstone.com/music/features/tools-new-album-why-people-still-care-w516683',\n",
       " 'http://www.rollingstone.com/music/features/new-initiative-hopes-to-bring-metoo-to-the-music-industry-w516212',\n",
       " 'http://www.rollingstone.com/music/features/chris-robinson-on-reviving-black-crowes-songs-new-band-w515202',\n",
       " 'http://www.rollingstone.com/music/features/eric-clapton-on-addiction-cream-the-future-of-the-guitar-w512759',\n",
       " 'http://www.rollingstone.com/music/features/inside-jesse-paris-smiths-bold-new-plan-to-fight-trump-save-planet-w510808',\n",
       " 'http://www.rollingstone.com/music/features/greta-van-fleet-on-led-zeppelin-influence-blues-roots-w515153',\n",
       " 'http://www.rollingstone.com/music/features/fall-out-boy-patrick-stump-pete-wentz-on-recording-mania-w512717',\n",
       " 'http://www.rollingstone.com/music/features/inside-velvet-undergrounds-white-lightwhite-heat-w515921',\n",
       " 'http://www.rollingstone.com/music/features/rich-robinson-magpie-salute-black-crowes-chris-robinson-w516474',\n",
       " 'http://www.rollingstone.com/music/features/the-cars-ric-ocasek-on-the-rock-and-roll-hall-of-fame-w514016',\n",
       " 'http://www.rollingstone.com/music/features/dickey-betts-on-allman-brothers-gregg-allman-retirement-w512157',\n",
       " 'http://www.rollingstone.com/music/features/a-boogie-wit-da-hoodie-bronx-rapper-wants-to-be-your-mirror-w510342',\n",
       " 'http://www.rollingstone.com/music/features/rob-sheffield-why-bruno-mars-beat-kendrickat-the-grammys-w516049',\n",
       " 'http://www.rollingstone.com/music/features/eminems-revival-track-by-track-guide-to-new-album-w514095',\n",
       " 'http://www.rollingstone.com/music/features/why-sister-rosetta-tharpe-belongs-in-the-rock-hall-of-fame-w513981',\n",
       " 'http://www.rollingstone.com/music/features/chicagos-terry-kath-inside-guitarists-life-tragic-death-w513689',\n",
       " 'http://www.rollingstone.com/music/features/stone-temple-pilots-on-new-singer-scott-weilands-legacy-w511468',\n",
       " 'http://www.rollingstone.com/music/features/miguel-on-politics-adelanto-new-album-war-and-leisure-w509919',\n",
       " 'http://www.rollingstone.com/music/features/flashback-michael-jackson-reclaims-pop-throne-1993-super-bowl-w515839',\n",
       " 'http://www.rollingstone.com/music/features/dangelo-adele-drummer-chris-dave-on-making-his-own-album-w515598',\n",
       " 'http://www.rollingstone.com/music/features/jack-white-new-lp-lost-white-stripes-song-touring-w515897',\n",
       " 'http://www.rollingstone.com/music/features/joan-baez-on-first-album-in-a-decade-retiring-from-the-road-w514872',\n",
       " 'http://www.rollingstone.com/music/features/inside-l7s-rise-fall-and-unlikely-rebirth-w508450',\n",
       " 'http://www.rollingstone.com/music/features/weird-al-yankovic-talks-ill-advised-vanity-tour-w510206',\n",
       " 'http://www.rollingstone.com/music/features/inside-latin-trap-the-viral-sound-too-hot-for-radio-w501823',\n",
       " 'http://www.rollingstone.com/music/features/shamir-on-ratchet-success-mental-health-revelations-lp-w510912',\n",
       " 'http://www.rollingstone.com/music/features/rockstar-rapper-post-malone-talks-guns-bieber-race-w511979']"
      ]
     },
     "execution_count": 3,
     "metadata": {},
     "output_type": "execute_result"
    }
   ],
   "source": [
    "url = \"https://www.rollingstone.com/music/features\"\n",
    "\n",
    "def get_links(url):\n",
    "   \n",
    "    page = urlopen(url)\n",
    "    soup = BeautifulSoup(page)\n",
    "    links = []\n",
    " \n",
    "    for link in soup.findAll('a', attrs={'href': re.compile(\"^http://\")}):\n",
    "        links.append(link.get('href'))\n",
    " \n",
    "    return links\n",
    "\n",
    "urls = [url]\n",
    "for i in range(2,11):\n",
    "    new = url + \"?page=\" + str(i)\n",
    "    print(new)\n",
    "    urls.append(new)\n",
    "\n",
    "interviews = []\n",
    "for i in urls:\n",
    "    print(i)\n",
    "    interviews.extend(get_links(i))\n",
    "list(set(interviews))"
   ]
  },
  {
   "cell_type": "code",
   "execution_count": 4,
   "metadata": {
    "collapsed": false
   },
   "outputs": [],
   "source": [
    "def extract_details(url,data):\n",
    "    p = urlopen(url)\n",
    "    s = BeautifulSoup(p)\n",
    "    t = s.find_all('script', type=\"application/ld+json\")\n",
    "    d = eval(t[0].contents[0])\n",
    "    try:\n",
    "        if d['headline'] and d['author'][0]['name'] and d['articleBody'] and d['datePublished']:\n",
    "            data['headline'].append(d['headline'])\n",
    "            data['author'].append(d['author'][0]['name'])\n",
    "            data['text'].append(d['articleBody'])\n",
    "            data['date'].append(d['datePublished'])\n",
    "            data['magazine'].append('Rolling Stone')\n",
    "            \n",
    "            meta = s.find_all('meta')\n",
    "            \n",
    "            for tag in meta:\n",
    "                if 'name' in tag.attrs.keys() and tag.attrs['name'].strip().lower() == 'news_keywords':\n",
    "                    data['keywords'].append(tag.attrs['content'])\n",
    "    except:\n",
    "        pass\n",
    "    return"
   ]
  },
  {
   "cell_type": "code",
   "execution_count": 8,
   "metadata": {
    "collapsed": false,
    "scrolled": false
   },
   "outputs": [
    {
     "name": "stdout",
     "output_type": "stream",
     "text": [
      "CPU times: user 530 ms, sys: 28.9 ms, total: 559 ms\n",
      "Wall time: 3.56 s\n"
     ]
    }
   ],
   "source": [
    "%%time\n",
    "data = {'headline': [], 'author': [], 'text': [], 'date': [], 'magazine':[],'keywords':[]}\n",
    "for interview in list(set(interviews))[0:11]:\n",
    "    extract_details(interview,data)\n",
    "df = pd.DataFrame(data)"
   ]
  },
  {
   "cell_type": "markdown",
   "metadata": {},
   "source": [
    "Note to self:\n",
    "\n",
    "replace \"&nbsp;\" with space\n",
    "replace \\ with  nothing\n"
   ]
  },
  {
   "cell_type": "code",
   "execution_count": 11,
   "metadata": {
    "collapsed": false
   },
   "outputs": [],
   "source": [
    "df.to_csv(\"week7.csv\")"
   ]
  },
  {
   "cell_type": "code",
   "execution_count": 12,
   "metadata": {
    "collapsed": false
   },
   "outputs": [
    {
     "ename": "NameError",
     "evalue": "name 'nltk' is not defined",
     "output_type": "error",
     "traceback": [
      "\u001b[0;31m---------------------------------------------------------------------------\u001b[0m",
      "\u001b[0;31mNameError\u001b[0m                                 Traceback (most recent call last)",
      "\u001b[0;32m<ipython-input-12-717bf3803ce8>\u001b[0m in \u001b[0;36m<module>\u001b[0;34m()\u001b[0m\n\u001b[1;32m      1\u001b[0m \u001b[0mredditTopScores\u001b[0m \u001b[0;34m=\u001b[0m \u001b[0mdf\u001b[0m\u001b[0;34m\u001b[0m\u001b[0m\n\u001b[0;32m----> 2\u001b[0;31m \u001b[0mredditTopScores\u001b[0m\u001b[0;34m[\u001b[0m\u001b[0;34m'sentences'\u001b[0m\u001b[0;34m]\u001b[0m \u001b[0;34m=\u001b[0m \u001b[0mredditTopScores\u001b[0m\u001b[0;34m[\u001b[0m\u001b[0;34m'text'\u001b[0m\u001b[0;34m]\u001b[0m\u001b[0;34m.\u001b[0m\u001b[0mapply\u001b[0m\u001b[0;34m(\u001b[0m\u001b[0;32mlambda\u001b[0m \u001b[0mx\u001b[0m\u001b[0;34m:\u001b[0m \u001b[0;34m[\u001b[0m\u001b[0mnltk\u001b[0m\u001b[0;34m.\u001b[0m\u001b[0mword_tokenize\u001b[0m\u001b[0;34m(\u001b[0m\u001b[0ms\u001b[0m\u001b[0;34m)\u001b[0m \u001b[0;32mfor\u001b[0m \u001b[0ms\u001b[0m \u001b[0;32min\u001b[0m \u001b[0mnltk\u001b[0m\u001b[0;34m.\u001b[0m\u001b[0msent_tokenize\u001b[0m\u001b[0;34m(\u001b[0m\u001b[0mx\u001b[0m\u001b[0;34m)\u001b[0m\u001b[0;34m]\u001b[0m\u001b[0;34m)\u001b[0m\u001b[0;34m\u001b[0m\u001b[0m\n\u001b[0m\u001b[1;32m      3\u001b[0m \u001b[0mredditTopScores\u001b[0m\u001b[0;34m\u001b[0m\u001b[0m\n",
      "\u001b[0;32m~/anaconda/lib/python3.5/site-packages/pandas/core/series.py\u001b[0m in \u001b[0;36mapply\u001b[0;34m(self, func, convert_dtype, args, **kwds)\u001b[0m\n\u001b[1;32m   2549\u001b[0m             \u001b[0;32melse\u001b[0m\u001b[0;34m:\u001b[0m\u001b[0;34m\u001b[0m\u001b[0m\n\u001b[1;32m   2550\u001b[0m                 \u001b[0mvalues\u001b[0m \u001b[0;34m=\u001b[0m \u001b[0mself\u001b[0m\u001b[0;34m.\u001b[0m\u001b[0masobject\u001b[0m\u001b[0;34m\u001b[0m\u001b[0m\n\u001b[0;32m-> 2551\u001b[0;31m                 \u001b[0mmapped\u001b[0m \u001b[0;34m=\u001b[0m \u001b[0mlib\u001b[0m\u001b[0;34m.\u001b[0m\u001b[0mmap_infer\u001b[0m\u001b[0;34m(\u001b[0m\u001b[0mvalues\u001b[0m\u001b[0;34m,\u001b[0m \u001b[0mf\u001b[0m\u001b[0;34m,\u001b[0m \u001b[0mconvert\u001b[0m\u001b[0;34m=\u001b[0m\u001b[0mconvert_dtype\u001b[0m\u001b[0;34m)\u001b[0m\u001b[0;34m\u001b[0m\u001b[0m\n\u001b[0m\u001b[1;32m   2552\u001b[0m \u001b[0;34m\u001b[0m\u001b[0m\n\u001b[1;32m   2553\u001b[0m         \u001b[0;32mif\u001b[0m \u001b[0mlen\u001b[0m\u001b[0;34m(\u001b[0m\u001b[0mmapped\u001b[0m\u001b[0;34m)\u001b[0m \u001b[0;32mand\u001b[0m \u001b[0misinstance\u001b[0m\u001b[0;34m(\u001b[0m\u001b[0mmapped\u001b[0m\u001b[0;34m[\u001b[0m\u001b[0;36m0\u001b[0m\u001b[0;34m]\u001b[0m\u001b[0;34m,\u001b[0m \u001b[0mSeries\u001b[0m\u001b[0;34m)\u001b[0m\u001b[0;34m:\u001b[0m\u001b[0;34m\u001b[0m\u001b[0m\n",
      "\u001b[0;32mpandas/_libs/src/inference.pyx\u001b[0m in \u001b[0;36mpandas._libs.lib.map_infer\u001b[0;34m()\u001b[0m\n",
      "\u001b[0;32m<ipython-input-12-717bf3803ce8>\u001b[0m in \u001b[0;36m<lambda>\u001b[0;34m(x)\u001b[0m\n\u001b[1;32m      1\u001b[0m \u001b[0mredditTopScores\u001b[0m \u001b[0;34m=\u001b[0m \u001b[0mdf\u001b[0m\u001b[0;34m\u001b[0m\u001b[0m\n\u001b[0;32m----> 2\u001b[0;31m \u001b[0mredditTopScores\u001b[0m\u001b[0;34m[\u001b[0m\u001b[0;34m'sentences'\u001b[0m\u001b[0;34m]\u001b[0m \u001b[0;34m=\u001b[0m \u001b[0mredditTopScores\u001b[0m\u001b[0;34m[\u001b[0m\u001b[0;34m'text'\u001b[0m\u001b[0;34m]\u001b[0m\u001b[0;34m.\u001b[0m\u001b[0mapply\u001b[0m\u001b[0;34m(\u001b[0m\u001b[0;32mlambda\u001b[0m \u001b[0mx\u001b[0m\u001b[0;34m:\u001b[0m \u001b[0;34m[\u001b[0m\u001b[0mnltk\u001b[0m\u001b[0;34m.\u001b[0m\u001b[0mword_tokenize\u001b[0m\u001b[0;34m(\u001b[0m\u001b[0ms\u001b[0m\u001b[0;34m)\u001b[0m \u001b[0;32mfor\u001b[0m \u001b[0ms\u001b[0m \u001b[0;32min\u001b[0m \u001b[0mnltk\u001b[0m\u001b[0;34m.\u001b[0m\u001b[0msent_tokenize\u001b[0m\u001b[0;34m(\u001b[0m\u001b[0mx\u001b[0m\u001b[0;34m)\u001b[0m\u001b[0;34m]\u001b[0m\u001b[0;34m)\u001b[0m\u001b[0;34m\u001b[0m\u001b[0m\n\u001b[0m\u001b[1;32m      3\u001b[0m \u001b[0mredditTopScores\u001b[0m\u001b[0;34m\u001b[0m\u001b[0m\n",
      "\u001b[0;31mNameError\u001b[0m: name 'nltk' is not defined"
     ]
    }
   ],
   "source": [
    "redditTopScores = df\n",
    "redditTopScores['sentences'] = redditTopScores['text'].apply(lambda x: [nltk.word_tokenize(s) for s in nltk.sent_tokenize(x)])\n",
    "redditTopScores"
   ]
  },
  {
   "cell_type": "code",
   "execution_count": null,
   "metadata": {
    "collapsed": false
   },
   "outputs": [],
   "source": []
  },
  {
   "cell_type": "code",
   "execution_count": null,
   "metadata": {
    "collapsed": false
   },
   "outputs": [],
   "source": []
  },
  {
   "cell_type": "code",
   "execution_count": null,
   "metadata": {
    "collapsed": false
   },
   "outputs": [],
   "source": []
  },
  {
   "cell_type": "code",
   "execution_count": null,
   "metadata": {
    "collapsed": false
   },
   "outputs": [],
   "source": []
  },
  {
   "cell_type": "code",
   "execution_count": null,
   "metadata": {
    "collapsed": true
   },
   "outputs": [],
   "source": []
  },
  {
   "cell_type": "code",
   "execution_count": null,
   "metadata": {
    "collapsed": true
   },
   "outputs": [],
   "source": []
  },
  {
   "cell_type": "code",
   "execution_count": null,
   "metadata": {
    "collapsed": true
   },
   "outputs": [],
   "source": []
  }
 ],
 "metadata": {
  "anaconda-cloud": {},
  "kernelspec": {
   "display_name": "Python [conda root]",
   "language": "python",
   "name": "conda-root-py"
  },
  "language_info": {
   "codemirror_mode": {
    "name": "ipython",
    "version": 3
   },
   "file_extension": ".py",
   "mimetype": "text/x-python",
   "name": "python",
   "nbconvert_exporter": "python",
   "pygments_lexer": "ipython3",
   "version": "3.5.2"
  }
 },
 "nbformat": 4,
 "nbformat_minor": 2
}
