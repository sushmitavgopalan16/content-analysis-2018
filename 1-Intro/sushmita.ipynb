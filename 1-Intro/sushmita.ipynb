{
 "cells": [
  {
   "cell_type": "markdown",
   "metadata": {},
   "source": [
    "# Week 1 - Retreiving and Preparing Text for Machines\n",
    "\n",
    "This week, we begin by \"begging, borrowing and stealing\" text from several\n",
    "contexts of human communication (e.g., PDFs, HTML, Word) and preparing it for\n",
    "machines to \"read\" and analyze. This notebook outlines scraping text from the\n",
    "web, PDF and Word documents. Then we detail \"spidering\" or walking\n",
    "through hyperlinks to build samples of online content, and using APIs,\n",
    "Application Programming Interfaces, provided by webservices to access their\n",
    "content. Along the way, we will use regular expressions, outlined in the\n",
    "reading, to remove unwanted formatting and ornamentation. Finally, we discuss\n",
    "various text encodings, filtering and data structures in which text can be\n",
    "placed for analysis.\n",
    "\n",
    "For this notebook we will be using the following packages:"
   ]
  },
  {
   "cell_type": "code",
   "execution_count": 37,
   "metadata": {
    "collapsed": false
   },
   "outputs": [],
   "source": [
    "#Special module written for this class\n",
    "#This provides access to data and to helper functions from previous weeks\n",
    "import lucem_illud #pip install git+git://github.com/Computational-Content-Analysis-2018/lucem_illud.git\n",
    "\n",
    "#All these packages need to be installed from pip\n",
    "import requests #for http requests\n",
    "import bs4 #called `beautifulsoup4`, an html parser\n",
    "import pandas #gives us DataFrames\n",
    "import docx #reading MS doc files, install as `python-docx`\n",
    "\n",
    "#Stuff for pdfs\n",
    "#Install as `pdfminer2`\n",
    "import pdfminer.pdfinterp\n",
    "import pdfminer.converter\n",
    "import pdfminer.layout\n",
    "import pdfminer.pdfpage\n",
    "\n",
    "#These come with Python\n",
    "import re #for regexs\n",
    "import urllib.parse #For joining urls\n",
    "import io #for making http requests look like files\n",
    "import json #For Tumblr API responses\n",
    "import os.path #For checking if files exist\n",
    "import os #For making directories"
   ]
  },
  {
   "cell_type": "markdown",
   "metadata": {},
   "source": [
    "We will also be working on the following files/urls"
   ]
  },
  {
   "cell_type": "code",
   "execution_count": 2,
   "metadata": {
    "collapsed": true
   },
   "outputs": [],
   "source": [
    "wikipedia_base_url = 'https://en.wikipedia.org'\n",
    "wikipedia_content_analysis = 'https://en.wikipedia.org/wiki/Content_analysis'\n",
    "content_analysis_save = 'wikipedia_content_analysis.html'\n",
    "example_text_file = 'sometextfile.txt'\n",
    "information_extraction_pdf = 'https://github.com/Computational-Content-Analysis-2018/Data-Files/raw/master/1-intro/Content%20Analysis%2018.pdf'\n",
    "example_docx = 'https://github.com/Computational-Content-Analysis-2018/Data-Files/raw/master/1-intro/macs6000_connecting_to_midway.docx'\n",
    "example_docx_save = 'example.docx'"
   ]
  },
  {
   "cell_type": "markdown",
   "metadata": {},
   "source": [
    "# Scraping\n",
    "\n",
    "Before we can start analyzing content we need to obtain it. Sometimes it will be\n",
    "provided to us from a pre-curated text archive, but sometimes we will need to\n",
    "download it. As a starting example we will attempt to download the wikipedia\n",
    "page on content analysis. The page is located at [https://en.wikipedia.org/wiki/\n",
    "Content_analysis](https://en.wikipedia.org/wiki/Content_analysis) so lets start\n",
    "with that.\n",
    "\n",
    "We can do this by making an HTTP GET request to that url, a GET request is\n",
    "simply a request to the server to provide the contents given by some url. The\n",
    "other request we will be using in this class is called a POST request and\n",
    "requests the server to take some content we provide. While the Python standard\n",
    "library does have the ability do make GET requests we will be using the\n",
    "[_requests_](http://docs.python-requests.org/en/master/) package as it is _'the\n",
    "only Non-GMO HTTP library for Python'_...also it provides a nicer interface."
   ]
  },
  {
   "cell_type": "code",
   "execution_count": 3,
   "metadata": {
    "collapsed": false
   },
   "outputs": [
    {
     "data": {
      "text/plain": [
       "<Response [200]>"
      ]
     },
     "execution_count": 3,
     "metadata": {},
     "output_type": "execute_result"
    }
   ],
   "source": [
    "#wikipedia_content_analysis = 'https://en.wikipedia.org/wiki/Content_analysis'\n",
    "requests.get(wikipedia_content_analysis)"
   ]
  },
  {
   "cell_type": "markdown",
   "metadata": {},
   "source": [
    "`'Response [200]'` means the server responded with what we asked for. If you get\n",
    "another number (e.g. 404) it likely means there was some kind of error, these\n",
    "codes are called HTTP response codes and a list of them can be found\n",
    "[here](https://en.wikipedia.org/wiki/List_of_HTTP_status_codes). The response\n",
    "object contains all the data the server sent including the website's contents\n",
    "and the HTTP header. We are interested in the contents which we can access with\n",
    "the `.text` attribute."
   ]
  },
  {
   "cell_type": "code",
   "execution_count": 4,
   "metadata": {
    "collapsed": false
   },
   "outputs": [
    {
     "name": "stdout",
     "output_type": "stream",
     "text": [
      "<!DOCTYPE html>\n",
      "<html class=\"client-nojs\" lang=\"en\" dir=\"ltr\">\n",
      "<head>\n",
      "<meta charset=\"UTF-8\"/>\n",
      "<title>Content analysis - Wikipedia</title>\n",
      "<script>document.documentElement.className = document.documentElement.className.replace( /(^|\\s)client-nojs(\\s|$)/, \"$1client-js$2\" );</script>\n",
      "<script>(window.RLQ=window.RLQ||[]).push(function(){mw.config.set({\"wgCanonicalNamespace\":\"\",\"wgCanonicalSpecialPageName\":false,\"wgNamespaceNumber\":0,\"wgPageName\":\"Content_analysis\",\"wgTitle\":\"Content analysis\",\"wgCurRevisionId\":819393184,\"wgRevisionId\":819393184,\"wgArticleId\":473317,\"wgIsArticle\":true,\"wgIsRedirect\":false,\"wgAction\":\"view\",\"wgUserName\":null,\"wgUserGroups\":[\"*\"],\"wgCategories\":[\"Articles needing expert attention with no reason or talk parameter\",\"Articles needing expert attention from April 2008\",\"All articles needing expert attention\",\"Sociology articles needing expert attention\",\"Media articles needing expert attention\",\"Articles that may be too long from January 2018\",\"All articles with un\n"
     ]
    }
   ],
   "source": [
    "wikiContentRequest = requests.get(wikipedia_content_analysis)\n",
    "print(wikiContentRequest.text[:1000])"
   ]
  },
  {
   "cell_type": "markdown",
   "metadata": {},
   "source": [
    "This is not what we were looking for, because it is the start of the HTML that\n",
    "makes up the website. This is HTML and is meant to be read by computers. Luckily\n",
    "we have a computer to parse it for us. To do the parsing we will use [_Beautiful\n",
    "Soup_](https://www.crummy.com/software/BeautifulSoup/) which is a better parser\n",
    "than the one in the standard library."
   ]
  },
  {
   "cell_type": "code",
   "execution_count": 5,
   "metadata": {
    "collapsed": false
   },
   "outputs": [
    {
     "name": "stdout",
     "output_type": "stream",
     "text": [
      "\n",
      "\n",
      "\n",
      "\n",
      "Content analysis - Wikipedia\n",
      "document.documentElement.className = document.documentElement.className.replace( /(^|\\s)client-nojs(\\s|$)/, \"$1client-js$2\" );\n",
      "(window.RLQ=window.RLQ||[]).push(functio\n"
     ]
    }
   ],
   "source": [
    "wikiContentSoup = bs4.BeautifulSoup(wikiContentRequest.text, 'html.parser')\n",
    "print(wikiContentSoup.text[:200])"
   ]
  },
  {
   "cell_type": "markdown",
   "metadata": {},
   "source": [
    "This is better but there's still random whitespace and we have more than just\n",
    "the text of the article. This is because what we requested is the whole webpage,\n",
    "not just the text for the article.\n",
    "\n",
    "We want to extract only the text we care about, and in order to do this we will\n",
    "need to inspect the html. One way to do this is simply to go to the website with\n",
    "a browser and use its inspection or view source tool. If javascript or other\n",
    "dynamic loading occurs on the page, however, it is likely that what Python\n",
    "receives is not what you will see, so we will need to inspect what Python\n",
    "receives. To do this we can save the html `requests` obtained."
   ]
  },
  {
   "cell_type": "code",
   "execution_count": 6,
   "metadata": {
    "collapsed": true
   },
   "outputs": [],
   "source": [
    "#content_analysis_save = 'wikipedia_content_analysis.html'\n",
    "\n",
    "with open(content_analysis_save, mode='w', encoding='utf-8') as f:\n",
    "    f.write(wikiContentRequest.text)"
   ]
  },
  {
   "cell_type": "markdown",
   "metadata": {},
   "source": [
    "Now lets open the file (`wikipedia_content_analysis.html`) we just created with\n",
    "a web browser. It should look sort of like the original but without the images\n",
    "and formatting.\n",
    "\n",
    "As there is very little standardization on structuring webpages, figuring out\n",
    "how best to extract what you want is an art. Looking at this page it looks like\n",
    "all the main textual content is inside `<p>`(paragraph) tags within the `<body>`\n",
    "tag."
   ]
  },
  {
   "cell_type": "code",
   "execution_count": 18,
   "metadata": {
    "collapsed": false
   },
   "outputs": [
    {
     "name": "stdout",
     "output_type": "stream",
     "text": [
      "\n",
      "\n",
      "Content analysis is a research method for studying documents and communication artifacts, which can be texts of various formats, pictures, audio or video. Social scientists use content analysis to quantify patterns in communication, in a replicable and systematic manner.[1] One of the key advantage of this research method is to analyse social phenomena in a non-invasive way, in contrast to simulating social experiences or collecting survey answers.\n",
      "Practices and philosophies of content analysis vary between scholarly communities. They all involve systematic reading or observation of texts or artifacts which are assigned labels (sometimes called codes) to indicate the presence of interesting, meaningful patterns.[2][3] After labeling a large set of media, a researcher is able to statistically estimate the proportions of patterns in the texts, as well as correlations between patterns.\n"
     ]
    }
   ],
   "source": [
    "contentPTags = wikiContentSoup.body.findAll('p')\n",
    "for pTag in contentPTags[:3]:\n",
    "    print(pTag.text)"
   ]
  },
  {
   "cell_type": "markdown",
   "metadata": {},
   "source": [
    "We now have all the text from the page, split up by paragraph. If we wanted to\n",
    "get the section headers or references as well it would require a bit more work,\n",
    "but is doable.\n",
    "\n",
    "There is one more thing we might want to do before sending this text to be\n",
    "processed, remove the references indicators (`[2]`, `[3]` , etc). To do this we\n",
    "can use a short regular expression (regex)."
   ]
  },
  {
   "cell_type": "code",
   "execution_count": 19,
   "metadata": {
    "collapsed": false
   },
   "outputs": [
    {
     "name": "stdout",
     "output_type": "stream",
     "text": [
      "                                       paragraph-text\n",
      "0                                                    \n",
      "1   \\nContent analysis is a research method for st...\n",
      "2   Practices and philosophies of content analysis...\n",
      "3   Computers are increasingly used in content ana...\n",
      "4                                                    \n",
      "5                                                    \n",
      "6   Content analysis is best understood as a broad...\n",
      "7   The simplest and most objective form of conten...\n",
      "8   A further step in analysis is the distinction ...\n",
      "9   More generally, content analysis is research u...\n",
      "10  By having contents of communication available ...\n",
      "11  Robert Weber notes: \"To make valid inferences ...\n",
      "12  There are five types of texts in content analy...\n",
      "13  Over the years, content analysis has been appl...\n",
      "14  In recent times, particularly with the advent ...\n",
      "15  Quantitative content analysis has enjoyed a re...\n",
      "16  Recently, Arash Heydarian Pashakhanlou has arg...\n",
      "17  Content analysis can also be described as stud...\n",
      "18  The method of content analysis enables the res...\n",
      "19  Since the 1980s, content analysis has become a...\n",
      "20  The creation of coding frames is intrinsically...\n",
      "21  Mimetic Convergence aims to show the process o...\n",
      "22  Every content analysis should depart from a hy...\n",
      "23  As an evaluation approach, content analysis is...\n",
      "24  Qualitative content analysis is \"a systematic,...\n",
      "25  Holsti groups fifteen uses of content analysis...\n",
      "26  He also places these uses into the context of ...\n",
      "27  The following table shows fifteen uses of cont...\n",
      "28                                                   \n"
     ]
    }
   ],
   "source": [
    "contentParagraphs = []\n",
    "for pTag in contentPTags:\n",
    "    #strings starting with r are raw so their \\'s are not modifier characters\n",
    "    #If we didn't start with r the string would be: '\\\\[\\\\d+\\\\]'\n",
    "    contentParagraphs.append(re.sub(r'\\[\\d+\\]', '', pTag.text))\n",
    "\n",
    "#convert to a DataFrame\n",
    "contentParagraphsDF = pandas.DataFrame({'paragraph-text' : contentParagraphs})\n",
    "print(contentParagraphsDF)"
   ]
  },
  {
   "cell_type": "markdown",
   "metadata": {},
   "source": [
    "Now we have a `DataFrame` containing all relevant text from the page ready to be\n",
    "processed\n",
    "\n",
    "If you are not familiar with regex, it is a way of specifying searches in text.\n",
    "A regex engine takes in the search pattern, in the above case `'\\[\\d+\\]'` and\n",
    "some string, the paragraph texts. Then it reads the input string one character\n",
    "at a time checking if it matches the search. Here the regex `'\\d'` matches\n",
    "number characters (while `'\\['` and `'\\]'` capture the braces on either side)."
   ]
  },
  {
   "cell_type": "code",
   "execution_count": 20,
   "metadata": {
    "collapsed": false
   },
   "outputs": [
    {
     "data": {
      "text/plain": [
       "<_sre.SRE_Match object; span=(36, 37), match='2'>"
      ]
     },
     "execution_count": 20,
     "metadata": {},
     "output_type": "execute_result"
    }
   ],
   "source": [
    "findNumber = r'\\d'\n",
    "regexResults = re.search(findNumber, 'not a number, not a number, numbers 2134567890, not a number')\n",
    "regexResults"
   ]
  },
  {
   "cell_type": "markdown",
   "metadata": {},
   "source": [
    "In Python the regex package (`re`) usually returns `Match` objects (you can have\n",
    "multiple pattern hits in a a single `Match`), to get the string that matched our\n",
    "pattern we can use the `.group()` method, and as we want the first one we will\n",
    "ask for the 0'th group."
   ]
  },
  {
   "cell_type": "code",
   "execution_count": null,
   "metadata": {
    "collapsed": false
   },
   "outputs": [],
   "source": [
    "print(regexResults.group(0))"
   ]
  },
  {
   "cell_type": "markdown",
   "metadata": {},
   "source": [
    "That gives us the first number, if we wanted the whole block of numbers we can\n",
    "add a wildcard `'+'` which requests 1 or more instances of the preceding\n",
    "character."
   ]
  },
  {
   "cell_type": "code",
   "execution_count": null,
   "metadata": {
    "collapsed": false
   },
   "outputs": [],
   "source": [
    "findNumbers = r'\\d+'\n",
    "regexResults = re.search(findNumbers, 'not a number, not a number, numbers 2134567890, not a number')\n",
    "print(regexResults.group(0))"
   ]
  },
  {
   "cell_type": "markdown",
   "metadata": {},
   "source": [
    "Now we have the whole block of numbers, there are a huge number of special\n",
    "characters in regex, for the full description of Python's implementation look at\n",
    "the [re docs](https://docs.python.org/3/library/re.html) there is also a short\n",
    "[tutorial](https://docs.python.org/3/howto/regex.html#regex-howto)."
   ]
  },
  {
   "cell_type": "markdown",
   "metadata": {},
   "source": [
    "# <span style=\"color:red\">Section 1</span>\n",
    "<span style=\"color:red\">Construct cells immediately below this that describe and download webcontent relating to your anticipated final project. Use beautiful soup and at least five regular expressions to extract relevant, nontrivial *chunks* of that content (e.g., cleaned sentences, paragraphs, etc.) to a pandas `Dataframe`.</span>"
   ]
  },
  {
   "cell_type": "code",
   "execution_count": 50,
   "metadata": {
    "collapsed": false
   },
   "outputs": [],
   "source": [
    "\n",
    "huda_beauty = requests.get(\"http://hudabeauty.com/2018/01/02/best-cheapest-drugstore-setting-powder-youve-never-heard/\")\n",
    "hudaSoup = bs4.BeautifulSoup(huda_beauty.text, 'html.parser')\n",
    "contentPTags = hudaSoup.body.findAll('p')\n",
    "contentParagraphs = []\n",
    "for pTag in contentPTags:\n",
    "    text = pTag.text\n",
    "    \n",
    "    # don't add if it is just an instagram handle\n",
    "    if not re.match(r'^Ig-', text):\n",
    "        if not text.isspace():\n",
    "            if text not in [\"Name*\",\"Website\",\"Email*\",\"\"]:\n",
    "                contentParagraphs.append(text)\n",
    "contentParagraphsDF = pandas.DataFrame({'paragraph-text' : contentParagraphs})\n"
   ]
  },
  {
   "cell_type": "code",
   "execution_count": null,
   "metadata": {
    "collapsed": false
   },
   "outputs": [],
   "source": [
    "\n"
   ]
  },
  {
   "cell_type": "markdown",
   "metadata": {},
   "source": [
    "\n",
    "# Spidering\n",
    "\n",
    "What if we want to to get a bunch of different pages from wikipedia. We would\n",
    "need to get the url for each of the pages we want. Typically, we want pages that\n",
    "are linked to by other pages and so we will need to parse pages and identify the\n",
    "links. Right now we will be retrieving all links in the body of the content\n",
    "analysis page.\n",
    "\n",
    "To do this we will need to find all the `<a>` (anchor) tags with `href`s\n",
    "(hyperlink references) inside of `<p>` tags. `href` can have many\n",
    "[different](http://stackoverflow.com/questions/4855168/what-is-href-and-why-is-\n",
    "it-used) [forms](https://en.wikipedia.org/wiki/Hyperlink#Hyperlinks_in_HTML) so\n",
    "dealing with them can be tricky, but generally, you will want to extract\n",
    "absolute or relative links. An absolute link is one you can follow without\n",
    "modification, while a relative link requires a base url that you will then\n",
    "append. Wikipedia uses relative urls for its internal links: below is an example\n",
    "for dealing with them."
   ]
  },
  {
   "cell_type": "code",
   "execution_count": null,
   "metadata": {
    "collapsed": false
   },
   "outputs": [],
   "source": [
    "#wikipedia_base_url = 'https://en.wikipedia.org'\n",
    "\n",
    "otherPAgeURLS = []\n",
    "#We also want to know where the links come from so we also will get:\n",
    "#the paragraph number\n",
    "#the word the link is in\n",
    "for paragraphNum, pTag in enumerate(contentPTags):\n",
    "    #we only want hrefs that link to wiki pages\n",
    "    tagLinks = pTag.findAll('a', href=re.compile('/wiki/'), class_=False)\n",
    "    for aTag in tagLinks:\n",
    "        #We need to extract the url from the <a> tag\n",
    "        relurl = aTag.get('href')\n",
    "        linkText = aTag.text\n",
    "        #wikipedia_base_url is the base we can use the urllib joining function to merge them\n",
    "        #Giving a nice structured tupe like this means we can use tuple expansion later\n",
    "        otherPAgeURLS.append((\n",
    "            urllib.parse.urljoin(wikipedia_base_url, relurl),\n",
    "            paragraphNum,\n",
    "            linkText,\n",
    "        ))\n",
    "print(otherPAgeURLS[:10])"
   ]
  },
  {
   "cell_type": "markdown",
   "metadata": {},
   "source": [
    "We will be adding these new texts to our DataFrame `contentParagraphsDF` so we\n",
    "will need to add 2 more columns to keep track of paragraph numbers and sources."
   ]
  },
  {
   "cell_type": "code",
   "execution_count": null,
   "metadata": {
    "collapsed": false
   },
   "outputs": [],
   "source": [
    "contentParagraphsDF['source'] = [wikipedia_content_analysis] * len(contentParagraphsDF['paragraph-text'])\n",
    "contentParagraphsDF['paragraph-number'] = range(len(contentParagraphsDF['paragraph-text']))\n",
    "\n",
    "contentParagraphsDF"
   ]
  },
  {
   "cell_type": "markdown",
   "metadata": {},
   "source": [
    "Then we can add two more columns to our `Dataframe` and define a function to\n",
    "parse\n",
    "each linked page and add its text to our DataFrame."
   ]
  },
  {
   "cell_type": "code",
   "execution_count": null,
   "metadata": {
    "collapsed": true
   },
   "outputs": [],
   "source": [
    "contentParagraphsDF['source-paragraph-number'] = [None] * len(contentParagraphsDF['paragraph-text'])\n",
    "contentParagraphsDF['source-paragraph-text'] = [None] * len(contentParagraphsDF['paragraph-text'])\n",
    "\n",
    "def getTextFromWikiPage(targetURL, sourceParNum, sourceText):\n",
    "    #Make a dict to store data before adding it to the DataFrame\n",
    "    parsDict = {'source' : [], 'paragraph-number' : [], 'paragraph-text' : [], 'source-paragraph-number' : [],  'source-paragraph-text' : []}\n",
    "    #Now we get the page\n",
    "    r = requests.get(targetURL)\n",
    "    soup = bs4.BeautifulSoup(r.text, 'html.parser')\n",
    "    #enumerating gives use the paragraph number\n",
    "    for parNum, pTag in enumerate(soup.body.findAll('p')):\n",
    "        #same regex as before\n",
    "        parsDict['paragraph-text'].append(re.sub(r'\\[\\d+\\]', '', pTag.text))\n",
    "        parsDict['paragraph-number'].append(parNum)\n",
    "        parsDict['source'].append(targetURL)\n",
    "        parsDict['source-paragraph-number'].append(sourceParNum)\n",
    "        parsDict['source-paragraph-text'].append(sourceText)\n",
    "    return pandas.DataFrame(parsDict)"
   ]
  },
  {
   "cell_type": "markdown",
   "metadata": {},
   "source": [
    "And run it on our list of link tags"
   ]
  },
  {
   "cell_type": "code",
   "execution_count": null,
   "metadata": {
    "collapsed": false
   },
   "outputs": [],
   "source": [
    "for urlTuple in otherPAgeURLS[:3]:\n",
    "    #ignore_index means the indices will not be reset after each append\n",
    "    contentParagraphsDF = contentParagraphsDF.append(getTextFromWikiPage(*urlTuple),ignore_index=True)\n",
    "contentParagraphsDF"
   ]
  },
  {
   "cell_type": "code",
   "execution_count": 70,
   "metadata": {
    "collapsed": false
   },
   "outputs": [],
   "source": [
    "from urllib.request import urlopen\n",
    "from urllib.request import URLError\n",
    "import lxml.html\n",
    "\n",
    "already_visited = []\n",
    "\n",
    "def crawl(url, depth=3):\n",
    "    if len(already_visited) == 5:\n",
    "        return\n",
    "    if depth == 0:\n",
    "        return None\n",
    "    try:\n",
    "        page = urlopen(url)\n",
    "    except (URLError, ValueError):\n",
    "        return None\n",
    "\n",
    "    html = page.read()\n",
    "    dom = lxml.html.fromstring(html)\n",
    "    print(dom)\n",
    "\n",
    "    print(\"level %d: %s\" % (depth, url))\n",
    "    for link in dom.xpath('//a/@href'):\n",
    "        if link not in already_visited:\n",
    "            already_visited.append(link)\n",
    "            crawl(link, depth - 1)\n",
    "\n"
   ]
  },
  {
   "cell_type": "code",
   "execution_count": 103,
   "metadata": {
    "collapsed": false
   },
   "outputs": [
    {
     "name": "stdout",
     "output_type": "stream",
     "text": [
      "level 3: http://www.vegrecipesofindia.com/ragi-roti-recipe/\n"
     ]
    },
    {
     "name": "stderr",
     "output_type": "stream",
     "text": [
      "/Users/sushmitavgopalan/anaconda/lib/python3.5/site-packages/bs4/__init__.py:181: UserWarning: No parser was explicitly specified, so I'm using the best available HTML parser for this system (\"lxml\"). This usually isn't a problem, but if you run this code on another system, or in a different virtual environment, it may use a different parser and behave differently.\n",
      "\n",
      "The code that caused this warning is on line 184 of the file /Users/sushmitavgopalan/anaconda/lib/python3.5/runpy.py. To get rid of this warning, change code that looks like this:\n",
      "\n",
      " BeautifulSoup([your markup])\n",
      "\n",
      "to this:\n",
      "\n",
      " BeautifulSoup([your markup], \"lxml\")\n",
      "\n",
      "  markup_type=markup_type))\n"
     ]
    },
    {
     "name": "stdout",
     "output_type": "stream",
     "text": [
      "level 2: http://www.vegrecipesofindia.com/\n",
      "level 1: http://www.vegrecipesofindia.com/ragi-roti-recipe/\n",
      "level 1: http://www.vegrecipesofindia.com/jaggery-recipes/\n",
      "level 1: http://www.vegrecipesofindia.com/gajar-ka-murabba-recipe/\n",
      "level 1: http://www.vegrecipesofindia.com/pumpkin-sambar-recipe/\n",
      "level 1: http://www.vegrecipesofindia.com/lilva-kachori-recipe/\n",
      "level 1: http://www.vegrecipesofindia.com/diwali-sweets-recipes-diwali-recipes-2013/\n",
      "level 1: http://www.vegrecipesofindia.com/methi-recipes-vegetarian-methi-recipes/\n",
      "level 1: http://www.vegrecipesofindia.com/gobi-recipes-cauliflower-recipes/\n",
      "level 1: http://www.vegrecipesofindia.com/no-onion-no-garlic-recipes/\n",
      "level 1: http://www.vegrecipesofindia.com/top-10-veg-recipes-world-cuisine/\n",
      "level 1: http://www.vegrecipesofindia.com/hi/\n",
      "['http://www.vegrecipesofindia.com/', 'http://www.vegrecipesofindia.com/ragi-roti-recipe/', 'http://www.vegrecipesofindia.com/recipes/indian-breads-indian-parathas/', 'http://www.vegrecipesofindia.com/author/shirdibaba/', 'http://www.vegrecipesofindia.com/ragi-roti-recipe/#respond', 'http://www.vegrecipesofindia.com/jowar-roti-recipe-jowar-bhakri/', 'http://www.vegrecipesofindia.com/wp-content/uploads/2018/01/ragi-bhakri.jpg', 'http://www.vegrecipesofindia.com/bajra-roti-bajra-bhakri/', 'http://www.vegrecipesofindia.com/usal-recipe-maharashtrian-usal-recipe/', 'http://www.vegrecipesofindia.com/gutti-vankaya-kura-recipe/', 'http://www.vegrecipesofindia.com/mixed-sprouts-curry-recipe/', 'http://www.vegrecipesofindia.com/ennegayi-recipe-badanekayi-ennegayi-recipe/', 'http://www.vegrecipesofindia.com/baingan-bharta-recipe-punjabi-baingan-bharta-recipe/', 'http://www.vegrecipesofindia.com/ragi-idli-recipe/', 'http://www.vegrecipesofindia.com/ragi-dosa-recipe/', 'http://www.vegrecipesofindia.com/ragi-halwa-recipe/', 'http://www.vegrecipesofindia.com/ragi-kheer-recipe-nachni-kheer/', 'http://www.vegrecipesofindia.com/ragi-ladoo-recipe/', 'http://www.vegrecipesofindia.com/paper-masala-dosa-recipe/', 'http://www.vegrecipesofindia.com/wp-content/uploads/2018/01/ragi-roti-recipe01.jpg', 'http://www.vegrecipesofindia.com/wp-content/uploads/2018/01/ragi-roti-recipe02.jpg', 'http://www.vegrecipesofindia.com/wp-content/uploads/2018/01/ragi-roti-recipe03.jpg', 'http://www.vegrecipesofindia.com/wp-content/uploads/2018/01/ragi-roti-recipe04.jpg', 'http://www.vegrecipesofindia.com/wp-content/uploads/2018/01/ragi-roti-recipe05.jpg', 'http://www.vegrecipesofindia.com/wp-content/uploads/2018/01/ragi-roti-recipe06.jpg', 'http://www.vegrecipesofindia.com/wp-content/uploads/2018/01/ragi-roti-recipe07.jpg', 'http://www.vegrecipesofindia.com/wp-content/uploads/2018/01/ragi-roti-recipe08.jpg', 'http://www.vegrecipesofindia.com/wp-content/uploads/2018/01/ragi-roti-recipe09.jpg', 'http://www.vegrecipesofindia.com/wp-content/uploads/2018/01/ragi-roti-recipe10.jpg', 'http://www.vegrecipesofindia.com/wp-content/uploads/2018/01/ragi-roti-recipe11.jpg', 'http://www.vegrecipesofindia.com/wp-content/uploads/2018/01/ragi-roti-recipe12.jpg', 'http://www.vegrecipesofindia.com/wp-content/uploads/2018/01/ragi-roti-recipe13.jpg', 'http://www.vegrecipesofindia.com/wp-content/uploads/2018/01/ragi-roti-recipe14.jpg', 'http://www.vegrecipesofindia.com/wp-content/uploads/2018/01/ragi-roti-recipe15.jpg', 'http://www.vegrecipesofindia.com/wp-content/uploads/2018/01/ragi-roti-recipe16.jpg', 'http://www.vegrecipesofindia.com/moong-sprouts-sabzi-recipe/', 'http://www.vegrecipesofindia.com/baingan-chokha-recipe/', 'http://www.vegrecipesofindia.com/bharli-vangi-recipe-bharli-vangi/', 'http://www.vegrecipesofindia.com/wp-content/uploads/2018/01/ragi-bhakri-recipe.jpg', 'http://www.vegrecipesofindia.com/recipes/kids-recipes/', 'http://www.vegrecipesofindia.com/recipes/vegetarian-main-course-recipes/', 'http://pinterest.com/vegrecipeindia', 'http://www.vegrecipesofindia.com/winter-recipes/', 'http://www.vegrecipesofindia.com/paneer-recipes-indian-paneer-recipes/', 'http://www.vegrecipesofindia.com/eggless-cakes-recipes/', 'http://www.vegrecipesofindia.com/mumbai-street-food-recipes/', 'http://www.vegrecipesofindia.com/dosa-recipes/', 'http://www.vegrecipesofindia.com/sandwich-recipes-veg-sandwich-recipes/', 'http://www.vegrecipesofindia.com/potato-recipes-aloo-recipes/', 'http://www.vegrecipesofindia.com/top-rice-recipes-best-rice-recipes/', 'http://www.vegrecipesofindia.com/south-indian-breakfast-recipes/', 'http://www.vegrecipesofindia.com/pani-puri-recipe-mumbai-pani-puri-recipe/', 'http://www.vegrecipesofindia.com/paneer-butter-masala/', 'http://www.vegrecipesofindia.com/pav-bhaji-recipe-mumbai-pav-bhaji-a-fastfood-recipe-from-mumbai/', 'http://www.vegrecipesofindia.com/chana-masala-with-coconut/', 'http://www.vegrecipesofindia.com/gajar-halwa-recipe-gajar-ka-halwa/', 'http://www.vegrecipesofindia.com/hyderabad-veg-biryani-hyderabadi-vegetable-dum-biryani-recipe/', 'http://www.vegrecipesofindia.com/chocolate-recipes/', 'http://www.vegrecipesofindia.com/ladoo-recipes/', 'http://www.vegrecipesofindia.com/top-10-indian-veggies-recipes/', 'http://www.vegrecipesofindia.com/top-10-curry-recipes/', 'http://www.vegrecipesofindia.com/top-10-dal-recipes/', 'http://www.vegrecipesofindia.com/mushroom-recipes/', 'http://www.vegrecipesofindia.com/recipes/beverages/', 'http://www.vegrecipesofindia.com/recipes/indian-breakfast-recipes/', 'http://www.vegrecipesofindia.com/recipes/dal-recipes-indian-curries/', 'http://www.vegrecipesofindia.com/recipes/desserts-recipes/', 'http://www.vegrecipesofindia.com/recipes/indian-vegetable-recipes/', 'http://www.vegrecipesofindia.com/recipes/pickles-chutneys-sauces-dips/', 'http://www.vegrecipesofindia.com/recipes/rice-recipes/', 'http://www.vegrecipesofindia.com/recipes/indian-snacks-indian-starters/', 'http://www.vegrecipesofindia.com/recipes/indian-curry-recipes/', 'http://www.vegrecipesofindia.com/recipes/goan-recipes/', 'http://www.vegrecipesofindia.com/recipes/gujarati-cuisine/', 'http://www.vegrecipesofindia.com/recipes/hyderabadi-cuisine/', 'http://www.vegrecipesofindia.com/recipes/karnataka-cuisine/', 'http://www.vegrecipesofindia.com/recipes/kerala-cuisine/', 'http://www.vegrecipesofindia.com/recipes/konkani-recipes/', 'http://www.vegrecipesofindia.com/recipes/maharashtrian-cuisine/', 'http://www.vegrecipesofindia.com/recipes/north-indian-recipes/', 'http://www.vegrecipesofindia.com/recipes/punjabi-recipes/', 'http://www.vegrecipesofindia.com/recipes/south-indian-recipes-cuisine/', 'http://www.vegrecipesofindia.com/recipes/tamil-nadu-recipes-tamilian-recipes/', 'http://www.vegrecipesofindia.com/top-10-indian-breakfast-recipes/', 'http://www.vegrecipesofindia.com/top-10-indo-chinese-recipes/', 'http://www.vegrecipesofindia.com/top-10-main-course-recipes/', 'http://www.vegrecipesofindia.com/north-indian-breakfast-recipes/', 'http://www.vegrecipesofindia.com/paneer-recipes-10-best-paneer-recipes/', 'http://www.vegrecipesofindia.com/restaurant-style-veg-recipes/', 'http://www.vegrecipesofindia.com/top-10-snacks-recipes/', 'http://www.vegrecipesofindia.com/top-10-indian-street-food-recipes/', 'http://www.vegrecipesofindia.com/sweets-recipes-top-sweets-recipes/', 'http://www.vegrecipesofindia.com/top-10-tandoori-recipes/', 'http://www.vegrecipesofindia.com/idli-recipes-idli-varieties/', 'http://www.vegrecipesofindia.com/oats-recipes/', 'http://www.vegrecipesofindia.com/pasta-recipes/', 'http://www.vegrecipesofindia.com/rasam-recipes-rasam-varieties/', 'http://www.vegrecipesofindia.com/pickle-recipes-achar-recipes/', 'http://www.vegrecipesofindia.com/poha-recipes/', 'http://www.vegrecipesofindia.com/chana-dal-recipes/', 'http://www.vegrecipesofindia.com/recipes-index/', 'http://www.vegrecipesofindia.com/salad-recipes-veg-salad-recipes/', 'http://www.vegrecipesofindia.com/bread-snacks-recipes/', 'http://www.vegrecipesofindia.com/cheese-recipes/', 'http://www.vegrecipesofindia.com/besan-recipes/', 'http://www.vegrecipesofindia.com/corn-recipes-sweet-corn-recipes/', 'http://www.vegrecipesofindia.com/soup-recipes-veg-soup-recipes/', 'http://www.vegrecipesofindia.com/instant-recipes-quick-veg-recipes/', 'http://www.vegrecipesofindia.com/banana-recipes/', 'http://www.vegrecipesofindia.com/raita-recipes-indian-raita-recipes/', 'http://www.vegrecipesofindia.com/tomato-recipes-tamatar-recipes/', 'http://www.vegrecipesofindia.com/biryani-recipes-veg-biryani-recipes/', 'http://www.vegrecipesofindia.com/rava-recipes-sooji-recipes/', 'http://www.vegrecipesofindia.com/pulao-recipes-veg-pulao-recipes/', 'http://www.vegrecipesofindia.com/chaat-recipes/', 'http://www.vegrecipesofindia.com/moong-dal-recipes/', 'http://www.vegrecipesofindia.com/paratha-recipes-indian-paratha/', 'http://www.vegrecipesofindia.com/pakora-recipes-pakoda-recipes/', 'http://www.vegrecipesofindia.com/chutney-recipes-indian-chutney-recipe/', 'http://www.vegrecipesofindia.com/recipes/baked-snacks/', 'http://www.vegrecipesofindia.com/recipes/bread-recipes/', 'http://www.vegrecipesofindia.com/recipes/eggless-cakes/', 'http://www.vegrecipesofindia.com/recipe/gluten-free/', 'http://www.vegrecipesofindia.com/recipes/no-onion-no-garlic-recipes/', 'http://www.vegrecipesofindia.com/recipes/toddler-recipes/', 'http://www.vegrecipesofindia.com/recipes/vegan-recipes/', 'http://www.vegrecipesofindia.com/recipe/15-minutes-recipes/', 'http://www.vegrecipesofindia.com/recipe/30-minutes-recipes/', 'http://www.vegrecipesofindia.com/recipe/bachelor-recipes/', 'http://www.vegrecipesofindia.com/jaggery-recipes/', 'http://www.vegrecipesofindia.com/recipes/collections/', 'http://www.vegrecipesofindia.com/jaggery-recipes/#respond', 'http://www.vegrecipesofindia.com/indian-summer-drinks/', 'http://www.vegrecipesofindia.com/whole-wheat-recipes-atta-recipes/', 'http://www.vegrecipesofindia.com/gur-ki-roti-recipe-jaggery-roti/', 'http://www.vegrecipesofindia.com/til-ladoo-recipe-sesame-seeds-laddu/', 'http://www.vegrecipesofindia.com/unniyappam-recipe/', 'http://www.vegrecipesofindia.com/onam-recipes-onam-sadya-recipes/', 'http://www.vegrecipesofindia.com/peanut-ladoo-recipe/', 'http://www.vegrecipesofindia.com/jaggery-rice-recipe-gur-walay-chawal/', 'http://www.vegrecipesofindia.com/narkel-naru-recipe/', 'http://www.vegrecipesofindia.com/recipes/bengali-cuisine/', 'http://www.vegrecipesofindia.com/ragi-dosa/', 'http://www.vegrecipesofindia.com/wheat-wheat-flour-appam-recipe/', 'http://www.vegrecipesofindia.com/nolen-gurer-payesh-recipe/', 'http://www.vegrecipesofindia.com/badam-ladoo-recipe/', 'http://www.vegrecipesofindia.com/almond-halwa-badam-halwa-recipe/', 'http://www.vegrecipesofindia.com/eggless-banana-pancake-recipe/', 'http://www.vegrecipesofindia.com/yereyappa-recipe-rice-appam-recipe/', 'http://www.vegrecipesofindia.com/moong-dal-payasam-recipe/', 'http://www.vegrecipesofindia.com/til-ladoo-recipe-til-gud-ke-ladoo/', 'http://www.vegrecipesofindia.com/chana-dal-payasam-recipe/', 'http://www.vegrecipesofindia.com/masala-lassi-recipe-masala-lassi/', 'http://www.vegrecipesofindia.com/banana-appam-recipe-banana-paniyaram/', 'http://www.vegrecipesofindia.com/eggless-banana-cake-recipe/', 'http://www.vegrecipesofindia.com/banana-bread-eggless-vegan-recipe/', 'http://www.vegrecipesofindia.com/eggless-banana-muffins-recipe/', 'http://www.vegrecipesofindia.com/sweet-banana-pooris-buns-recipe/', 'http://www.vegrecipesofindia.com/pori-urundai-recipe-murmura-ladoo/', 'http://www.vegrecipesofindia.com/wp-content/uploads/2015/10/murmura-ladoo-pori-urundai-recipe1.jpg', 'http://www.vegrecipesofindia.com/rice-payasam-rice-payasam-with-coconut-milk/', 'http://www.vegrecipesofindia.com/strawberry-jam-recipe-strawberry-recipes/', 'http://www.vegrecipesofindia.com/peanut-chikki-recipe/', 'http://www.vegrecipesofindia.com/carrot-payasam-carrot-kheer/', 'http://www.vegrecipesofindia.com/how-to-make-coconut-milk/', 'http://www.vegrecipesofindia.com/banana-rasayana-recipe/', 'http://www.vegrecipesofindia.com/patholi-recipe/', 'http://www.vegrecipesofindia.com/modak-recipe-ukadiche-modak-recipe/', 'http://www.vegrecipesofindia.com/fig-jam/', 'http://www.vegrecipesofindia.com/pineapple-payasam-recipe/', 'http://www.vegrecipesofindia.com/sweet-poha-recipe-milk-poha/', 'http://www.vegrecipesofindia.com/goan-nevris-recipe-neurios-recipe/', 'http://www.vegrecipesofindia.com/karanji-recipe-maharashtrian-karanji-recipe/', 'http://www.vegrecipesofindia.com/gujiya-recipe-fried-baked-gujiya/', 'http://www.vegrecipesofindia.com/sattu-ladoo-recipe/', 'http://www.vegrecipesofindia.com/litti-chokha-recipe/', 'http://www.vegrecipesofindia.com/sattu-drink-recipe-sattu-sharbat/', 'http://www.vegrecipesofindia.com/namkeen-sattu-recipe-sattu-ka-ghol/', 'http://www.vegrecipesofindia.com/eggless-orange-cake/', 'http://www.vegrecipesofindia.com/strawberry-almond-milkshake/', 'http://www.vegrecipesofindia.com/mango-rasayana-recipe-mango-shikran/', 'http://www.vegrecipesofindia.com/sweet-pongal-recipe-sakkarai-pongal-recipe/', 'http://www.vegrecipesofindia.com/ven-pongal-recipe-khara-pongal-recipe/', 'http://www.vegrecipesofindia.com/rava-pongal-recipe/', 'http://www.vegrecipesofindia.com/sweet-pongal-recipe-with-sugar/', 'http://www.vegrecipesofindia.com/gajar-ka-murabba-recipe/', 'http://www.vegrecipesofindia.com/gajar-ka-murabba-recipe/#respond', 'http://www.vegrecipesofindia.com/gajar-recipes-carrot-recipes/', 'http://www.vegrecipesofindia.com/carrot-burfi-recipe-gajar-barfi/', 'http://www.vegrecipesofindia.com/carrot-kanji-gajar-kanji-recipe/', 'http://www.vegrecipesofindia.com/carrot-paratha-recipe-gajar-paratha/', 'http://www.vegrecipesofindia.com/aloo-gajar-matar-recipe/', 'http://www.vegrecipesofindia.com/carrot-tomato-soup/', 'http://www.vegrecipesofindia.com/gobi-gajar-shalgam-achar-recipe/', 'http://www.vegrecipesofindia.com/wp-content/uploads/2018/01/gajar-ka-murabba-recipe.jpg', 'http://www.vegrecipesofindia.com/ice-cream-recipes-kulfi-recipes/', 'http://www.vegrecipesofindia.com/aam-ka-murabba-recipe/', 'http://www.vegrecipesofindia.com/aam-chunda-recipe-mango-chunda/', 'http://www.vegrecipesofindia.com/wp-content/uploads/2018/01/gajar-murabba-recipe01.jpg', 'http://www.vegrecipesofindia.com/wp-content/uploads/2018/01/gajar-murabba-recipe05.jpg', 'http://www.vegrecipesofindia.com/wp-content/uploads/2018/01/gajar-murabba-recipe02.jpg', 'http://www.vegrecipesofindia.com/wp-content/uploads/2018/01/gajar-murabba-recipe03.jpg', 'http://www.vegrecipesofindia.com/wp-content/uploads/2018/01/gajar-murabba-recipe04.jpg', 'http://www.vegrecipesofindia.com/wp-content/uploads/2018/01/gajar-murabba-recipe06.jpg', 'http://www.vegrecipesofindia.com/wp-content/uploads/2018/01/gajar-murabba-recipe07.jpg', 'http://www.vegrecipesofindia.com/wp-content/uploads/2018/01/gajar-murabba-recipe08.jpg', 'http://www.vegrecipesofindia.com/wp-content/uploads/2018/01/gajar-murabba-recipe09.jpg', 'http://www.vegrecipesofindia.com/wp-content/uploads/2018/01/gajar-murabba-recipe10.jpg', 'http://www.vegrecipesofindia.com/wp-content/uploads/2018/01/gajar-murabba-recipe11.jpg', 'http://www.vegrecipesofindia.com/wp-content/uploads/2018/01/gajar-murabba-recipe12.jpg', 'http://www.vegrecipesofindia.com/wp-content/uploads/2018/01/gajar-murabba-recipe13.jpg', 'http://www.vegrecipesofindia.com/wp-content/uploads/2018/01/gajar-murabba-recipe14.jpg', 'http://www.vegrecipesofindia.com/wp-content/uploads/2018/01/gajar-murabba-recipe15.jpg', 'http://www.vegrecipesofindia.com/wp-content/uploads/2018/01/gajar-murabba-recipe16.jpg', 'http://www.vegrecipesofindia.com/wp-content/uploads/2018/01/gajar-murabba-recipe17.jpg', 'http://www.vegrecipesofindia.com/wp-content/uploads/2018/01/gajar-murabba-recipe18.jpg', 'http://www.vegrecipesofindia.com/wp-content/uploads/2018/01/gajar-murabba-recipe19.jpg', 'http://www.vegrecipesofindia.com/wp-content/uploads/2018/01/gajar-murabba-recipe20.jpg', 'http://www.vegrecipesofindia.com/wp-content/uploads/2018/01/gajar-murabba-recipe21.jpg', 'http://www.vegrecipesofindia.com/wp-content/uploads/2018/01/gajar-murabba-recipe22.jpg', 'http://www.vegrecipesofindia.com/wp-content/uploads/2018/01/gajar-murabba-recipe23.jpg', 'http://www.vegrecipesofindia.com/wp-content/uploads/2018/01/gajar-murabba-recipe24.jpg', 'http://www.vegrecipesofindia.com/wp-content/uploads/2018/01/carrot-murabba-recipe.jpg', 'http://www.vegrecipesofindia.com/pumpkin-sambar-recipe/', 'http://www.vegrecipesofindia.com/pumpkin-sambar-recipe/#respond', 'http://www.vegrecipesofindia.com/black-eyed-beans-pumpkin-sambar-recipe/', 'http://www.vegrecipesofindia.com/sambar-powder-recipe-homemade-sambar-powder/', 'http://www.vegrecipesofindia.com/mysore-sambar-powder-recipe/', 'http://www.vegrecipesofindia.com/sambar-recipes-sambar-varieties/', 'http://www.vegrecipesofindia.com/brinjal-sambar-kathirikai-sambar/', 'http://www.vegrecipesofindia.com/vendakkai-sambar-recipe-okra-sambar/', 'http://www.vegrecipesofindia.com/tomato-sambar-recipe-thakkali-sambar/', 'http://www.vegrecipesofindia.com/vengaya-sambar-recipe-onion-sambar/', 'http://www.vegrecipesofindia.com/red-amaranth-sambar/', 'http://www.vegrecipesofindia.com/radish-sambar-mullangi-sambar/', 'http://www.vegrecipesofindia.com/kaddu-recipes-pumpkin-recipes/', 'http://www.vegrecipesofindia.com/kaddu-ki-sabzi/', 'http://www.vegrecipesofindia.com/kaddu-ka-halwa-pumpkin-halwa/', 'http://www.vegrecipesofindia.com/kaddu-paratha-recipe/', 'http://www.vegrecipesofindia.com/pumpkin-bhaji-recipe-kaddu-ki-sabzi/', 'http://www.vegrecipesofindia.com/pumpkin-kheer-recipe-kaddu-ki-kheer/', 'http://www.vegrecipesofindia.com/khatta-meetha-kaddu-sweet-sour-pumpkin/', 'http://www.vegrecipesofindia.com/pumpkin-erissery-onam-sadya-recipe/', 'http://www.vegrecipesofindia.com/instant-idli-recipe/', 'http://www.vegrecipesofindia.com/sada-dosa-recipe/', 'http://www.vegrecipesofindia.com/uttapam-recipe-uttapam-with-idli-batter/', 'http://www.vegrecipesofindia.com/wp-content/uploads/2018/01/pumpkin-sambar-recipe01.jpg', 'http://www.vegrecipesofindia.com/wp-content/uploads/2018/01/pumpkin-sambar-recipe01a.jpg', 'http://www.vegrecipesofindia.com/wp-content/uploads/2018/01/pumpkin-sambar-recipe02.jpg', 'http://www.vegrecipesofindia.com/wp-content/uploads/2018/01/pumpkin-sambar-recipe03.jpg', 'http://www.vegrecipesofindia.com/wp-content/uploads/2018/01/pumpkin-sambar-recipe04.jpg', 'http://www.vegrecipesofindia.com/wp-content/uploads/2018/01/pumpkin-sambar-recipe05.jpg', 'http://www.vegrecipesofindia.com/wp-content/uploads/2018/01/pumpkin-sambar-recipe06.jpg', 'http://www.vegrecipesofindia.com/wp-content/uploads/2018/01/pumpkin-sambar-recipe07.jpg', 'http://www.vegrecipesofindia.com/wp-content/uploads/2018/01/pumpkin-sambar-recipe08.jpg', 'http://www.vegrecipesofindia.com/wp-content/uploads/2018/01/pumpkin-sambar-recipe09.jpg', 'http://www.vegrecipesofindia.com/wp-content/uploads/2018/01/pumpkin-sambar-recipe10.jpg', 'http://www.vegrecipesofindia.com/wp-content/uploads/2018/01/pumpkin-sambar-recipe11.jpg', 'http://www.vegrecipesofindia.com/wp-content/uploads/2018/01/pumpkin-sambar-recipe12.jpg', 'http://www.vegrecipesofindia.com/wp-content/uploads/2018/01/pumpkin-sambar-recipe13.jpg', 'http://www.vegrecipesofindia.com/wp-content/uploads/2018/01/pumpkin-sambar-recipe14.jpg', 'http://www.vegrecipesofindia.com/wp-content/uploads/2018/01/pumpkin-sambar-recipe15.jpg', 'http://www.vegrecipesofindia.com/wp-content/uploads/2018/01/pumpkin-sambar-recipe16.jpg', 'http://www.vegrecipesofindia.com/wp-content/uploads/2018/01/pumpkin-sambar-recipe17.jpg', 'http://www.vegrecipesofindia.com/wp-content/uploads/2018/01/pumpkin-sambar-recipe18.jpg', 'http://www.vegrecipesofindia.com/wp-content/uploads/2018/01/pumpkin-sambar-recipe19.jpg', 'http://www.vegrecipesofindia.com/wp-content/uploads/2018/01/pumpkin-sambar-recipe20.jpg', 'http://www.vegrecipesofindia.com/wp-content/uploads/2018/01/pumpkin-sambar-recipe21.jpg', 'http://www.vegrecipesofindia.com/wp-content/uploads/2018/01/pumpkin-sambar-recipe22.jpg', 'http://www.vegrecipesofindia.com/wp-content/uploads/2018/01/pumpkin-sambar-recipe23.jpg', 'http://www.vegrecipesofindia.com/wp-content/uploads/2018/01/pumpkin-sambar-recipe24.jpg', 'http://www.vegrecipesofindia.com/wp-content/uploads/2018/01/pumpkin-sambar-recipe25.jpg', 'http://www.vegrecipesofindia.com/wp-content/uploads/2018/01/pumpkin-sambar-recipe26.jpg', 'http://www.vegrecipesofindia.com/wp-content/uploads/2018/01/pumpkin-sambar-recipe27.jpg', 'http://www.vegrecipesofindia.com/rava-uttapam-recipe-sooji-uttapam/', 'http://www.vegrecipesofindia.com/wp-content/uploads/2018/01/poosanikai-sambar-recipe.jpg', 'http://www.vegrecipesofindia.com/lilva-kachori-recipe/', 'http://www.vegrecipesofindia.com/lilva-kachori-recipe/#comments', 'http://www.vegrecipesofindia.com/undhiyu-recipe-gujarati-undhiyu-recipe/', 'http://www.vegrecipesofindia.com/wp-content/uploads/2018/01/gujarati-lilva-kachori.jpg', 'http://www.vegrecipesofindia.com/dal-kachori-recipe/', 'http://www.vegrecipesofindia.com/matar-kachori-bengali-matar-kachori/', 'http://www.vegrecipesofindia.com/urad-dal-kachori-recipe/', 'http://www.vegrecipesofindia.com/green-chutney-sweet-green-chutney/', 'http://www.vegrecipesofindia.com/mint-coriander-chutney-recipe/', 'http://www.vegrecipesofindia.com/saunth-chutney-sweet-tamarind-chutney/', 'http://www.vegrecipesofindia.com/mint-chutney-recipe-for-tandoori-recipes/', 'http://www.vegrecipesofindia.com/wp-content/uploads/2018/01/lilva-kachori-recipe01.jpg', 'http://www.vegrecipesofindia.com/wp-content/uploads/2018/01/lilva-kachori-recipe02.jpg', 'http://www.vegrecipesofindia.com/wp-content/uploads/2018/01/lilva-kachori-recipe04.jpg', 'http://www.vegrecipesofindia.com/wp-content/uploads/2018/01/lilva-kachori-recipe05.jpg', 'http://www.vegrecipesofindia.com/wp-content/uploads/2018/01/lilva-kachori-recipe06.jpg', 'http://www.vegrecipesofindia.com/wp-content/uploads/2018/01/lilva-kachori-recipe07.jpg', 'http://www.vegrecipesofindia.com/wp-content/uploads/2018/01/lilva-kachori-recipe03.jpg', 'http://www.vegrecipesofindia.com/wp-content/uploads/2018/01/lilva-kachori-recipe08.jpg', 'http://www.vegrecipesofindia.com/wp-content/uploads/2018/01/lilva-kachori-recipe09.jpg', 'http://www.vegrecipesofindia.com/wp-content/uploads/2018/01/lilva-kachori-recipe10.jpg', 'http://www.vegrecipesofindia.com/wp-content/uploads/2018/01/lilva-kachori-recipe11.jpg', 'http://www.vegrecipesofindia.com/wp-content/uploads/2018/01/lilva-kachori-recipe12.jpg', 'http://www.vegrecipesofindia.com/wp-content/uploads/2018/01/lilva-kachori-recipe13.jpg', 'http://www.vegrecipesofindia.com/wp-content/uploads/2018/01/lilva-kachori-recipe14.jpg', 'http://www.vegrecipesofindia.com/wp-content/uploads/2018/01/lilva-kachori-recipe15.jpg', 'http://www.vegrecipesofindia.com/wp-content/uploads/2018/01/lilva-kachori-recipe16.jpg', 'http://www.vegrecipesofindia.com/wp-content/uploads/2018/01/lilva-kachori-recipe17.jpg', 'http://www.vegrecipesofindia.com/wp-content/uploads/2018/01/lilva-kachori-recipe18.jpg', 'http://www.vegrecipesofindia.com/wp-content/uploads/2018/01/lilva-kachori-recipe19.jpg', 'http://www.vegrecipesofindia.com/wp-content/uploads/2018/01/lilva-kachori-recipe20.jpg', 'http://www.vegrecipesofindia.com/wp-content/uploads/2018/01/lilva-kachori-recipe21.jpg', 'http://www.vegrecipesofindia.com/wp-content/uploads/2018/01/lilva-kachori-recipe22.jpg', 'http://www.vegrecipesofindia.com/wp-content/uploads/2018/01/lilva-kachori-recipe23.jpg', 'http://www.vegrecipesofindia.com/wp-content/uploads/2018/01/lilva-kachori-recipe24.jpg', 'http://www.vegrecipesofindia.com/wp-content/uploads/2018/01/lilva-kachori-recipe25.jpg', 'http://www.vegrecipesofindia.com/wp-content/uploads/2018/01/lilva-kachori-recipe26.jpg', 'http://www.vegrecipesofindia.com/wp-content/uploads/2018/01/lilva-kachori-recipe27.jpg', 'http://www.vegrecipesofindia.com/wp-content/uploads/2018/01/lilva-kachori-recipe28.jpg', 'http://www.vegrecipesofindia.com/wp-content/uploads/2018/01/lilva-kachori-recipe29.jpg', 'http://www.vegrecipesofindia.com/wp-content/uploads/2018/01/lilva-kachori-recipe30.jpg', 'http://www.vegrecipesofindia.com/wp-content/uploads/2018/01/lilva-kachori-recipe31.jpg', 'http://www.vegrecipesofindia.com/wp-content/uploads/2018/01/lilva-kachori-recipe32.jpg', 'http://www.vegrecipesofindia.com/wp-content/uploads/2018/01/lilva-kachori-recipe33.jpg', 'http://www.vegrecipesofindia.com/wp-content/uploads/2018/01/lilva-kachori-recipe34.jpg', 'http://www.vegrecipesofindia.com/wp-content/uploads/2018/01/lilva-kachori-recipe35.jpg', 'http://www.vegrecipesofindia.com/wp-content/uploads/2018/01/lilva-kachori-recipe36.jpg', 'http://www.vegrecipesofindia.com/wp-content/uploads/2018/01/lilva-kachori-recipe37.jpg', 'http://www.vegrecipesofindia.com/wp-content/uploads/2018/01/lilva-kachori-recipe38.jpg', 'http://www.vegrecipesofindia.com/wp-content/uploads/2018/01/lilva-kachori-recipe39.jpg', 'http://www.vegrecipesofindia.com/green-chutney-for-chaat-recipes/', 'http://www.vegrecipesofindia.com/coriander-chutney/', 'http://www.vegrecipesofindia.com/tamarind-date-chutney-recipe-sweet-chutney-for-chaat/', 'http://www.vegrecipesofindia.com/wp-content/uploads/2018/01/lilva-kachori-recipe.jpg', 'http://www.vegrecipesofindia.com/lilva-kachori-recipe/#comment-636752', 'http://www.vegrecipesofindia.com/lilva-kachori-recipe/#comment-636807', 'http://www.vegrecipesofindia.com/lilva-kachori-recipe/#comment-636736', 'http://www.vegrecipesofindia.com/lilva-kachori-recipe/#comment-636805', 'http://www.vegrecipesofindia.com/lilva-kachori-recipe/#comment-636720', 'http://www.vegrecipesofindia.com/lilva-kachori-recipe/#comment-636810', 'http://www.vegrecipesofindia.com/diwali-sweets-recipes-diwali-recipes-2013/', 'http://www.vegrecipesofindia.com/diwali-sweets-recipes-diwali-recipes-2013/#comments', 'http://www.vegrecipesofindia.com/diwali-snacks-recipes-diwali-recipes-2013/', 'http://www.vegrecipesofindia.com/diwali-recipes-diwali-snacks-sweets/', 'http://www.vegrecipesofindia.com/kaju-katli-recipe-kaju-katli/', 'http://www.vegrecipesofindia.com/jalebi-recipe-how-to-make-jalebi/', 'http://www.vegrecipesofindia.com/besan-ladoo-recipe-easy-besan-ladoos/', 'http://www.vegrecipesofindia.com/gulab-jamun-easy-gulab-jamun-recipe/', 'http://www.vegrecipesofindia.com/khoya-mawa-recipe-homemade-khoya-mawa/', 'http://www.vegrecipesofindia.com/kala-jamun-recipe/', 'http://www.vegrecipesofindia.com/dry-gulab-jamun-recipe-sukha-gulab-jamun/', 'http://www.vegrecipesofindia.com/sweet-potato-gulab-jamun-recipe/', 'http://www.vegrecipesofindia.com/rasgulla-recipe-how-to-make-rasgullas/', 'http://www.vegrecipesofindia.com/kalakand-recipe-quick-kalakand-recipe/', 'http://www.vegrecipesofindia.com/how-to-make-paneer-homemade-paneer/', 'http://www.vegrecipesofindia.com/chenna-recipe-how-to-make-chenna/', 'http://www.vegrecipesofindia.com/malpua-recipe-malpua-rabdi/', 'http://www.vegrecipesofindia.com/rabri-recipe-rabdi-recipe/', 'http://www.vegrecipesofindia.com/basundi-recipe-quick-basundi-recipe/', 'http://www.vegrecipesofindia.com/rasmalai-recipe/', 'http://www.vegrecipesofindia.com/mysore-pak-recipe/', 'http://www.vegrecipesofindia.com/7-cup-barfi-recipe/', 'http://www.vegrecipesofindia.com/milk-peda-recipe-doodh-peda-recipe/', 'http://www.vegrecipesofindia.com/peda-recipe/', 'http://www.vegrecipesofindia.com/shankarpali-recipe-sweet-shankarpali/', 'http://www.vegrecipesofindia.com/savory-shankarpali-recipe-namkeen-shankarpali/', 'http://www.vegrecipesofindia.com/namak-paare-recipe/', 'http://www.vegrecipesofindia.com/punjabi-mathri-fried-mathri-baked-mathri-recipe/', 'http://www.vegrecipesofindia.com/shakkar-pare-recipe-shakkarpara-recipe/', 'http://www.vegrecipesofindia.com/whole-wheat-nankhatai-recipe-atta-nankhatai/', 'http://www.vegrecipesofindia.com/rice-kheer-recipe-chawal-ki-kheer/', 'http://www.vegrecipesofindia.com/seviyan-kheer-vermicelli-kheer/', 'http://www.vegrecipesofindia.com/vegan-vermicelli-kheer-vegan-seviyan-kheer/', 'http://www.vegrecipesofindia.com/shahi-tukra-recipe-shahi-tukda/', 'http://www.vegrecipesofindia.com/recipes/mughlai-recipes/', 'http://www.vegrecipesofindia.com/falooda-recipe-how-to-make-falooda-recipe/', 'http://www.vegrecipesofindia.com/kulfi-falooda-recipe/', 'http://www.vegrecipesofindia.com/navratan-korma-recipe-navratan-korma/', 'http://www.vegrecipesofindia.com/mughlai-shahi-paneer-korma-recipe/', 'http://www.vegrecipesofindia.com/mughlai-vegetable-biryani-recipe-veg-biryani/', 'http://www.vegrecipesofindia.com/shahi-paneer/', 'http://www.vegrecipesofindia.com/double-ka-meetha-recipe/', 'http://www.vegrecipesofindia.com/bread-gulab-jamun-recipe/', 'http://www.vegrecipesofindia.com/sandesh-recipe-for-durga-pooja/', 'http://www.vegrecipesofindia.com/chocolate-sandesh-recipe/', 'http://www.vegrecipesofindia.com/holi-recipes/', 'http://www.vegrecipesofindia.com/gujiya-recipe-apple-gujiya-recipe/', 'http://www.vegrecipesofindia.com/boondi-ladoo-recipe-boondi-laddu/', 'http://www.vegrecipesofindia.com/motichoor-ladoo-recipe-motichur-laddu/', 'http://www.vegrecipesofindia.com/rava-kesari-recipe/', 'http://www.vegrecipesofindia.com/sooji-halwa-recipe-rava-sheera/', 'http://www.vegrecipesofindia.com/chhena-poda-recipe/', 'http://www.vegrecipesofindia.com/besan-halwa-recipe/', 'http://www.vegrecipesofindia.com/pressure-cooker-cake-recipe/', 'http://www.vegrecipesofindia.com/chocolate-cake-recipe-in-pressure-cooker/', 'http://www.vegrecipesofindia.com/pressure-cooker-recipes/', 'http://www.vegrecipesofindia.com/pav-bhaji-in-pressure-cooker-recipe/', 'http://www.vegrecipesofindia.com/veg-biryani-recipe-in-pressure-cooker/', 'http://www.vegrecipesofindia.com/pav-recipe-in-pressure-cooker/', 'http://www.vegrecipesofindia.com/easy-vegetable-pulao-in-pressure-cooker/', 'http://www.vegrecipesofindia.com/poornam-boorelu-recipe/', 'http://www.vegrecipesofindia.com/coconut-ladoo-festival-recipes/', 'http://www.vegrecipesofindia.com/rava-ladoo-recipe-ladoo-recipes/', 'http://www.vegrecipesofindia.com/dry-fruits-ladoo-recipe/', 'http://www.vegrecipesofindia.com/navratri-fasting-rules-vrat-ka-khana/', 'http://www.vegrecipesofindia.com/hyderabadi-khubani-ka-meetha/', 'http://www.vegrecipesofindia.com/til-khoya-ladoo-recipe/', 'http://www.vegrecipesofindia.com/maladu-maa-ladoo-maladu-recipe/', 'http://www.vegrecipesofindia.com/malai-ladoo-recipe-paneer-ladoo/', 'http://www.vegrecipesofindia.com/atta-ladoo-recipe/', 'http://www.vegrecipesofindia.com/poha-ladoo-recipe-poha-laddu/', 'http://www.vegrecipesofindia.com/poha-cutlet-recipe-poha-recipes/', 'http://www.vegrecipesofindia.com/chura-matar-recipe-matar-poha/', 'http://www.vegrecipesofindia.com/poha-upma-recipe/', 'http://www.vegrecipesofindia.com/chivda-recipe-poha-chivda-chiwda/', 'http://www.vegrecipesofindia.com/potato-poha-recipe-batata-poha-potato-poha/', 'http://www.vegrecipesofindia.com/moong-dal-ladoo-recipe/', 'http://www.vegrecipesofindia.com/coconut-ladoo-recipe/', 'http://www.vegrecipesofindia.com/wp-content/uploads/2015/10/coconut-ladoo-recipe-with-khoya1.jpg', 'http://www.vegrecipesofindia.com/instant-coconut-ladoo-recipe/', 'http://www.vegrecipesofindia.com/urad-dal-ladoo-recipe/', 'http://www.vegrecipesofindia.com/rava-ladoo-recipe-sooji-ladoo/', 'http://www.vegrecipesofindia.com/coconut-ladoo-recipe-with-condensed-milk/', 'http://www.vegrecipesofindia.com/phirni-recipe-punjabi-phirni-recipe/', 'http://www.vegrecipesofindia.com/karwa-chauth-recipes-best-karwa-chauth-recipe/', 'http://www.vegrecipesofindia.com/leftover-rice-pudding-kheer/', 'http://www.vegrecipesofindia.com/semiya-payasam-recipe/', 'http://www.vegrecipesofindia.com/sheer-khurma-recipe-sheer-korma-recipe/', 'http://www.vegrecipesofindia.com/badam-kheer-recipe/', 'http://www.vegrecipesofindia.com/badam-milk-recipe/', 'http://www.vegrecipesofindia.com/aval-payasam-recipe/', 'http://www.vegrecipesofindia.com/sooji-kheer-recipe-rava-kheer-recipe/', 'http://www.vegrecipesofindia.com/paal-payasam-recipe-rice-payasam-recipe/', 'http://www.vegrecipesofindia.com/sabudana-payasam-recipe/', 'http://www.vegrecipesofindia.com/sabudana-kheer-sabudana-recipes/', 'http://www.vegrecipesofindia.com/makhane-ki-kheer/', 'http://www.vegrecipesofindia.com/lauki-kheer-recipe-dudhi-kheer-recipe/', 'http://www.vegrecipesofindia.com/ekadashi-recipes/', 'http://www.vegrecipesofindia.com/kheer-recipes/', 'http://www.vegrecipesofindia.com/oats-kheer-recipe/', 'http://www.vegrecipesofindia.com/banana-sheera/', 'http://www.vegrecipesofindia.com/milk-kesari-recipe/', 'http://www.vegrecipesofindia.com/saffron-halwa/', 'http://www.vegrecipesofindia.com/moong-dal-halwa-recipe-halwa-recipes/', 'http://www.vegrecipesofindia.com/atte-ka-halwa-recipe/', 'http://www.vegrecipesofindia.com/beetroot-halwa-recipe-halwa-recipes/', 'http://www.vegrecipesofindia.com/beetroot-halwa-recipe/', 'http://www.vegrecipesofindia.com/kesari-bhath-recipe/', 'http://www.vegrecipesofindia.com/apple-halwa-recipe-apple-halwa/', 'http://www.vegrecipesofindia.com/pineapple-kesari-recipe/', 'http://www.vegrecipesofindia.com/ash-gourd-halwa-recipe-kashi-halwa/', 'http://www.vegrecipesofindia.com/gajar-halwa-recipe-in-pressure-cooker/', 'http://www.vegrecipesofindia.com/almond-halwa-recipe/', 'http://www.vegrecipesofindia.com/gajar-ka-halwa-recipe-condensed-milk-quick-gajar-ka-halwa-recipe/', 'http://www.vegrecipesofindia.com/fruit-kesari-recipe/', 'http://www.vegrecipesofindia.com/karachi-halwa-recipe/', 'http://www.vegrecipesofindia.com/navratri-recipes-navratri-fasting-recipes/', 'http://www.vegrecipesofindia.com/halwa-recipe-indian-halwa-recipes/', 'http://www.vegrecipesofindia.com/kaju-barfi-recipe/', 'http://www.vegrecipesofindia.com/barfi-recipe-quick-khoya-barfi/', 'http://www.vegrecipesofindia.com/coconut-barfi-recipe-coconut-burfi/', 'http://www.vegrecipesofindia.com/dry-fruit-barfi-recipe/', 'http://www.vegrecipesofindia.com/badam-kaju-katli-recipe/', 'http://www.vegrecipesofindia.com/besan-barfi-recipe/', 'http://www.vegrecipesofindia.com/coconut-barfi-recipe/', 'http://www.vegrecipesofindia.com/badam-pista-barfi-recipe/', 'http://www.vegrecipesofindia.com/paneer-barfi-recipe-barfi-recipes/', 'http://www.vegrecipesofindia.com/nankhatai-recipe/', 'http://www.vegrecipesofindia.com/butter-murruku-recipe/', 'http://www.vegrecipesofindia.com/ribbon-pakoda-recipe/', 'http://www.vegrecipesofindia.com/chakli-recipe-instant-chakli-recipe/', 'http://www.vegrecipesofindia.com/puran-poli-recipe/', 'http://www.vegrecipesofindia.com/ganesh-chaturthi-recipes-vinayaka-chaturthi-recipes/', 'http://www.vegrecipesofindia.com/puran-poli-recipe-bobbatlu-holige-recipe/', 'http://www.vegrecipesofindia.com/panjiri-recipe/', 'http://www.vegrecipesofindia.com/malai-kulfi-recipe/', 'http://www.vegrecipesofindia.com/kulfi-recipe-basic-kulfi-recipe/', 'http://www.vegrecipesofindia.com/punjabi-sweet-poora-puda-pooda-recipe/', 'http://www.vegrecipesofindia.com/piyush-recipe/', 'http://www.vegrecipesofindia.com/sweet-lassi-punjabi-lassi/', 'http://www.vegrecipesofindia.com/cold-coffee-with-ice-cream-recipe/', 'http://www.vegrecipesofindia.com/sweet-paniyaram/', 'http://www.vegrecipesofindia.com/idli-dosa-batter-in-a-mixie/', 'http://www.vegrecipesofindia.com/masala-paniyaram-recipe/', 'http://www.vegrecipesofindia.com/dry-fruits-karanji-recipe/', 'http://www.vegrecipesofindia.com/zarda-pulao-recipe/', 'http://www.vegrecipesofindia.com/kalkal-recipe/', 'http://www.vegrecipesofindia.com/meethi-seviyan-recipe/', 'http://www.vegrecipesofindia.com/shrikhand-recipe/', 'http://www.vegrecipesofindia.com/hung-curd-how-to-make-hung-curd/', 'http://www.vegrecipesofindia.com/mango-shrikhand-amrakhand-recipe/', 'http://www.vegrecipesofindia.com/shrikhand-recipe-with-greek-yogurt/', 'http://www.vegrecipesofindia.com/eggless-butter-cookies-recipe/', 'http://www.vegrecipesofindia.com/basic-eggless-chocolate-cake-recipe/', 'http://www.vegrecipesofindia.com/eggless-coconut-cookies-recipe/', 'http://www.vegrecipesofindia.com/cookies-recipes-biscuit-recipes/', 'http://www.vegrecipesofindia.com/eggless-mawa-cake-recipe/', 'http://www.vegrecipesofindia.com/fruit-custard-mixed-fruit-custard/', 'http://www.vegrecipesofindia.com/trifle-recipe-trifle-pudding-recipe/', 'http://www.vegrecipesofindia.com/eggless-mango-cake-recipe/', 'http://www.vegrecipesofindia.com/fruit-lassi-recipe/', 'http://www.vegrecipesofindia.com/eggless-christmas-fruit-cake/', 'http://www.vegrecipesofindia.com/eggless-chocolate-chip-cookies-recipe/', 'http://www.vegrecipesofindia.com/recipes/festival-recipes/', 'http://www.vegrecipesofindia.com/diwali-sweets-recipes-diwali-recipes-2013/#comment-630348', 'http://www.vegrecipesofindia.com/diwali-sweets-recipes-diwali-recipes-2013/#comment-630368', 'http://www.vegrecipesofindia.com/diwali-sweets-recipes-diwali-recipes-2013/#comment-629422', 'http://www.vegrecipesofindia.com/diwali-sweets-recipes-diwali-recipes-2013/#comment-629443', 'http://www.vegrecipesofindia.com/diwali-sweets-recipes-diwali-recipes-2013/#comment-572096', 'http://www.vegrecipesofindia.com', 'http://www.vegrecipesofindia.com/diwali-sweets-recipes-diwali-recipes-2013/#comment-572514', 'http://www.vegrecipesofindia.com/diwali-sweets-recipes-diwali-recipes-2013/#comment-550157', 'http://www.vegrecipesofindia.com/diwali-sweets-recipes-diwali-recipes-2013/#comment-550170', 'http://www.vegrecipesofindia.com/diwali-sweets-recipes-diwali-recipes-2013/#comment-544134', 'http://www.vegrecipesofindia.com/diwali-sweets-recipes-diwali-recipes-2013/#comment-544182', 'http://www.vegrecipesofindia.com/diwali-sweets-recipes-diwali-recipes-2013/#comment-542227', 'http://www.vegrecipesofindia.com/diwali-sweets-recipes-diwali-recipes-2013/#comment-542270', 'http://www.vegrecipesofindia.com/diwali-sweets-recipes-diwali-recipes-2013/#comment-541373', 'http://www.vegrecipesofindia.com/diwali-sweets-recipes-diwali-recipes-2013/#comment-541437', 'http://www.vegrecipesofindia.com/diwali-sweets-recipes-diwali-recipes-2013/#comment-541058', 'http://www.vegrecipesofindia.com/diwali-sweets-recipes-diwali-recipes-2013/#comment-541467', 'http://www.vegrecipesofindia.com/diwali-sweets-recipes-diwali-recipes-2013/#comment-536973', 'http://www.vegrecipesofindia.com/diwali-sweets-recipes-diwali-recipes-2013/#comment-537036', 'http://www.vegrecipesofindia.com/diwali-sweets-recipes-diwali-recipes-2013/#comment-534856', 'http://www.vegrecipesofindia.com/diwali-sweets-recipes-diwali-recipes-2013/#comment-534988', 'http://www.vegrecipesofindia.com/diwali-sweets-recipes-diwali-recipes-2013/#comment-466149', 'http://www.vegrecipesofindia.com/diwali-sweets-recipes-diwali-recipes-2013/#comment-466316', 'http://www.vegrecipesofindia.com/diwali-sweets-recipes-diwali-recipes-2013/#comment-413035', 'http://www.vegrecipesofindia.com/diwali-sweets-recipes-diwali-recipes-2013/#comment-412609', 'http://www.vegrecipesofindia.com/diwali-sweets-recipes-diwali-recipes-2013/#comment-412666', 'http://www.vegrecipesofindia.com/diwali-sweets-recipes-diwali-recipes-2013/#comment-412386', 'http://www.vegrecipesofindia.com/diwali-sweets-recipes-diwali-recipes-2013/#comment-412481', 'http://www.vegrecipesofindia.com/diwali-sweets-recipes-diwali-recipes-2013/#comment-412382', 'http://www.vegrecipesofindia.com/diwali-sweets-recipes-diwali-recipes-2013/#comment-412399', 'http://www.vegrecipesofindia.com/diwali-sweets-recipes-diwali-recipes-2013/#comment-412291', 'http://www.vegrecipesofindia.com/diwali-sweets-recipes-diwali-recipes-2013/#comment-412363', 'http://www.vegrecipesofindia.com/diwali-sweets-recipes-diwali-recipes-2013/#comment-412007', 'http://www.vegrecipesofindia.com/diwali-sweets-recipes-diwali-recipes-2013/#comment-411891', 'http://www.vegrecipesofindia.com/diwali-sweets-recipes-diwali-recipes-2013/#comment-411959', 'http://www.vegrecipesofindia.com/diwali-sweets-recipes-diwali-recipes-2013/#comment-411749', 'http://www.vegrecipesofindia.com/diwali-sweets-recipes-diwali-recipes-2013/#comment-411664', 'http://www.vegrecipesofindia.com/diwali-sweets-recipes-diwali-recipes-2013/#comment-411580', 'http://www.vegrecipesofindia.com/diwali-sweets-recipes-diwali-recipes-2013/#comment-411581', 'http://www.vegrecipesofindia.com/diwali-sweets-recipes-diwali-recipes-2013/#comment-267182', 'http://www.vegrecipesofindia.com/diwali-sweets-recipes-diwali-recipes-2013/#comment-268193', 'http://www.vegrecipesofindia.com/diwali-sweets-recipes-diwali-recipes-2013/#comment-170640', 'http://www.vegrecipesofindia.com/diwali-sweets-recipes-diwali-recipes-2013/#comment-173471', 'http://www.vegrecipesofindia.com/diwali-sweets-recipes-diwali-recipes-2013/#comment-170579', 'http://www.vegrecipesofindia.com/diwali-sweets-recipes-diwali-recipes-2013/#comment-173486', 'http://www.vegrecipesofindia.com/diwali-sweets-recipes-diwali-recipes-2013/#comment-170578', 'http://www.vegrecipesofindia.com/diwali-sweets-recipes-diwali-recipes-2013/#comment-170463', 'http://www.vegrecipesofindia.com/diwali-sweets-recipes-diwali-recipes-2013/#comment-173448', 'http://www.vegrecipesofindia.com/diwali-sweets-recipes-diwali-recipes-2013/#comment-166568', 'http://www.vegrecipesofindia.com/diwali-sweets-recipes-diwali-recipes-2013/#comment-167041', 'http://www.masalaherb.com/', 'http://www.vegrecipesofindia.com/diwali-sweets-recipes-diwali-recipes-2013/#comment-165004', 'http://www.vegrecipesofindia.com/diwali-sweets-recipes-diwali-recipes-2013/#comment-165013', 'http://www.vegrecipesofindia.com/methi-recipes-vegetarian-methi-recipes/', 'http://www.vegrecipesofindia.com/methi-recipes-vegetarian-methi-recipes/#comments', 'http://www.vegrecipesofindia.com/bhindi-recipes-indian-okra-recipes/', 'http://www.vegrecipesofindia.com/palak-recipes-indian-palak-recipes/', 'http://www.vegrecipesofindia.com/baingan-recipes-brinjal-recipes/', 'http://www.vegrecipesofindia.com/aloo-methi-recipe-dry-aloo-methi-recipe/', 'http://www.vegrecipesofindia.com/methi-matar-malai-recipe-methi-matar-malai/', 'http://www.vegrecipesofindia.com/methi-mushroom-recipe/', 'http://www.vegrecipesofindia.com/wp-content/uploads/2015/01/restaurant-style-methi-mushroom.jpg', 'http://www.vegrecipesofindia.com/methi-dal-fenugreek-leaves-dal/', 'http://www.vegrecipesofindia.com/methi-chole-punjabi-methi-chole/', 'http://www.vegrecipesofindia.com/aloo-chole-masala-aloo-chana/', 'http://www.vegrecipesofindia.com/palak-chole-recipe-palak-chole/', 'http://www.vegrecipesofindia.com/chole-paneer-recipe-paneer-chole/', 'http://www.vegrecipesofindia.com/methi-malai-paneer-recipe/', 'http://www.vegrecipesofindia.com/methi-aloo-recipe/', 'http://www.vegrecipesofindia.com/aloo-gobi-methi-tuk-recipe/', 'http://www.vegrecipesofindia.com/methi-paratha/', 'http://www.vegrecipesofindia.com/paratha-recipe-plain-paratha-recipe/', 'http://www.vegrecipesofindia.com/methi-thepla-gujarati-methi-thepla/', 'http://www.vegrecipesofindia.com/lauki-thepla-recipe/', 'http://www.vegrecipesofindia.com/methi-paneer-recipe/', 'http://www.vegrecipesofindia.com/methi-missi-roti/', 'http://www.vegrecipesofindia.com/missi-roti-recipe/', 'http://www.vegrecipesofindia.com/methi-muthia-steamed-methi-muthia-fried/', 'http://www.vegrecipesofindia.com/methi-pakora-recipe-methi-pakoda/', 'http://www.vegrecipesofindia.com/methi-puri-recipe-methi-poori/', 'http://www.vegrecipesofindia.com/methi-na-gota-methi-pakora/', 'http://www.vegrecipesofindia.com/methi-pulao-recipe/', 'http://www.vegrecipesofindia.com/saag-paneer/', 'http://www.vegrecipesofindia.com/methi-chana-dal-parathas-punjabi/', 'http://www.vegrecipesofindia.com/methi-bhaji-recipe/', 'http://www.vegrecipesofindia.com/recipes/general/', 'http://www.vegrecipesofindia.com/methi-recipes-vegetarian-methi-recipes/#comment-614197', 'http://www.vegrecipesofindia.com/methi-recipes-vegetarian-methi-recipes/#comment-614200', 'http://www.vegrecipesofindia.com/methi-recipes-vegetarian-methi-recipes/#comment-512200', 'http://www.vegrecipesofindia.com/methi-recipes-vegetarian-methi-recipes/#comment-512222', 'http://www.vegrecipesofindia.com/methi-recipes-vegetarian-methi-recipes/#comment-486598', 'http://www.vegrecipesofindia.com/methi-recipes-vegetarian-methi-recipes/#comment-475165', 'http://www.vegrecipesofindia.com/methi-recipes-vegetarian-methi-recipes/#comment-475175', 'http://www.vegrecipesofindia.com/methi-recipes-vegetarian-methi-recipes/#comment-466597', 'http://www.vegrecipesofindia.com/methi-recipes-vegetarian-methi-recipes/#comment-466729', 'http://www.vegrecipesofindia.com/methi-recipes-vegetarian-methi-recipes/#comment-463292', 'http://www.vegrecipesofindia.com/methi-recipes-vegetarian-methi-recipes/#comment-463396', 'http://www.vegrecipesofindia.com/methi-recipes-vegetarian-methi-recipes/#comment-424249', 'http://www.vegrecipesofindia.com/methi-recipes-vegetarian-methi-recipes/#comment-424328', 'http://www.vegrecipesofindia.com/methi-recipes-vegetarian-methi-recipes/#comment-422754', 'http://www.vegrecipesofindia.com/methi-recipes-vegetarian-methi-recipes/#comment-422760', 'http://www.vegrecipesofindia.com/methi-recipes-vegetarian-methi-recipes/#comment-422229', 'http://www.vegrecipesofindia.com/methi-recipes-vegetarian-methi-recipes/#comment-422273', 'http://www.vegrecipesofindia.com/methi-recipes-vegetarian-methi-recipes/#comment-422190', 'http://www.vegrecipesofindia.com/methi-recipes-vegetarian-methi-recipes/#comment-422271', 'http://www.vegrecipesofindia.com/methi-recipes-vegetarian-methi-recipes/#comment-422189', 'http://www.vegrecipesofindia.com/methi-recipes-vegetarian-methi-recipes/#comment-422280', 'http://www.vegrecipesofindia.com/methi-recipes-vegetarian-methi-recipes/#comment-422131', 'http://www.vegrecipesofindia.com/methi-recipes-vegetarian-methi-recipes/#comment-422145', 'http://www.vegrecipesofindia.com/methi-recipes-vegetarian-methi-recipes/#comment-422121', 'http://www.vegrecipesofindia.com/methi-recipes-vegetarian-methi-recipes/#comment-422146', 'http://ahomemakersdiary.com', 'http://www.vegrecipesofindia.com/methi-recipes-vegetarian-methi-recipes/#comment-422035', 'http://www.vegrecipesofindia.com/methi-recipes-vegetarian-methi-recipes/#comment-422039', 'http://www.vegrecipesofindia.com/gobi-recipes-cauliflower-recipes/', 'http://www.vegrecipesofindia.com/gobi-recipes-cauliflower-recipes/#comments', 'http://www.vegrecipesofindia.com/gobi-ke-danthal-ki-sabzi-recipe/', 'http://www.vegrecipesofindia.com/capsicum-recipes-veg-capsicum-recipes/', 'http://www.vegrecipesofindia.com/gobi-masala-recipe-gobi-recipes/', 'http://www.vegrecipesofindia.com/rotis-made-from-whole-wheat-flour/', 'http://www.vegrecipesofindia.com/naan-recipe-without-yeast/', 'http://www.vegrecipesofindia.com/tandoori-roti-recipe/', 'http://www.vegrecipesofindia.com/how-to-cook-rice-in-a-pot-pan-stove/', 'http://www.vegrecipesofindia.com/wp-content/uploads/2015/01/gobi-masala.jpg', 'http://www.vegrecipesofindia.com/aloo-gobi-curry-recipe/', 'http://www.vegrecipesofindia.com/gobi-manchurian-dry-recipe/', 'http://www.vegrecipesofindia.com/caulifower-gobhi-manchurian-a-chinese-recipe-made-indian-style/', 'http://www.vegrecipesofindia.com/aloo-gobi-recipe-punjabialoo-gobi/', 'http://www.vegrecipesofindia.com/gobi-65-recipe-gobi-recipes/', 'http://www.vegrecipesofindia.com/aloo-65-potato-65/', 'http://www.vegrecipesofindia.com/paneer-65-recipe-paneer-recipes/', 'http://www.vegrecipesofindia.com/gobi-biryani-recipe-cauliflower-biryani/', 'http://www.vegrecipesofindia.com/aloo-gobi-matar-recipe/', 'http://www.vegrecipesofindia.com/gobi-matar-recipe-gobi-recipes/', 'http://www.vegrecipesofindia.com/gobi-paratha-punjabi-gobi-paratha/', 'http://www.vegrecipesofindia.com/gobi-pakora-cauliflower-pakora/', 'http://www.vegrecipesofindia.com/pakora-recipe-basic-pakora-recipe/', 'http://www.vegrecipesofindia.com/aloo-pakora-aloo-bajji/', 'http://www.vegrecipesofindia.com/onion-pakoras-making-onion-pakorasfritters/', 'http://www.vegrecipesofindia.com/cabbage-pakora-recipe-cabbage-pakora/', 'http://www.vegrecipesofindia.com/dhaba-style-aloo-gobhi-punjabi-recipe-with-potatoes-and-cauliflower/', 'http://www.vegrecipesofindia.com/aloo-phulkopir-dalna-recipe/', 'http://www.vegrecipesofindia.com/luchi-recipe-bengali-luchi-recipe/', 'http://www.vegrecipesofindia.com/poori-a-kind-of-fried-indian-bread/', 'http://www.vegrecipesofindia.com/tandoori-gobi-tandoori-gobi-tikka/', 'http://www.vegrecipesofindia.com/how-to-make-cashew-yogurt/', 'http://www.vegrecipesofindia.com/how-to-make-curd-dahi-homemade-curd-dahi/', 'http://www.vegrecipesofindia.com/baked-cauliflower-vegan-baked-cauliflower/', 'http://www.vegrecipesofindia.com/aloo-gobi-paratha-recipe/', 'http://www.vegrecipesofindia.com/cauliflower-curry-recipe/', 'http://www.vegrecipesofindia.com/flower-batata-rassa-recipe/', 'http://www.vegrecipesofindia.com/cauliflower-kurma-recipe/', 'http://www.vegrecipesofindia.com/kerala-paratha-kerala-parotta/', 'http://www.vegrecipesofindia.com/idiyappam-recipe-nool-puttu/', 'http://www.vegrecipesofindia.com/neer-dosa-recipe/', 'http://www.vegrecipesofindia.com/set-dosa-recipe-sponge-dosa/', 'http://www.vegrecipesofindia.com/appam-recipe-kerala-appam/', 'http://www.vegrecipesofindia.com/matar-pulao-peas-pulao-recipe/', 'http://www.vegrecipesofindia.com/singara-recipe/', 'http://www.vegrecipesofindia.com/samosa-recipe-punjabi-samosa/', 'http://www.vegrecipesofindia.com/gobi-recipes-cauliflower-recipes/#comment-626009', 'http://www.vegrecipesofindia.com/gobi-recipes-cauliflower-recipes/#comment-626061', 'http://www.vegrecipesofindia.com/gobi-recipes-cauliflower-recipes/#comment-571787', 'http://www.vegrecipesofindia.com/gobi-recipes-cauliflower-recipes/#comment-437276', 'http://www.vegrecipesofindia.com/gobi-recipes-cauliflower-recipes/#comment-437300', 'http://www.vegrecipesofindia.com/gobi-recipes-cauliflower-recipes/#comment-432220', 'http://www.vegrecipesofindia.com/gobi-recipes-cauliflower-recipes/#comment-432246', 'http://www.vegrecipesofindia.com/gobi-recipes-cauliflower-recipes/#comment-430085', 'http://www.vegrecipesofindia.com/gobi-recipes-cauliflower-recipes/#comment-430111', 'http://www.vegrecipesofindia.com/gobi-recipes-cauliflower-recipes/#comment-427738', 'http://www.vegrecipesofindia.com/gobi-recipes-cauliflower-recipes/#comment-427752', 'http://www.vegrecipesofindia.com/gobi-recipes-cauliflower-recipes/#comment-427366', 'http://www.vegrecipesofindia.com/gobi-recipes-cauliflower-recipes/#comment-427382', 'http://www.vegrecipesofindia.com/gobi-recipes-cauliflower-recipes/#comment-427362', 'http://www.vegrecipesofindia.com/gobi-recipes-cauliflower-recipes/#comment-427379', 'http://www.vegrecipesofindia.com/gobi-recipes-cauliflower-recipes/#comment-427331', 'http://www.vegrecipesofindia.com/gobi-recipes-cauliflower-recipes/#comment-427387', 'http://www.vegrecipesofindia.com/gobi-recipes-cauliflower-recipes/#comment-427115', 'http://www.vegrecipesofindia.com/gobi-recipes-cauliflower-recipes/#comment-427141', 'http://www.vegrecipesofindia.com/no-onion-no-garlic-recipes/', 'http://www.vegrecipesofindia.com/no-onion-no-garlic-recipes/#comments', 'http://www.vegrecipesofindia.com/paneer-butter-masala-recipe-no-onion-no-garlic/', 'http://www.vegrecipesofindia.com/naan-recipe-naan-with-yeast/', 'http://www.vegrecipesofindia.com/jeera-rice-recipe-cumin-rice/', 'http://www.vegrecipesofindia.com/ghee-rice-recipe-rice-recipes/', 'http://www.vegrecipesofindia.com/saffron-rice-or-kesar-rice/', 'http://www.vegrecipesofindia.com/pav-bhaji-no-onion-no-garlic-recipe/', 'http://www.vegrecipesofindia.com/palak-dal-spinach-dal/', 'http://www.vegrecipesofindia.com/dal-palak-recipe-spinach-with-arhar-dal/', 'http://www.vegrecipesofindia.com/matar-masala-recipe-peas-masala/', 'http://www.vegrecipesofindia.com/butter-naan-recipe-whole-wheat-butter-naan/', 'http://www.vegrecipesofindia.com/palak-paneer-recipe-no-onion-no-garlic/', 'http://www.vegrecipesofindia.com/garam-masala-recipe-garam-masala-powder/', 'http://www.vegrecipesofindia.com/kashmiri-dum-aloo/', 'http://www.vegrecipesofindia.com/punjabi-dum-aloo/', 'http://www.vegrecipesofindia.com/dum-aloo-recipe-up-style/', 'http://www.vegrecipesofindia.com/dum-aloo-recipe-restaurant-style/', 'http://www.vegrecipesofindia.com/bengali-dum-aloo-recipe/', 'http://www.vegrecipesofindia.com/achari-paneer-recipe/', 'http://www.vegrecipesofindia.com/achari-paneer-tikka-recipe-tikka-recipes/', 'http://www.vegrecipesofindia.com/paneer-tikka-recipe-paneer-tikka/', 'http://www.vegrecipesofindia.com/mushroom-tikka/', 'http://www.vegrecipesofindia.com/amritsari-paneer-tikka-recipe/', 'http://www.vegrecipesofindia.com/aloo-tikka-recipe-tandoori-aloo/', 'http://www.vegrecipesofindia.com/paneer-tikka-masala-recipe/', 'http://www.vegrecipesofindia.com/dry-aloo-matar-recipe/', 'http://www.vegrecipesofindia.com/white-bread-easy-white-bread/', 'http://www.vegrecipesofindia.com/restaurant-style-dal-tadka/', 'http://www.vegrecipesofindia.com/jeera-rice-recipe/', 'http://www.vegrecipesofindia.com/panchmel-dal-panchratna-dal-rajasthani-dal/', 'http://www.vegrecipesofindia.com/arachuvitta-sambar-recipe/', 'http://www.vegrecipesofindia.com/medu-vada-recipe-medu-vada/', 'http://www.vegrecipesofindia.com/aloo-tamatar-sabzi-navratri-recipes/', 'http://www.vegrecipesofindia.com/kuttu-ka-paratha-kuttu-ki-roti/', 'http://www.vegrecipesofindia.com/singhare-ki-poori/', 'http://www.vegrecipesofindia.com/rajgira-paratha-recipe/', 'http://www.vegrecipesofindia.com/rajgira-ki-poori-amaranth-poori/', 'http://www.vegrecipesofindia.com/vrat-wale-aloo-or-vrat-ke-aloo/', 'http://www.vegrecipesofindia.com/hara-bhara-kabab/', 'http://www.vegrecipesofindia.com/vegetarian-shammi-kabab/', 'http://www.vegrecipesofindia.com/rajma-kebab-recipe/', 'http://www.vegrecipesofindia.com/veg-kabab-recipe/', 'http://www.vegrecipesofindia.com/vangi-bhath-recipe/', 'http://www.vegrecipesofindia.com/vangi-bhaat-recipe/', 'http://www.vegrecipesofindia.com/goda-masala-recipe-maharashtrian-goda-masala/', 'http://www.vegrecipesofindia.com/bisi-bele-bath-recipe/', 'http://www.vegrecipesofindia.com/veg-sagu-recipe-veg-saagu/', 'http://www.vegrecipesofindia.com/udipi-sambar/', 'http://www.vegrecipesofindia.com/batata-vada-potato-bonda-aloo-vada/', 'http://www.vegrecipesofindia.com/mumbai-pani-puri-recipe/', 'http://www.vegrecipesofindia.com/bhel-puri-mumbai-bhel-puri/', 'http://www.vegrecipesofindia.com/misal-pav-recipe-misal-pav/', 'http://www.vegrecipesofindia.com/sev-puri-recipe/', 'http://www.vegrecipesofindia.com/masala-dosa-recipe-mumbai-style/', 'http://www.vegrecipesofindia.com/ragda-patties-recipe-mumbai-ragda-patties-recipe/', 'http://www.vegrecipesofindia.com/masala-dosa-recipe-make-masala-dosa-recipe-dosa-recipes/', 'http://www.vegrecipesofindia.com/bengali-moong-dal-khichdi-recipe/', 'http://www.vegrecipesofindia.com/moong-dal-khichdi-recipe-ganesh-chaturthi/', 'http://www.vegrecipesofindia.com/rajasthani-kadhi-recipe-kadhi-recipes/', 'http://www.vegrecipesofindia.com/maharashtrian-kadhi-recipe-kadhi-recipes/', 'http://www.vegrecipesofindia.com/gujarati-kadhi-recipe-gujarati-kadhi/', 'http://www.vegrecipesofindia.com/punjabi-kadhi-recipe-punjabi-kadhi-pakora/', 'http://www.vegrecipesofindia.com/jeera-aloo-recipe-for-fasting/', 'http://www.vegrecipesofindia.com/jeera-aloo-recipe-jeera-aloo/', 'http://www.vegrecipesofindia.com/aloo-fasting-recipes-navratri-recipes/', 'http://www.vegrecipesofindia.com/dahi-aloo-fasting-recipe/', 'http://www.vegrecipesofindia.com/aloo-paneer-kofta/', 'http://www.vegrecipesofindia.com/farali-pattice-recipe/', 'http://www.vegrecipesofindia.com/farali-batata-vada-recipe/', 'http://www.vegrecipesofindia.com/aloo-chaat-recipe-fasting-recipe/', 'http://www.vegrecipesofindia.com/aloo-palak-sabzi-vrat-ke-aloo-palak/', 'http://www.vegrecipesofindia.com/recipes/top-recipes/', 'http://www.vegrecipesofindia.com/no-onion-no-garlic-recipes/#comment-629034', 'http://www.vegrecipesofindia.com/no-onion-no-garlic-recipes/#comment-628812', 'http://www.vegrecipesofindia.com/no-onion-no-garlic-recipes/#comment-628967', 'http://www.vegrecipesofindia.com/no-onion-no-garlic-recipes/#comment-628811', 'http://www.vegrecipesofindia.com/no-onion-no-garlic-recipes/#comment-628949', 'http://www.vegrecipesofindia.com/no-onion-no-garlic-recipes/#comment-628468', 'http://www.vegrecipesofindia.com/no-onion-no-garlic-recipes/#comment-628903', 'http://www.vegrecipesofindia.com/no-onion-no-garlic-recipes/#comment-628989', 'http://www.vegrecipesofindia.com/no-onion-no-garlic-recipes/#comment-629055', 'http://www.vegrecipesofindia.com/no-onion-no-garlic-recipes/#comment-629077', 'http://www.vegrecipesofindia.com/no-onion-no-garlic-recipes/#comment-629134', 'http://www.vegrecipesofindia.com/top-10-veg-recipes-world-cuisine/', 'http://www.vegrecipesofindia.com/top-10-veg-recipes-world-cuisine/#comments', 'http://www.vegrecipesofindia.com/recipes/international-cuisines-recipes/', 'http://www.vegrecipesofindia.com/vegetable-pasta-in-white-sauce-recipe/', 'http://www.vegrecipesofindia.com/pasta-in-red-sauce-recipe/', 'http://www.vegrecipesofindia.com/macaroni-and-cheese-recipe/', 'http://www.vegrecipesofindia.com/veg-pizza-recipe-vegetable-pizza/', 'http://www.vegrecipesofindia.com/whole-wheat-veg-pizza-recipe/', 'http://www.vegrecipesofindia.com/bread-pizza-recipe-vegetable-bread-pizza/', 'http://www.vegrecipesofindia.com/margherita-pizza-recipe/', 'http://www.vegrecipesofindia.com/tawa-pizza-recipe-no-yeast-pizza/', 'http://www.vegrecipesofindia.com/veg-manchurian-dry-recipe/', 'http://www.vegrecipesofindia.com/veg-manchurian-veg-manchurian-gravy/', 'http://www.vegrecipesofindia.com/falafel-recipe-traditional-falafel-recipe/', 'http://www.vegrecipesofindia.com/falafel-recipe-chickpea-falafel-recipe/', 'http://www.vegrecipesofindia.com/whole-wheat-pita-bread-best-pita-bread-recipe/', 'http://www.vegrecipesofindia.com/basic-eggless-vanilla-cake-recipe/', 'http://www.vegrecipesofindia.com/eggless-black-forest-cake-recipe/', 'http://www.vegrecipesofindia.com/veg-manchow-soup-recipe/', 'http://www.vegrecipesofindia.com/vegetable-soup-recipe-mix-veg-soup/', 'http://www.vegrecipesofindia.com/sweet-corn-soup-recipe/', 'http://www.vegrecipesofindia.com/veg-burger-recipe-veggie-burger/', 'http://www.vegrecipesofindia.com/french-fries-navratri-recipe/', 'http://www.vegrecipesofindia.com/vegetable-cutlet-easy-veg-cutlet-recipe/', 'http://www.vegrecipesofindia.com/veg-nuggets-recipe-veggie-nuggets/', 'http://www.vegrecipesofindia.com/veg-puffs-recipe-vegetable-puff/', 'http://www.vegrecipesofindia.com/cheese-balls-recipe/', 'http://www.vegrecipesofindia.com/chilli-baby-corn/', 'http://www.vegrecipesofindia.com/chilli-paneer-dry-recipe/', 'http://www.vegrecipesofindia.com/top-10-veg-recipes-world-cuisine/#comment-546533', 'http://www.vegrecipesofindia.com/top-10-veg-recipes-world-cuisine/#comment-546681', 'http://www.vegrecipesofindia.com/top-10-veg-recipes-world-cuisine/#comment-532891', 'http://www.vegrecipesofindia.com/top-10-veg-recipes-world-cuisine/#comment-533097', 'http://www.vegrecipesofindia.com/top-10-veg-recipes-world-cuisine/#comment-531957', 'http://www.vegrecipesofindia.com/top-10-veg-recipes-world-cuisine/#comment-532002', 'http://www.vegrecipesofindia.com/hi/', 'http://www.vegrecipesofindia.com/hi/kala-chana-recipe/', 'http://www.vegrecipesofindia.com/hi/banana-cake-recipe/', 'http://www.vegrecipesofindia.com/hi/atta-halwa-recipe/', 'http://www.vegrecipesofindia.com/hi/vegetable-soup-recipe/', 'http://www.vegrecipesofindia.com/hi/moong-dal-fry-recipe/', 'http://www.vegrecipesofindia.com/hi/recipes/street-food-recipes/', 'http://www.vegrecipesofindia.com/hi/recipes/indo-chinese-recipes-hindi/', 'http://www.vegrecipesofindia.com/hi/recipes/north-indian-recipes-hi/', 'http://www.vegrecipesofindia.com/hi/recipes/curry-recipes-hindi/', 'http://www.vegrecipesofindia.com/hi/recipes/rice-recipes-hindi/', 'http://www.vegrecipesofindia.com/hi/recipes/tiffin-recipes-hindi/', 'http://www.vegrecipesofindia.com/hi/recipes/south-indian-recipes/', 'http://www.vegrecipesofindia.com/hi/recipes/dal-recipes-hindi/', 'http://www.vegrecipesofindia.com/hi/recipes/breakfast-recipes-hindi/', 'http://www.vegrecipesofindia.com/hi/recipes/punjabi-recipes-hindi/', 'http://www.vegrecipesofindia.com/hi/recipes/paneer-recipes-in-hindi/', 'http://www.vegrecipesofindia.com/hi/recipes/kids-recipes-in-hindi/', 'http://www.vegrecipesofindia.com/hi/recipes/desserts-sweets-hindi/', 'http://www.vegrecipesofindia.com/hi/recipes/dinner-recipe-in-hindi/', 'http://www.vegrecipesofindia.com/hi/recipes/vegan-recipes-hindi/', 'http://www.vegrecipesofindia.com/hi/recipes/vegetable-recipes-hindi/']\n"
     ]
    }
   ],
   "source": [
    "crawl(\"http://www.vegrecipesofindia.com/ragi-roti-recipe/\",3)\n",
    "print(already_visited)"
   ]
  },
  {
   "cell_type": "code",
   "execution_count": 102,
   "metadata": {
    "collapsed": false
   },
   "outputs": [],
   "source": [
    "\n",
    "\n"
   ]
  },
  {
   "cell_type": "markdown",
   "metadata": {},
   "source": [
    "\n",
    "# <span style=\"color:red\">Section 2</span>\n",
    "<span style=\"color:red\">Construct cells immediately below this that spider webcontent from another site with content relating to your anticipated final project. Specifically, identify urls on a core page, then follow and extract content from them into a pandas `Dataframe`. In addition, demonstrate a *recursive* spider, which follows more than one level of links (i.e., follows links from a site, then follows links on followed sites to new sites, etc.), making sure to define a reasonable endpoint so that you do not wander the web forever :-).</span>\n",
    "\n"
   ]
  },
  {
   "cell_type": "code",
   "execution_count": 97,
   "metadata": {
    "collapsed": false
   },
   "outputs": [
    {
     "data": {
      "text/plain": [
       "[]"
      ]
     },
     "execution_count": 97,
     "metadata": {},
     "output_type": "execute_result"
    }
   ],
   "source": [
    "recipes"
   ]
  },
  {
   "cell_type": "code",
   "execution_count": null,
   "metadata": {
    "collapsed": false
   },
   "outputs": [],
   "source": []
  },
  {
   "cell_type": "markdown",
   "metadata": {},
   "source": [
    "## API (Tumblr)\n",
    "\n",
    "Generally website owners do not like you scraping their sites. If done badly,\n",
    "scarping can act like a DOS attack so you should be careful how often you make\n",
    "calls to a site. Some sites want automated tools to access their data, so they\n",
    "create [application programming interface\n",
    "(APIs)](https://en.wikipedia.org/wiki/Application_programming_interface). An API\n",
    "specifies a procedure for an application (or script) to access their data. Often\n",
    "this is though a [representational state transfer\n",
    "(REST)](https://en.wikipedia.org/wiki/Representational_state_transfer) web\n",
    "service, which just means if you make correctly formatted HTTP requests they\n",
    "will return nicely formatted data.\n",
    "\n",
    "A nice example for us to study is [Tumblr](https://www.tumblr.com), they have a\n",
    "[simple RESTful API](https://www.tumblr.com/docs/en/api/v1) that allows you to\n",
    "read posts without any complicated html parsing.\n",
    "\n",
    "We can get the first 20 posts from a blog by making an http GET request to\n",
    "`'http://{blog}.tumblr.com/api/read/json'`, were `{blog}` is the name of the\n",
    "target blog. Lets try and get the posts from [http://lolcats-lol-\n",
    "cat.tumblr.com/](http://lolcats-lol-cat.tumblr.com/) (Note the blog says at the\n",
    "top 'One hour one pic lolcats', but the canonical name that Tumblr uses is in\n",
    "the URL 'lolcats-lol-cat')."
   ]
  },
  {
   "cell_type": "code",
   "execution_count": null,
   "metadata": {
    "collapsed": false
   },
   "outputs": [],
   "source": [
    "tumblrAPItarget = 'http://{}.tumblr.com/api/read/json'\n",
    "\n",
    "r = requests.get(tumblrAPItarget.format('lolcats-lol-cat'))\n",
    "\n",
    "print(r.text[:1000])"
   ]
  },
  {
   "cell_type": "markdown",
   "metadata": {},
   "source": [
    "This might not look very good on first inspection, but it has far fewer angle\n",
    "braces than html, which makes it easier to parse. What we have is\n",
    "[JSON](https://en.wikipedia.org/wiki/JSON) a 'human readable' text based data\n",
    "transmission format based on javascript. Luckily, we can readily convert it to a\n",
    "python `dict`."
   ]
  },
  {
   "cell_type": "code",
   "execution_count": null,
   "metadata": {
    "collapsed": false
   },
   "outputs": [],
   "source": [
    "#We need to load only the stuff between the curly braces\n",
    "d = json.loads(r.text[len('var tumblr_api_read = '):-2])\n",
    "print(d.keys())\n",
    "print(len(d['posts']))"
   ]
  },
  {
   "cell_type": "markdown",
   "metadata": {},
   "source": [
    "If we read the [API specification](https://www.tumblr.com/docs/en/api/v1), we\n",
    "will see there are a lot of things we can get if we add things to our GET\n",
    "request. First we can retrieve posts by their id number. Let's first get post\n",
    "`146020177084`."
   ]
  },
  {
   "cell_type": "code",
   "execution_count": null,
   "metadata": {
    "collapsed": true
   },
   "outputs": [],
   "source": [
    "r = requests.get(tumblrAPItarget.format('lolcats-lol-cat'), params = {'id' : 146020177084})\n",
    "d = json.loads(r.text[len('var tumblr_api_read = '):-2])\n",
    "d['posts'][0].keys()\n",
    "d['posts'][0]['photo-url-1280']\n",
    "\n",
    "with open('lolcat.gif', 'wb') as f:\n",
    "    gifRequest = requests.get(d['posts'][0]['photo-url-1280'], stream = True)\n",
    "    f.write(gifRequest.content)"
   ]
  },
  {
   "cell_type": "markdown",
   "metadata": {},
   "source": [
    "<img src='lolcat.gif'>\n",
    "\n",
    "Such beauty; such vigor (If you can't see it you have to refresh the page). Now\n",
    "we could retrieve the text from all posts as well\n",
    "as related metadata, like the post date, caption or tags. We could also get\n",
    "links to all the images."
   ]
  },
  {
   "cell_type": "code",
   "execution_count": null,
   "metadata": {
    "collapsed": false
   },
   "outputs": [],
   "source": [
    "#Putting a max in case the blog has millions of images\n",
    "#The given max will be rounded up to the nearest multiple of 50\n",
    "def tumblrImageScrape(blogName, maxImages = 200):\n",
    "    #Restating this here so the function isn't dependent on any external variables\n",
    "    tumblrAPItarget = 'http://{}.tumblr.com/api/read/json'\n",
    "\n",
    "    #There are a bunch of possible locations for the photo url\n",
    "    possiblePhotoSuffixes = [1280, 500, 400, 250, 100]\n",
    "\n",
    "    #These are the pieces of information we will be gathering,\n",
    "    #at the end we will convert this to a DataFrame.\n",
    "    #There are a few other datums we could gather like the captions\n",
    "    #you can read the Tumblr documentation to learn how to get them\n",
    "    #https://www.tumblr.com/docs/en/api/v1\n",
    "    postsData = {\n",
    "        'id' : [],\n",
    "        'photo-url' : [],\n",
    "        'date' : [],\n",
    "        'tags' : [],\n",
    "        'photo-type' : []\n",
    "    }\n",
    "\n",
    "    #Tumblr limits us to a max of 50 posts per request\n",
    "    for requestNum in range(maxImages // 50):\n",
    "        requestParams = {\n",
    "            'start' : requestNum * 50,\n",
    "            'num' : 50,\n",
    "            'type' : 'photo'\n",
    "        }\n",
    "        r = requests.get(tumblrAPItarget.format(blogName), params = requestParams)\n",
    "        requestDict = json.loads(r.text[len('var tumblr_api_read = '):-2])\n",
    "        for postDict in requestDict['posts']:\n",
    "            #We are dealing with uncleaned data, we can't trust it.\n",
    "            #Specifically, not all posts are guaranteed to have the fields we want\n",
    "            try:\n",
    "                postsData['id'].append(postDict['id'])\n",
    "                postsData['date'].append(postDict['date'])\n",
    "                postsData['tags'].append(postDict['tags'])\n",
    "            except KeyError as e:\n",
    "                raise KeyError(\"Post {} from {} is missing: {}\".format(postDict['id'], blogName, e))\n",
    "\n",
    "            foundSuffix = False\n",
    "            for suffix in possiblePhotoSuffixes:\n",
    "                try:\n",
    "                    photoURL = postDict['photo-url-{}'.format(suffix)]\n",
    "                    postsData['photo-url'].append(photoURL)\n",
    "                    postsData['photo-type'].append(photoURL.split('.')[-1])\n",
    "                    foundSuffix = True\n",
    "                    break\n",
    "                except KeyError:\n",
    "                    pass\n",
    "            if not foundSuffix:\n",
    "                #Make sure your error messages are useful\n",
    "                #You will be one of the users\n",
    "                raise KeyError(\"Post {} from {} is missing a photo url\".format(postDict['id'], blogName))\n",
    "\n",
    "    return pandas.DataFrame(postsData)\n",
    "tumblrImageScrape('lolcats-lol-cat', 50)"
   ]
  },
  {
   "cell_type": "markdown",
   "metadata": {},
   "source": [
    "Now we have the urls of a bunch of images and can run OCR on them to gather\n",
    "compelling meme narratives, accompanied by cats.\n",
    "\n",
    "# Files\n",
    "\n",
    "What if the text we want isn't on a webpage? There are a many other sources of\n",
    "text available, typically organized into *files*.\n",
    "\n",
    "## Raw text (and encoding)\n",
    "\n",
    "The most basic form of storing text is as a _raw text_ document. Source code\n",
    "(`.py`, `.r`, etc) is usually raw text as are text files (`.txt`) and those with\n",
    "many other extension (e.g., .csv, .dat, etc.). Opening an unknown file with a\n",
    "text editor is often a great way of learning what the file is.\n",
    "\n",
    "We can create a text file in python with the `open()` function"
   ]
  },
  {
   "cell_type": "code",
   "execution_count": 5,
   "metadata": {
    "collapsed": true
   },
   "outputs": [],
   "source": [
    "#example_text_file = 'sometextfile.txt'\n",
    "#stringToWrite = 'A line\\nAnother line\\nA line with a few unusual symbols \\u2421 \\u241B \\u20A0 \\u20A1 \\u20A2 \\u20A3 \\u0D60\\n'\n",
    "stringToWrite = 'A line\\nAnother line\\nA line with a few unusual symbols ␡ ␛ ₠ ₡ ₢ ₣ ൠ\\n'\n",
    "\n",
    "with open(example_text_file, mode = 'w', encoding='utf-8') as f:\n",
    "    f.write(stringToWrite)"
   ]
  },
  {
   "cell_type": "markdown",
   "metadata": {},
   "source": [
    "Notice the `encoding='utf-8'` argument, which specifies how we map the bits from\n",
    "the file to the glyphs (and whitespace characters like tab (`'\\t'`) or newline\n",
    "(`'\\n'`)) on the screen. When dealing only with latin letters, arabic numerals\n",
    "and the other symbols on America keyboards you usually do not have to worry\n",
    "about encodings as the ones used today are backwards compatible with\n",
    "[ASCII](https://en.wikipedia.org/wiki/ASCII), which gives the binary\n",
    "representation of 128 characters.\n",
    "\n",
    "Some of you, however, will want to use other characters (e.g., Chinese\n",
    "characters). To solve this there is\n",
    "[Unicode](https://en.wikipedia.org/wiki/Unicode) which assigns numbers to\n",
    "symbols, e.g., 041 is `'A'` and 03A3 is `'Σ'` (numbers starting with 0 are\n",
    "hexadecimal). Often non/beyond-ASCII characters are called Unicode characters.\n",
    "Unicode contains 1,114,112 characters, about 10\\% of which have been assigned.\n",
    "Unfortunately there are many ways used to map combinations of bits to Unicode\n",
    "symbols. The ones you are likely to encounter are called by Python _utf-8_,\n",
    "_utf-16_ and _latin-1_. _utf-8_ is the standard for Linux and Mac OS while both\n",
    "_utf-16_ and _latin-1_ are used by windows. If you use the wrong encoding,\n",
    "characters can appear wrong, sometimes change in number or Python could raise an\n",
    "exception. Lets see what happens when we open the file we just created with\n",
    "different encodings."
   ]
  },
  {
   "cell_type": "code",
   "execution_count": 6,
   "metadata": {
    "collapsed": false
   },
   "outputs": [
    {
     "name": "stdout",
     "output_type": "stream",
     "text": [
      "This is with the correct encoding:\n",
      "A line\n",
      "Another line\n",
      "A line with a few unusual symbols ␡ ␛ ₠ ₡ ₢ ₣ ൠ\n",
      "\n",
      "This is with the wrong encoding:\n",
      "A line\n",
      "Another line\n",
      "A line with a few unusual symbols â¡ â â  â¡ â¢ â£ àµ \n",
      "\n"
     ]
    }
   ],
   "source": [
    "with open(example_text_file, encoding='utf-8') as f:\n",
    "    print(\"This is with the correct encoding:\")\n",
    "    print(f.read())\n",
    "\n",
    "with open(example_text_file, encoding='latin-1') as f:\n",
    "    print(\"This is with the wrong encoding:\")\n",
    "    print(f.read())"
   ]
  },
  {
   "cell_type": "markdown",
   "metadata": {},
   "source": [
    "Notice that with _latin-1_ the unicode characters are mixed up and there are too\n",
    "many of them. You need to keep in mind encoding when obtaining text files.\n",
    "Determining the encoding can sometime involve substantial work."
   ]
  },
  {
   "cell_type": "markdown",
   "metadata": {},
   "source": [
    "We can also load many text files at once. LEts tart by looking at the Shakespeare files in the `data` directory "
   ]
  },
  {
   "cell_type": "code",
   "execution_count": 19,
   "metadata": {
    "collapsed": false
   },
   "outputs": [
    {
     "ename": "UnicodeDecodeError",
     "evalue": "'utf-8' codec can't decode byte 0xa3 in position 891181: invalid start byte",
     "output_type": "error",
     "traceback": [
      "\u001b[0;31m---------------------------------------------------------------------------\u001b[0m",
      "\u001b[0;31mUnicodeDecodeError\u001b[0m                        Traceback (most recent call last)",
      "\u001b[0;32m<ipython-input-19-f4fc51eab252>\u001b[0m in \u001b[0;36m<module>\u001b[0;34m()\u001b[0m\n\u001b[1;32m      1\u001b[0m \u001b[0;32mwith\u001b[0m \u001b[0mopen\u001b[0m\u001b[0;34m(\u001b[0m\u001b[0;34m'../data/Austen/mansfield_park.txt'\u001b[0m\u001b[0;34m)\u001b[0m \u001b[0;32mas\u001b[0m \u001b[0mf\u001b[0m\u001b[0;34m:\u001b[0m\u001b[0;34m\u001b[0m\u001b[0m\n\u001b[0;32m----> 2\u001b[0;31m     \u001b[0mmidsummer\u001b[0m \u001b[0;34m=\u001b[0m \u001b[0mf\u001b[0m\u001b[0;34m.\u001b[0m\u001b[0mread\u001b[0m\u001b[0;34m(\u001b[0m\u001b[0;34m)\u001b[0m\u001b[0;34m\u001b[0m\u001b[0m\n\u001b[0m\u001b[1;32m      3\u001b[0m \u001b[0mprint\u001b[0m\u001b[0;34m(\u001b[0m\u001b[0mmidsummer\u001b[0m\u001b[0;34m)\u001b[0m\u001b[0;34m\u001b[0m\u001b[0m\n",
      "\u001b[0;32m/Users/sushmitavgopalan/anaconda/lib/python3.5/codecs.py\u001b[0m in \u001b[0;36mdecode\u001b[0;34m(self, input, final)\u001b[0m\n\u001b[1;32m    319\u001b[0m         \u001b[0;31m# decode input (taking the buffer into account)\u001b[0m\u001b[0;34m\u001b[0m\u001b[0;34m\u001b[0m\u001b[0m\n\u001b[1;32m    320\u001b[0m         \u001b[0mdata\u001b[0m \u001b[0;34m=\u001b[0m \u001b[0mself\u001b[0m\u001b[0;34m.\u001b[0m\u001b[0mbuffer\u001b[0m \u001b[0;34m+\u001b[0m \u001b[0minput\u001b[0m\u001b[0;34m\u001b[0m\u001b[0m\n\u001b[0;32m--> 321\u001b[0;31m         \u001b[0;34m(\u001b[0m\u001b[0mresult\u001b[0m\u001b[0;34m,\u001b[0m \u001b[0mconsumed\u001b[0m\u001b[0;34m)\u001b[0m \u001b[0;34m=\u001b[0m \u001b[0mself\u001b[0m\u001b[0;34m.\u001b[0m\u001b[0m_buffer_decode\u001b[0m\u001b[0;34m(\u001b[0m\u001b[0mdata\u001b[0m\u001b[0;34m,\u001b[0m \u001b[0mself\u001b[0m\u001b[0;34m.\u001b[0m\u001b[0merrors\u001b[0m\u001b[0;34m,\u001b[0m \u001b[0mfinal\u001b[0m\u001b[0;34m)\u001b[0m\u001b[0;34m\u001b[0m\u001b[0m\n\u001b[0m\u001b[1;32m    322\u001b[0m         \u001b[0;31m# keep undecoded input until the next call\u001b[0m\u001b[0;34m\u001b[0m\u001b[0;34m\u001b[0m\u001b[0m\n\u001b[1;32m    323\u001b[0m         \u001b[0mself\u001b[0m\u001b[0;34m.\u001b[0m\u001b[0mbuffer\u001b[0m \u001b[0;34m=\u001b[0m \u001b[0mdata\u001b[0m\u001b[0;34m[\u001b[0m\u001b[0mconsumed\u001b[0m\u001b[0;34m:\u001b[0m\u001b[0;34m]\u001b[0m\u001b[0;34m\u001b[0m\u001b[0m\n",
      "\u001b[0;31mUnicodeDecodeError\u001b[0m: 'utf-8' codec can't decode byte 0xa3 in position 891181: invalid start byte"
     ]
    }
   ],
   "source": [
    "with open('../data/Austen/mansfield_park.txt') as f:\n",
    "    midsummer = f.read()\n",
    "print(midsummer)"
   ]
  },
  {
   "cell_type": "markdown",
   "metadata": {},
   "source": [
    "Then to load all the files in `../data/Shakespeare` we can use a for loop with `scandir`:"
   ]
  },
  {
   "cell_type": "code",
   "execution_count": 25,
   "metadata": {
    "collapsed": false
   },
   "outputs": [],
   "source": []
  },
  {
   "cell_type": "markdown",
   "metadata": {},
   "source": [
    "Then we can put them all in pandas DataFrame"
   ]
  },
  {
   "cell_type": "code",
   "execution_count": 104,
   "metadata": {
    "collapsed": false
   },
   "outputs": [
    {
     "data": {
      "text/html": [
       "<div>\n",
       "<table border=\"1\" class=\"dataframe\">\n",
       "  <thead>\n",
       "    <tr style=\"text-align: right;\">\n",
       "      <th></th>\n",
       "      <th>text</th>\n",
       "    </tr>\n",
       "  </thead>\n",
       "  <tbody>\n",
       "    <tr>\n",
       "      <th>emma.txt</th>\n",
       "      <td>The Project Gutenberg EBook of Emma, by Jane A...</td>\n",
       "    </tr>\n",
       "    <tr>\n",
       "      <th>northanger_abbey.txt</th>\n",
       "      <td>The Project Gutenberg EBook of Northanger Abbe...</td>\n",
       "    </tr>\n",
       "    <tr>\n",
       "      <th>persuasion.txt</th>\n",
       "      <td>The Project Gutenberg EBook of Persuasion, by ...</td>\n",
       "    </tr>\n",
       "    <tr>\n",
       "      <th>pride_and_prejudice.txt</th>\n",
       "      <td>The Project Gutenberg EBook of Pride and Preju...</td>\n",
       "    </tr>\n",
       "    <tr>\n",
       "      <th>sense_and_sensibility.txt</th>\n",
       "      <td>The Project Gutenberg EBook of Sense and Sensi...</td>\n",
       "    </tr>\n",
       "  </tbody>\n",
       "</table>\n",
       "</div>"
      ],
      "text/plain": [
       "                                                                        text\n",
       "emma.txt                   The Project Gutenberg EBook of Emma, by Jane A...\n",
       "northanger_abbey.txt       The Project Gutenberg EBook of Northanger Abbe...\n",
       "persuasion.txt             The Project Gutenberg EBook of Persuasion, by ...\n",
       "pride_and_prejudice.txt    The Project Gutenberg EBook of Pride and Preju...\n",
       "sense_and_sensibility.txt  The Project Gutenberg EBook of Sense and Sensi..."
      ]
     },
     "execution_count": 104,
     "metadata": {},
     "output_type": "execute_result"
    }
   ],
   "source": []
  },
  {
   "cell_type": "markdown",
   "metadata": {},
   "source": [
    "Getting your text in a format like this is the first step of most analysis"
   ]
  },
  {
   "cell_type": "markdown",
   "metadata": {},
   "source": [
    "## PDF\n",
    "\n",
    "Another common way text will be stored is in a PDF file. First we will download\n",
    "a pdf in Python. To do that lets grab a chapter from\n",
    "_Speech and Language Processing_, chapter 21 is on Information Extraction which\n",
    "seems apt. It is stored as a pdf at [https://web.stanford.edu/~jurafsky/slp3/21.\n",
    "pdf](https://web.stanford.edu/~jurafsky/slp3/21.pdf) although we are downloading\n",
    "from a copy just in case Jurafsky changes their website."
   ]
  },
  {
   "cell_type": "code",
   "execution_count": 23,
   "metadata": {
    "collapsed": false
   },
   "outputs": [],
   "source": [
    "information_extraction_pdf = 'https://github.com/KnowledgeLab/content_analysis/raw/data/21.pdf'\n",
    "https://github.com/KnowledgeLab/content_analysis/raw/data/21.pdf\n",
    "infoExtractionRequest = requests.get(information_extraction_pdf, stream=True)\n",
    "print(infoExtractionRequest.text[:1000])"
   ]
  },
  {
   "cell_type": "markdown",
   "metadata": {},
   "source": [
    "It says `'pdf'`, so thats a good sign. The rest though looks like we are having\n",
    "issues with an encoding. The random characters are not caused by our encoding\n",
    "being wrong, however. They are cause by there not being an encoding for those\n",
    "parts at all. PDFs are nominally binary files, meaning there are sections of\n",
    "binary that are specific to pdf and nothing else so you need something that\n",
    "knows about pdf to read them. To do that we will be using\n",
    "[`PyPDF2`](https://github.com/mstamy2/PyPDF2), a PDF processing library for\n",
    "Python 3.\n",
    "\n",
    "\n",
    "Because PDFs are a very complicated file format pdfminer requires a large amount\n",
    "of boilerplate code to extract text, we have written a function that takes in an\n",
    "open PDF file and returns the text so you don't have to."
   ]
  },
  {
   "cell_type": "code",
   "execution_count": 96,
   "metadata": {
    "collapsed": true
   },
   "outputs": [],
   "source": [
    "def readPDF(pdfFile):\n",
    "    #Based on code from http://stackoverflow.com/a/20905381/4955164\n",
    "    #Using utf-8, if there are a bunch of random symbols try changing this\n",
    "    codec = 'utf-8'\n",
    "    rsrcmgr = pdfminer.pdfinterp.PDFResourceManager()\n",
    "    retstr = io.StringIO()\n",
    "    layoutParams = pdfminer.layout.LAParams()\n",
    "    device = pdfminer.converter.TextConverter(rsrcmgr, retstr, laparams = layoutParams, codec = codec)\n",
    "    #We need a device and an interpreter\n",
    "    interpreter = pdfminer.pdfinterp.PDFPageInterpreter(rsrcmgr, device)\n",
    "    password = ''\n",
    "    maxpages = 0\n",
    "    caching = True\n",
    "    pagenos=set()\n",
    "    for page in pdfminer.pdfpage.PDFPage.get_pages(pdfFile, pagenos, maxpages=maxpages, password=password,caching=caching, check_extractable=True):\n",
    "        interpreter.process_page(page)\n",
    "    device.close()\n",
    "    returnedString = retstr.getvalue()\n",
    "    retstr.close()\n",
    "    return returnedString"
   ]
  },
  {
   "cell_type": "markdown",
   "metadata": {},
   "source": [
    "First we need to take the response object and convert it into a 'file like'\n",
    "object so that pdfminer can read it. To do this we will use `io`'s `BytesIO`."
   ]
  },
  {
   "cell_type": "code",
   "execution_count": 97,
   "metadata": {
    "collapsed": false
   },
   "outputs": [],
   "source": [
    "infoExtractionBytes = io.BytesIO(infoExtractionRequest.content)"
   ]
  },
  {
   "cell_type": "markdown",
   "metadata": {},
   "source": [
    "Now we can give it to pdfminer."
   ]
  },
  {
   "cell_type": "code",
   "execution_count": 22,
   "metadata": {
    "collapsed": false
   },
   "outputs": [],
   "source": [
    "print(readPDF(infoExtractionBytes)[:550])"
   ]
  },
  {
   "cell_type": "markdown",
   "metadata": {},
   "source": [
    "From here we can either look at the full text or fiddle with our PDF reader and\n",
    "get more information about individual blocks of text.\n",
    "\n",
    "## Word Docs\n",
    "\n",
    "The other type of document you are likely to encounter is the `.docx`, these are\n",
    "actually a version of [XML](https://en.wikipedia.org/wiki/Office_Open_XML), just\n",
    "like HTML, and like HTML we will use a specialized parser.\n",
    "\n",
    "For this class we will use [`python-docx`](https://python-\n",
    "docx.readthedocs.io/en/latest/) which provides a nice simple interface for\n",
    "reading `.docx` files"
   ]
  },
  {
   "cell_type": "code",
   "execution_count": null,
   "metadata": {
    "collapsed": false
   },
   "outputs": [],
   "source": [
    "#example_docx = 'https://github.com/KnowledgeLab/content_analysis/raw/data/example_doc.docx'\n",
    "\n",
    "r = requests.get(example_docx, stream=True)\n",
    "d = docx.Document(io.BytesIO(r.content))\n",
    "for paragraph in d.paragraphs[:7]:\n",
    "    print(paragraph.text)"
   ]
  },
  {
   "cell_type": "markdown",
   "metadata": {},
   "source": [
    "This procedure uses the `io.BytesIO` class again, since `docx.Document` expects\n",
    "a file. Another way to do it is to save the document to a file and then read it\n",
    "like any other file. If we do this we can either delete the file afterwords, or\n",
    "save it and avoid downloading the following time.\n",
    "\n",
    "This function is useful as a part of many different tasks so it and others like it will be added to the helper package `lucem_illud` so we can use it later without having to retype it."
   ]
  },
  {
   "cell_type": "code",
   "execution_count": null,
   "metadata": {
    "collapsed": true
   },
   "outputs": [],
   "source": [
    "def downloadIfNeeded(targetURL, outputFile, **openkwargs):\n",
    "    if not os.path.isfile(outputFile):\n",
    "        outputDir = os.path.dirname(outputFile)\n",
    "        #This function is a more general os.mkdir()\n",
    "        if len(outputDir) > 0:\n",
    "            os.makedirs(outputDir, exist_ok = True)\n",
    "        r = requests.get(targetURL, stream=True)\n",
    "        #Using a closure like this is generally better than having to\n",
    "        #remember to close the file. There are ways to make this function\n",
    "        #work as a closure too\n",
    "        with open(outputFile, 'wb') as f:\n",
    "            f.write(r.content)\n",
    "    return open(outputFile, **openkwargs)"
   ]
  },
  {
   "cell_type": "markdown",
   "metadata": {},
   "source": [
    "This function will download, save and open `outputFile` as `outputFile` or just\n",
    "open it if `outputFile` exists. By default `open()` will open the file as read\n",
    "only text with the local encoding, which may cause issues if its not a text\n",
    "file."
   ]
  },
  {
   "cell_type": "code",
   "execution_count": null,
   "metadata": {
    "collapsed": false
   },
   "outputs": [],
   "source": [
    "try:\n",
    "    d = docx.Document(downloadIfNeeded(example_docx, example_docx_save))\n",
    "except Exception as e:\n",
    "    print(e)"
   ]
  },
  {
   "cell_type": "markdown",
   "metadata": {},
   "source": [
    "We need to tell `open()` to read in binary mode (`'rb'`), this is why we added\n",
    "`**openkwargs`, this allows us to pass any keyword arguments (kwargs) from\n",
    "`downloadIfNeeded` to `open()`."
   ]
  },
  {
   "cell_type": "code",
   "execution_count": null,
   "metadata": {
    "collapsed": false
   },
   "outputs": [],
   "source": [
    "d = docx.Document(downloadIfNeeded(example_docx, example_docx_save, mode = 'rb'))\n",
    "for paragraph in d.paragraphs[:7]:\n",
    "    print(paragraph.text)"
   ]
  },
  {
   "cell_type": "markdown",
   "metadata": {},
   "source": [
    "Now we can read the file with `docx.Document` and not have to wait for it to be\n",
    "downloaded every time."
   ]
  },
  {
   "cell_type": "markdown",
   "metadata": {},
   "source": [
    "\n",
    "# <span style=\"color:red\">Section 3</span>\n",
    "<span style=\"color:red\">Construct cells immediately below this that extract and organize textual content from text, PDF or Word into a pandas dataframe.</span>\n"
   ]
  }
 ],
 "metadata": {
  "anaconda-cloud": {},
  "kernelspec": {
   "display_name": "Python [default]",
   "language": "python",
   "name": "python3"
  },
  "language_info": {
   "codemirror_mode": {
    "name": "ipython",
    "version": 3
   },
   "file_extension": ".py",
   "mimetype": "text/x-python",
   "name": "python",
   "nbconvert_exporter": "python",
   "pygments_lexer": "ipython3",
   "version": "3.5.2"
  }
 },
 "nbformat": 4,
 "nbformat_minor": 2
}
